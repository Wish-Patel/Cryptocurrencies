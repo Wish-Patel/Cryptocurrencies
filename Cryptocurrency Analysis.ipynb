{
 "cells": [
  {
   "cell_type": "code",
   "execution_count": 260,
   "metadata": {},
   "outputs": [],
   "source": [
    "import pandas as pd\n",
    "from sklearn.preprocessing import StandardScaler\n",
    "from sklearn.decomposition import PCA\n",
    "from sklearn.cluster import KMeans\n",
    "import hvplot.pandas"
   ]
  },
  {
   "cell_type": "code",
   "execution_count": 261,
   "metadata": {
    "scrolled": true
   },
   "outputs": [
    {
     "data": {
      "text/html": [
       "<div>\n",
       "<style scoped>\n",
       "    .dataframe tbody tr th:only-of-type {\n",
       "        vertical-align: middle;\n",
       "    }\n",
       "\n",
       "    .dataframe tbody tr th {\n",
       "        vertical-align: top;\n",
       "    }\n",
       "\n",
       "    .dataframe thead th {\n",
       "        text-align: right;\n",
       "    }\n",
       "</style>\n",
       "<table border=\"1\" class=\"dataframe\">\n",
       "  <thead>\n",
       "    <tr style=\"text-align: right;\">\n",
       "      <th></th>\n",
       "      <th>Name</th>\n",
       "      <th>CoinName</th>\n",
       "      <th>Algorithm</th>\n",
       "      <th>IsTrading</th>\n",
       "      <th>ProofType</th>\n",
       "      <th>TotalCoinsMined</th>\n",
       "      <th>TotalCoinSupply</th>\n",
       "    </tr>\n",
       "  </thead>\n",
       "  <tbody>\n",
       "    <tr>\n",
       "      <td>0</td>\n",
       "      <td>42</td>\n",
       "      <td>42 Coin</td>\n",
       "      <td>Scrypt</td>\n",
       "      <td>True</td>\n",
       "      <td>PoW/PoS</td>\n",
       "      <td>4.199995e+01</td>\n",
       "      <td>42</td>\n",
       "    </tr>\n",
       "    <tr>\n",
       "      <td>1</td>\n",
       "      <td>365</td>\n",
       "      <td>365Coin</td>\n",
       "      <td>X11</td>\n",
       "      <td>True</td>\n",
       "      <td>PoW/PoS</td>\n",
       "      <td>NaN</td>\n",
       "      <td>2300000000</td>\n",
       "    </tr>\n",
       "    <tr>\n",
       "      <td>2</td>\n",
       "      <td>404</td>\n",
       "      <td>404Coin</td>\n",
       "      <td>Scrypt</td>\n",
       "      <td>True</td>\n",
       "      <td>PoW/PoS</td>\n",
       "      <td>1.055185e+09</td>\n",
       "      <td>532000000</td>\n",
       "    </tr>\n",
       "    <tr>\n",
       "      <td>3</td>\n",
       "      <td>611</td>\n",
       "      <td>SixEleven</td>\n",
       "      <td>SHA-256</td>\n",
       "      <td>True</td>\n",
       "      <td>PoW</td>\n",
       "      <td>NaN</td>\n",
       "      <td>611000</td>\n",
       "    </tr>\n",
       "    <tr>\n",
       "      <td>4</td>\n",
       "      <td>808</td>\n",
       "      <td>808</td>\n",
       "      <td>SHA-256</td>\n",
       "      <td>True</td>\n",
       "      <td>PoW/PoS</td>\n",
       "      <td>0.000000e+00</td>\n",
       "      <td>0</td>\n",
       "    </tr>\n",
       "    <tr>\n",
       "      <td>...</td>\n",
       "      <td>...</td>\n",
       "      <td>...</td>\n",
       "      <td>...</td>\n",
       "      <td>...</td>\n",
       "      <td>...</td>\n",
       "      <td>...</td>\n",
       "      <td>...</td>\n",
       "    </tr>\n",
       "    <tr>\n",
       "      <td>1247</td>\n",
       "      <td>XBC</td>\n",
       "      <td>BitcoinPlus</td>\n",
       "      <td>Scrypt</td>\n",
       "      <td>True</td>\n",
       "      <td>PoS</td>\n",
       "      <td>1.283270e+05</td>\n",
       "      <td>1000000</td>\n",
       "    </tr>\n",
       "    <tr>\n",
       "      <td>1248</td>\n",
       "      <td>DVTC</td>\n",
       "      <td>DivotyCoin</td>\n",
       "      <td>Scrypt</td>\n",
       "      <td>False</td>\n",
       "      <td>PoW/PoS</td>\n",
       "      <td>2.149121e+07</td>\n",
       "      <td>100000000</td>\n",
       "    </tr>\n",
       "    <tr>\n",
       "      <td>1249</td>\n",
       "      <td>GIOT</td>\n",
       "      <td>Giotto Coin</td>\n",
       "      <td>Scrypt</td>\n",
       "      <td>False</td>\n",
       "      <td>PoW/PoS</td>\n",
       "      <td>NaN</td>\n",
       "      <td>233100000</td>\n",
       "    </tr>\n",
       "    <tr>\n",
       "      <td>1250</td>\n",
       "      <td>OPSC</td>\n",
       "      <td>OpenSourceCoin</td>\n",
       "      <td>SHA-256</td>\n",
       "      <td>False</td>\n",
       "      <td>PoW/PoS</td>\n",
       "      <td>NaN</td>\n",
       "      <td>21000000</td>\n",
       "    </tr>\n",
       "    <tr>\n",
       "      <td>1251</td>\n",
       "      <td>PUNK</td>\n",
       "      <td>SteamPunk</td>\n",
       "      <td>PoS</td>\n",
       "      <td>False</td>\n",
       "      <td>PoS</td>\n",
       "      <td>NaN</td>\n",
       "      <td>40000000</td>\n",
       "    </tr>\n",
       "  </tbody>\n",
       "</table>\n",
       "<p>1252 rows × 7 columns</p>\n",
       "</div>"
      ],
      "text/plain": [
       "      Name        CoinName Algorithm  IsTrading ProofType  TotalCoinsMined  \\\n",
       "0       42         42 Coin    Scrypt       True   PoW/PoS     4.199995e+01   \n",
       "1      365         365Coin       X11       True   PoW/PoS              NaN   \n",
       "2      404         404Coin    Scrypt       True   PoW/PoS     1.055185e+09   \n",
       "3      611       SixEleven   SHA-256       True       PoW              NaN   \n",
       "4      808             808   SHA-256       True   PoW/PoS     0.000000e+00   \n",
       "...    ...             ...       ...        ...       ...              ...   \n",
       "1247   XBC     BitcoinPlus    Scrypt       True       PoS     1.283270e+05   \n",
       "1248  DVTC      DivotyCoin    Scrypt      False   PoW/PoS     2.149121e+07   \n",
       "1249  GIOT     Giotto Coin    Scrypt      False   PoW/PoS              NaN   \n",
       "1250  OPSC  OpenSourceCoin   SHA-256      False   PoW/PoS              NaN   \n",
       "1251  PUNK       SteamPunk       PoS      False       PoS              NaN   \n",
       "\n",
       "     TotalCoinSupply  \n",
       "0                 42  \n",
       "1         2300000000  \n",
       "2          532000000  \n",
       "3             611000  \n",
       "4                  0  \n",
       "...              ...  \n",
       "1247         1000000  \n",
       "1248       100000000  \n",
       "1249       233100000  \n",
       "1250        21000000  \n",
       "1251        40000000  \n",
       "\n",
       "[1252 rows x 7 columns]"
      ]
     },
     "execution_count": 261,
     "metadata": {},
     "output_type": "execute_result"
    }
   ],
   "source": [
    "#loading data\n",
    "path = \"./Data/crypto_data.csv\"\n",
    "df = pd.read_csv(path)\n",
    "df.rename({'Unnamed: 0': 'Name'}, axis=1, inplace=True)\n",
    "df"
   ]
  },
  {
   "cell_type": "code",
   "execution_count": 262,
   "metadata": {
    "scrolled": false
   },
   "outputs": [],
   "source": [
    "crypto_df = df.copy()"
   ]
  },
  {
   "cell_type": "code",
   "execution_count": 263,
   "metadata": {},
   "outputs": [],
   "source": [
    "#1 removing all cryptocurrencies that aren't trading\n",
    "indexNames = crypto_df[crypto_df['IsTrading'] ==False].index\n",
    " \n",
    "# Delete these row indexes from dataFrame\n",
    "crypto_df.drop(indexNames , inplace=True)\n"
   ]
  },
  {
   "cell_type": "code",
   "execution_count": 264,
   "metadata": {},
   "outputs": [
    {
     "data": {
      "text/html": [
       "<div>\n",
       "<style scoped>\n",
       "    .dataframe tbody tr th:only-of-type {\n",
       "        vertical-align: middle;\n",
       "    }\n",
       "\n",
       "    .dataframe tbody tr th {\n",
       "        vertical-align: top;\n",
       "    }\n",
       "\n",
       "    .dataframe thead th {\n",
       "        text-align: right;\n",
       "    }\n",
       "</style>\n",
       "<table border=\"1\" class=\"dataframe\">\n",
       "  <thead>\n",
       "    <tr style=\"text-align: right;\">\n",
       "      <th></th>\n",
       "      <th>Name</th>\n",
       "      <th>CoinName</th>\n",
       "      <th>Algorithm</th>\n",
       "      <th>IsTrading</th>\n",
       "      <th>ProofType</th>\n",
       "      <th>TotalCoinsMined</th>\n",
       "      <th>TotalCoinSupply</th>\n",
       "    </tr>\n",
       "  </thead>\n",
       "  <tbody>\n",
       "    <tr>\n",
       "      <td>0</td>\n",
       "      <td>42</td>\n",
       "      <td>42 Coin</td>\n",
       "      <td>Scrypt</td>\n",
       "      <td>True</td>\n",
       "      <td>PoW/PoS</td>\n",
       "      <td>4.199995e+01</td>\n",
       "      <td>42</td>\n",
       "    </tr>\n",
       "    <tr>\n",
       "      <td>1</td>\n",
       "      <td>365</td>\n",
       "      <td>365Coin</td>\n",
       "      <td>X11</td>\n",
       "      <td>True</td>\n",
       "      <td>PoW/PoS</td>\n",
       "      <td>NaN</td>\n",
       "      <td>2300000000</td>\n",
       "    </tr>\n",
       "    <tr>\n",
       "      <td>2</td>\n",
       "      <td>404</td>\n",
       "      <td>404Coin</td>\n",
       "      <td>Scrypt</td>\n",
       "      <td>True</td>\n",
       "      <td>PoW/PoS</td>\n",
       "      <td>1.055185e+09</td>\n",
       "      <td>532000000</td>\n",
       "    </tr>\n",
       "    <tr>\n",
       "      <td>3</td>\n",
       "      <td>611</td>\n",
       "      <td>SixEleven</td>\n",
       "      <td>SHA-256</td>\n",
       "      <td>True</td>\n",
       "      <td>PoW</td>\n",
       "      <td>NaN</td>\n",
       "      <td>611000</td>\n",
       "    </tr>\n",
       "    <tr>\n",
       "      <td>4</td>\n",
       "      <td>808</td>\n",
       "      <td>808</td>\n",
       "      <td>SHA-256</td>\n",
       "      <td>True</td>\n",
       "      <td>PoW/PoS</td>\n",
       "      <td>0.000000e+00</td>\n",
       "      <td>0</td>\n",
       "    </tr>\n",
       "    <tr>\n",
       "      <td>...</td>\n",
       "      <td>...</td>\n",
       "      <td>...</td>\n",
       "      <td>...</td>\n",
       "      <td>...</td>\n",
       "      <td>...</td>\n",
       "      <td>...</td>\n",
       "      <td>...</td>\n",
       "    </tr>\n",
       "    <tr>\n",
       "      <td>1243</td>\n",
       "      <td>SERO</td>\n",
       "      <td>Super Zero</td>\n",
       "      <td>Ethash</td>\n",
       "      <td>True</td>\n",
       "      <td>PoW</td>\n",
       "      <td>NaN</td>\n",
       "      <td>1000000000</td>\n",
       "    </tr>\n",
       "    <tr>\n",
       "      <td>1244</td>\n",
       "      <td>UOS</td>\n",
       "      <td>UOS</td>\n",
       "      <td>SHA-256</td>\n",
       "      <td>True</td>\n",
       "      <td>DPoI</td>\n",
       "      <td>NaN</td>\n",
       "      <td>1000000000</td>\n",
       "    </tr>\n",
       "    <tr>\n",
       "      <td>1245</td>\n",
       "      <td>BDX</td>\n",
       "      <td>Beldex</td>\n",
       "      <td>CryptoNight</td>\n",
       "      <td>True</td>\n",
       "      <td>PoW</td>\n",
       "      <td>9.802226e+08</td>\n",
       "      <td>1400222610</td>\n",
       "    </tr>\n",
       "    <tr>\n",
       "      <td>1246</td>\n",
       "      <td>ZEN</td>\n",
       "      <td>Horizen</td>\n",
       "      <td>Equihash</td>\n",
       "      <td>True</td>\n",
       "      <td>PoW</td>\n",
       "      <td>7.296538e+06</td>\n",
       "      <td>21000000</td>\n",
       "    </tr>\n",
       "    <tr>\n",
       "      <td>1247</td>\n",
       "      <td>XBC</td>\n",
       "      <td>BitcoinPlus</td>\n",
       "      <td>Scrypt</td>\n",
       "      <td>True</td>\n",
       "      <td>PoS</td>\n",
       "      <td>1.283270e+05</td>\n",
       "      <td>1000000</td>\n",
       "    </tr>\n",
       "  </tbody>\n",
       "</table>\n",
       "<p>1144 rows × 7 columns</p>\n",
       "</div>"
      ],
      "text/plain": [
       "      Name     CoinName    Algorithm  IsTrading ProofType  TotalCoinsMined  \\\n",
       "0       42      42 Coin       Scrypt       True   PoW/PoS     4.199995e+01   \n",
       "1      365      365Coin          X11       True   PoW/PoS              NaN   \n",
       "2      404      404Coin       Scrypt       True   PoW/PoS     1.055185e+09   \n",
       "3      611    SixEleven      SHA-256       True       PoW              NaN   \n",
       "4      808          808      SHA-256       True   PoW/PoS     0.000000e+00   \n",
       "...    ...          ...          ...        ...       ...              ...   \n",
       "1243  SERO   Super Zero       Ethash       True       PoW              NaN   \n",
       "1244   UOS          UOS      SHA-256       True      DPoI              NaN   \n",
       "1245   BDX       Beldex  CryptoNight       True       PoW     9.802226e+08   \n",
       "1246   ZEN      Horizen     Equihash       True       PoW     7.296538e+06   \n",
       "1247   XBC  BitcoinPlus       Scrypt       True       PoS     1.283270e+05   \n",
       "\n",
       "     TotalCoinSupply  \n",
       "0                 42  \n",
       "1         2300000000  \n",
       "2          532000000  \n",
       "3             611000  \n",
       "4                  0  \n",
       "...              ...  \n",
       "1243      1000000000  \n",
       "1244      1000000000  \n",
       "1245      1400222610  \n",
       "1246        21000000  \n",
       "1247         1000000  \n",
       "\n",
       "[1144 rows x 7 columns]"
      ]
     },
     "execution_count": 264,
     "metadata": {},
     "output_type": "execute_result"
    }
   ],
   "source": [
    "#2 removing all cryptocurrencies that don’t have an algorithm defined\n",
    "crypto_df=crypto_df[crypto_df[\"Algorithm\"] != \"NaN\"]\n",
    "crypto_df.dropna(subset=['Algorithm'], how='all', inplace=True)\n",
    "crypto_df"
   ]
  },
  {
   "cell_type": "code",
   "execution_count": 265,
   "metadata": {
    "scrolled": false
   },
   "outputs": [
    {
     "data": {
      "text/html": [
       "<div>\n",
       "<style scoped>\n",
       "    .dataframe tbody tr th:only-of-type {\n",
       "        vertical-align: middle;\n",
       "    }\n",
       "\n",
       "    .dataframe tbody tr th {\n",
       "        vertical-align: top;\n",
       "    }\n",
       "\n",
       "    .dataframe thead th {\n",
       "        text-align: right;\n",
       "    }\n",
       "</style>\n",
       "<table border=\"1\" class=\"dataframe\">\n",
       "  <thead>\n",
       "    <tr style=\"text-align: right;\">\n",
       "      <th></th>\n",
       "      <th>Name</th>\n",
       "      <th>CoinName</th>\n",
       "      <th>Algorithm</th>\n",
       "      <th>ProofType</th>\n",
       "      <th>TotalCoinsMined</th>\n",
       "      <th>TotalCoinSupply</th>\n",
       "    </tr>\n",
       "  </thead>\n",
       "  <tbody>\n",
       "    <tr>\n",
       "      <td>0</td>\n",
       "      <td>42</td>\n",
       "      <td>42 Coin</td>\n",
       "      <td>Scrypt</td>\n",
       "      <td>PoW/PoS</td>\n",
       "      <td>4.199995e+01</td>\n",
       "      <td>42</td>\n",
       "    </tr>\n",
       "    <tr>\n",
       "      <td>1</td>\n",
       "      <td>365</td>\n",
       "      <td>365Coin</td>\n",
       "      <td>X11</td>\n",
       "      <td>PoW/PoS</td>\n",
       "      <td>NaN</td>\n",
       "      <td>2300000000</td>\n",
       "    </tr>\n",
       "    <tr>\n",
       "      <td>2</td>\n",
       "      <td>404</td>\n",
       "      <td>404Coin</td>\n",
       "      <td>Scrypt</td>\n",
       "      <td>PoW/PoS</td>\n",
       "      <td>1.055185e+09</td>\n",
       "      <td>532000000</td>\n",
       "    </tr>\n",
       "    <tr>\n",
       "      <td>3</td>\n",
       "      <td>611</td>\n",
       "      <td>SixEleven</td>\n",
       "      <td>SHA-256</td>\n",
       "      <td>PoW</td>\n",
       "      <td>NaN</td>\n",
       "      <td>611000</td>\n",
       "    </tr>\n",
       "    <tr>\n",
       "      <td>4</td>\n",
       "      <td>808</td>\n",
       "      <td>808</td>\n",
       "      <td>SHA-256</td>\n",
       "      <td>PoW/PoS</td>\n",
       "      <td>0.000000e+00</td>\n",
       "      <td>0</td>\n",
       "    </tr>\n",
       "    <tr>\n",
       "      <td>...</td>\n",
       "      <td>...</td>\n",
       "      <td>...</td>\n",
       "      <td>...</td>\n",
       "      <td>...</td>\n",
       "      <td>...</td>\n",
       "      <td>...</td>\n",
       "    </tr>\n",
       "    <tr>\n",
       "      <td>1243</td>\n",
       "      <td>SERO</td>\n",
       "      <td>Super Zero</td>\n",
       "      <td>Ethash</td>\n",
       "      <td>PoW</td>\n",
       "      <td>NaN</td>\n",
       "      <td>1000000000</td>\n",
       "    </tr>\n",
       "    <tr>\n",
       "      <td>1244</td>\n",
       "      <td>UOS</td>\n",
       "      <td>UOS</td>\n",
       "      <td>SHA-256</td>\n",
       "      <td>DPoI</td>\n",
       "      <td>NaN</td>\n",
       "      <td>1000000000</td>\n",
       "    </tr>\n",
       "    <tr>\n",
       "      <td>1245</td>\n",
       "      <td>BDX</td>\n",
       "      <td>Beldex</td>\n",
       "      <td>CryptoNight</td>\n",
       "      <td>PoW</td>\n",
       "      <td>9.802226e+08</td>\n",
       "      <td>1400222610</td>\n",
       "    </tr>\n",
       "    <tr>\n",
       "      <td>1246</td>\n",
       "      <td>ZEN</td>\n",
       "      <td>Horizen</td>\n",
       "      <td>Equihash</td>\n",
       "      <td>PoW</td>\n",
       "      <td>7.296538e+06</td>\n",
       "      <td>21000000</td>\n",
       "    </tr>\n",
       "    <tr>\n",
       "      <td>1247</td>\n",
       "      <td>XBC</td>\n",
       "      <td>BitcoinPlus</td>\n",
       "      <td>Scrypt</td>\n",
       "      <td>PoS</td>\n",
       "      <td>1.283270e+05</td>\n",
       "      <td>1000000</td>\n",
       "    </tr>\n",
       "  </tbody>\n",
       "</table>\n",
       "<p>1144 rows × 6 columns</p>\n",
       "</div>"
      ],
      "text/plain": [
       "      Name     CoinName    Algorithm ProofType  TotalCoinsMined  \\\n",
       "0       42      42 Coin       Scrypt   PoW/PoS     4.199995e+01   \n",
       "1      365      365Coin          X11   PoW/PoS              NaN   \n",
       "2      404      404Coin       Scrypt   PoW/PoS     1.055185e+09   \n",
       "3      611    SixEleven      SHA-256       PoW              NaN   \n",
       "4      808          808      SHA-256   PoW/PoS     0.000000e+00   \n",
       "...    ...          ...          ...       ...              ...   \n",
       "1243  SERO   Super Zero       Ethash       PoW              NaN   \n",
       "1244   UOS          UOS      SHA-256      DPoI              NaN   \n",
       "1245   BDX       Beldex  CryptoNight       PoW     9.802226e+08   \n",
       "1246   ZEN      Horizen     Equihash       PoW     7.296538e+06   \n",
       "1247   XBC  BitcoinPlus       Scrypt       PoS     1.283270e+05   \n",
       "\n",
       "     TotalCoinSupply  \n",
       "0                 42  \n",
       "1         2300000000  \n",
       "2          532000000  \n",
       "3             611000  \n",
       "4                  0  \n",
       "...              ...  \n",
       "1243      1000000000  \n",
       "1244      1000000000  \n",
       "1245      1400222610  \n",
       "1246        21000000  \n",
       "1247         1000000  \n",
       "\n",
       "[1144 rows x 6 columns]"
      ]
     },
     "execution_count": 265,
     "metadata": {},
     "output_type": "execute_result"
    }
   ],
   "source": [
    "#3 Remove the IsTrading column \n",
    "crypto_df = crypto_df.drop(\"IsTrading\", axis = 1)\n",
    "crypto_df"
   ]
  },
  {
   "cell_type": "code",
   "execution_count": 266,
   "metadata": {},
   "outputs": [
    {
     "data": {
      "text/plain": [
       "(991, 6)"
      ]
     },
     "execution_count": 266,
     "metadata": {},
     "output_type": "execute_result"
    }
   ],
   "source": [
    "#4 Remove all cryptocurrencies with at least one null value\n",
    "\n",
    "indexNames = crypto_df[crypto_df['TotalCoinsMined'] <=0].index\n",
    " \n",
    "# Delete these row indexes from dataFrame\n",
    "crypto_df.drop(indexNames , inplace=True)\n",
    "\n",
    "crypto_df.dropna(subset=['ProofType'], how='all', inplace=True)\n",
    "\n",
    "#crypto_df.dtypes\n",
    "\n",
    "crypto_df.shape"
   ]
  },
  {
   "cell_type": "code",
   "execution_count": 267,
   "metadata": {},
   "outputs": [
    {
     "data": {
      "text/html": [
       "<div>\n",
       "<style scoped>\n",
       "    .dataframe tbody tr th:only-of-type {\n",
       "        vertical-align: middle;\n",
       "    }\n",
       "\n",
       "    .dataframe tbody tr th {\n",
       "        vertical-align: top;\n",
       "    }\n",
       "\n",
       "    .dataframe thead th {\n",
       "        text-align: right;\n",
       "    }\n",
       "</style>\n",
       "<table border=\"1\" class=\"dataframe\">\n",
       "  <thead>\n",
       "    <tr style=\"text-align: right;\">\n",
       "      <th></th>\n",
       "      <th>CoinName</th>\n",
       "      <th>Algorithm</th>\n",
       "      <th>ProofType</th>\n",
       "      <th>TotalCoinsMined</th>\n",
       "      <th>TotalCoinSupply</th>\n",
       "    </tr>\n",
       "  </thead>\n",
       "  <tbody>\n",
       "    <tr>\n",
       "      <td>42</td>\n",
       "      <td>42 Coin</td>\n",
       "      <td>Scrypt</td>\n",
       "      <td>PoW/PoS</td>\n",
       "      <td>4.199995e+01</td>\n",
       "      <td>42</td>\n",
       "    </tr>\n",
       "    <tr>\n",
       "      <td>404</td>\n",
       "      <td>404Coin</td>\n",
       "      <td>Scrypt</td>\n",
       "      <td>PoW/PoS</td>\n",
       "      <td>1.055185e+09</td>\n",
       "      <td>532000000</td>\n",
       "    </tr>\n",
       "    <tr>\n",
       "      <td>1337</td>\n",
       "      <td>EliteCoin</td>\n",
       "      <td>X13</td>\n",
       "      <td>PoW/PoS</td>\n",
       "      <td>2.927942e+10</td>\n",
       "      <td>314159265359</td>\n",
       "    </tr>\n",
       "    <tr>\n",
       "      <td>BTC</td>\n",
       "      <td>Bitcoin</td>\n",
       "      <td>SHA-256</td>\n",
       "      <td>PoW</td>\n",
       "      <td>1.792718e+07</td>\n",
       "      <td>21000000</td>\n",
       "    </tr>\n",
       "    <tr>\n",
       "      <td>ETH</td>\n",
       "      <td>Ethereum</td>\n",
       "      <td>Ethash</td>\n",
       "      <td>PoW</td>\n",
       "      <td>1.076842e+08</td>\n",
       "      <td>0</td>\n",
       "    </tr>\n",
       "    <tr>\n",
       "      <td>LTC</td>\n",
       "      <td>Litecoin</td>\n",
       "      <td>Scrypt</td>\n",
       "      <td>PoW</td>\n",
       "      <td>6.303924e+07</td>\n",
       "      <td>84000000</td>\n",
       "    </tr>\n",
       "    <tr>\n",
       "      <td>DASH</td>\n",
       "      <td>Dash</td>\n",
       "      <td>X11</td>\n",
       "      <td>PoW/PoS</td>\n",
       "      <td>9.031294e+06</td>\n",
       "      <td>22000000</td>\n",
       "    </tr>\n",
       "    <tr>\n",
       "      <td>XMR</td>\n",
       "      <td>Monero</td>\n",
       "      <td>CryptoNight-V7</td>\n",
       "      <td>PoW</td>\n",
       "      <td>1.720114e+07</td>\n",
       "      <td>0</td>\n",
       "    </tr>\n",
       "    <tr>\n",
       "      <td>ETC</td>\n",
       "      <td>Ethereum Classic</td>\n",
       "      <td>Ethash</td>\n",
       "      <td>PoW</td>\n",
       "      <td>1.133597e+08</td>\n",
       "      <td>210000000</td>\n",
       "    </tr>\n",
       "    <tr>\n",
       "      <td>ZEC</td>\n",
       "      <td>ZCash</td>\n",
       "      <td>Equihash</td>\n",
       "      <td>PoW</td>\n",
       "      <td>7.383056e+06</td>\n",
       "      <td>21000000</td>\n",
       "    </tr>\n",
       "  </tbody>\n",
       "</table>\n",
       "</div>"
      ],
      "text/plain": [
       "              CoinName       Algorithm ProofType  TotalCoinsMined  \\\n",
       "42             42 Coin          Scrypt   PoW/PoS     4.199995e+01   \n",
       "404            404Coin          Scrypt   PoW/PoS     1.055185e+09   \n",
       "1337         EliteCoin             X13   PoW/PoS     2.927942e+10   \n",
       "BTC            Bitcoin         SHA-256       PoW     1.792718e+07   \n",
       "ETH           Ethereum          Ethash       PoW     1.076842e+08   \n",
       "LTC           Litecoin          Scrypt       PoW     6.303924e+07   \n",
       "DASH              Dash             X11   PoW/PoS     9.031294e+06   \n",
       "XMR             Monero  CryptoNight-V7       PoW     1.720114e+07   \n",
       "ETC   Ethereum Classic          Ethash       PoW     1.133597e+08   \n",
       "ZEC              ZCash        Equihash       PoW     7.383056e+06   \n",
       "\n",
       "     TotalCoinSupply  \n",
       "42                42  \n",
       "404        532000000  \n",
       "1337    314159265359  \n",
       "BTC         21000000  \n",
       "ETH                0  \n",
       "LTC         84000000  \n",
       "DASH        22000000  \n",
       "XMR                0  \n",
       "ETC        210000000  \n",
       "ZEC         21000000  "
      ]
     },
     "execution_count": 267,
     "metadata": {},
     "output_type": "execute_result"
    }
   ],
   "source": [
    "#5 Remove all cryptocurrencies without coins mined\n",
    "crypto_df.dropna(subset=['TotalCoinsMined'], how='all', inplace=True)\n",
    "crypto_df.dropna(subset=['Name'], how='all', inplace=True)\n",
    "\n",
    "crypto_df.set_index(crypto_df.Name, inplace=True)\n",
    "del crypto_df.index.name\n",
    "crypto_df = crypto_df.drop(\"Name\", axis=1)\n",
    "\n",
    "crypto_df.head(10)\n"
   ]
  },
  {
   "cell_type": "code",
   "execution_count": 268,
   "metadata": {},
   "outputs": [
    {
     "data": {
      "text/html": [
       "<div>\n",
       "<style scoped>\n",
       "    .dataframe tbody tr th:only-of-type {\n",
       "        vertical-align: middle;\n",
       "    }\n",
       "\n",
       "    .dataframe tbody tr th {\n",
       "        vertical-align: top;\n",
       "    }\n",
       "\n",
       "    .dataframe thead th {\n",
       "        text-align: right;\n",
       "    }\n",
       "</style>\n",
       "<table border=\"1\" class=\"dataframe\">\n",
       "  <thead>\n",
       "    <tr style=\"text-align: right;\">\n",
       "      <th></th>\n",
       "      <th>CoinName</th>\n",
       "    </tr>\n",
       "  </thead>\n",
       "  <tbody>\n",
       "    <tr>\n",
       "      <td>42</td>\n",
       "      <td>42 Coin</td>\n",
       "    </tr>\n",
       "    <tr>\n",
       "      <td>404</td>\n",
       "      <td>404Coin</td>\n",
       "    </tr>\n",
       "    <tr>\n",
       "      <td>1337</td>\n",
       "      <td>EliteCoin</td>\n",
       "    </tr>\n",
       "    <tr>\n",
       "      <td>BTC</td>\n",
       "      <td>Bitcoin</td>\n",
       "    </tr>\n",
       "    <tr>\n",
       "      <td>ETH</td>\n",
       "      <td>Ethereum</td>\n",
       "    </tr>\n",
       "    <tr>\n",
       "      <td>...</td>\n",
       "      <td>...</td>\n",
       "    </tr>\n",
       "    <tr>\n",
       "      <td>ZEPH</td>\n",
       "      <td>ZEPHYR</td>\n",
       "    </tr>\n",
       "    <tr>\n",
       "      <td>GAP</td>\n",
       "      <td>Gapcoin</td>\n",
       "    </tr>\n",
       "    <tr>\n",
       "      <td>BDX</td>\n",
       "      <td>Beldex</td>\n",
       "    </tr>\n",
       "    <tr>\n",
       "      <td>ZEN</td>\n",
       "      <td>Horizen</td>\n",
       "    </tr>\n",
       "    <tr>\n",
       "      <td>XBC</td>\n",
       "      <td>BitcoinPlus</td>\n",
       "    </tr>\n",
       "  </tbody>\n",
       "</table>\n",
       "<p>532 rows × 1 columns</p>\n",
       "</div>"
      ],
      "text/plain": [
       "         CoinName\n",
       "42        42 Coin\n",
       "404       404Coin\n",
       "1337    EliteCoin\n",
       "BTC       Bitcoin\n",
       "ETH      Ethereum\n",
       "...           ...\n",
       "ZEPH       ZEPHYR\n",
       "GAP       Gapcoin\n",
       "BDX        Beldex\n",
       "ZEN       Horizen\n",
       "XBC   BitcoinPlus\n",
       "\n",
       "[532 rows x 1 columns]"
      ]
     },
     "execution_count": 268,
     "metadata": {},
     "output_type": "execute_result"
    }
   ],
   "source": [
    "#6 Store the names of all cryptocurrencies on a DataFramed named coins_name, and use the crypto_df.index as the index for this new DataFrame\n",
    "\n",
    "coins_name = crypto_df.copy()\n",
    "coins_name = coins_name.drop(\"Algorithm\", axis=1)\n",
    "coins_name = coins_name.drop(\"ProofType\", axis=1)\n",
    "coins_name = coins_name.drop(\"TotalCoinsMined\", axis=1)\n",
    "coins_name = coins_name.drop(\"TotalCoinSupply\", axis=1)\n",
    "\n",
    "coins_name"
   ]
  },
  {
   "cell_type": "code",
   "execution_count": 269,
   "metadata": {},
   "outputs": [],
   "source": [
    "#7 Remove the CoinName column\n",
    "\n",
    "crypto_df = crypto_df.drop(\"CoinName\", axis=1)"
   ]
  },
  {
   "cell_type": "code",
   "execution_count": 270,
   "metadata": {},
   "outputs": [
    {
     "data": {
      "text/plain": [
       "Algorithm           object\n",
       "ProofType           object\n",
       "TotalCoinsMined    float64\n",
       "TotalCoinSupply     object\n",
       "dtype: object"
      ]
     },
     "execution_count": 270,
     "metadata": {},
     "output_type": "execute_result"
    }
   ],
   "source": [
    "crypto_df.dtypes"
   ]
  },
  {
   "cell_type": "code",
   "execution_count": 271,
   "metadata": {},
   "outputs": [],
   "source": [
    "#8 Create dummies variables for all of the text features, and store the resulting data on a DataFrame named X\n",
    "X = crypto_df.copy()\n",
    "X = pd.get_dummies(X, columns=[\"Algorithm\", \"ProofType\"])"
   ]
  },
  {
   "cell_type": "code",
   "execution_count": 272,
   "metadata": {
    "scrolled": false
   },
   "outputs": [
    {
     "name": "stdout",
     "output_type": "stream",
     "text": [
      "[[-0.11710817 -0.1528703  -0.0433963  -0.0433963  -0.0433963  -0.06142951\n",
      "  -0.07530656 -0.0433963  -0.06142951 -0.06142951 -0.0433963  -0.0433963\n",
      "  -0.19245009 -0.06142951 -0.09740465 -0.0433963  -0.11547005 -0.07530656\n",
      "  -0.0433963  -0.0433963  -0.15191091 -0.0433963  -0.13118084 -0.0433963\n",
      "  -0.0433963  -0.08703883 -0.0433963  -0.0433963  -0.0433963  -0.0433963\n",
      "  -0.06142951 -0.0433963  -0.08703883 -0.08703883 -0.08703883 -0.0433963\n",
      "  -0.13118084 -0.13840913 -0.13840913 -0.0433963  -0.06142951 -0.0433963\n",
      "  -0.07530656 -0.18168574 -0.0433963  -0.0433963  -0.0433963  -0.07530656\n",
      "  -0.15826614 -0.31491833 -0.0433963  -0.08703883 -0.07530656 -0.06142951\n",
      "   1.38675049 -0.0433963  -0.0433963  -0.06142951 -0.0433963  -0.0433963\n",
      "  -0.0433963  -0.0433963  -0.0433963  -0.0433963  -0.0433963  -0.0433963\n",
      "  -0.39879994 -0.0433963  -0.18168574 -0.0433963  -0.08703883 -0.08703883\n",
      "  -0.10680283 -0.0433963  -0.13118084 -0.0433963  -0.0433963  -0.0433963\n",
      "  -0.0433963  -0.07530656 -0.43911856 -0.0433963  -0.06142951 -0.0433963\n",
      "  -0.0433963  -0.89632016 -0.0433963  -0.0433963   1.42222617 -0.0433963\n",
      "  -0.0433963  -0.0433963  -0.0433963  -0.0433963  -0.0433963  -0.0433963\n",
      "  -0.0433963  -0.0433963 ]\n",
      " [-0.09396955 -0.145009   -0.0433963  -0.0433963  -0.0433963  -0.06142951\n",
      "  -0.07530656 -0.0433963  -0.06142951 -0.06142951 -0.0433963  -0.0433963\n",
      "  -0.19245009 -0.06142951 -0.09740465 -0.0433963  -0.11547005 -0.07530656\n",
      "  -0.0433963  -0.0433963  -0.15191091 -0.0433963  -0.13118084 -0.0433963\n",
      "  -0.0433963  -0.08703883 -0.0433963  -0.0433963  -0.0433963  -0.0433963\n",
      "  -0.06142951 -0.0433963  -0.08703883 -0.08703883 -0.08703883 -0.0433963\n",
      "  -0.13118084 -0.13840913 -0.13840913 -0.0433963  -0.06142951 -0.0433963\n",
      "  -0.07530656 -0.18168574 -0.0433963  -0.0433963  -0.0433963  -0.07530656\n",
      "  -0.15826614 -0.31491833 -0.0433963  -0.08703883 -0.07530656 -0.06142951\n",
      "   1.38675049 -0.0433963  -0.0433963  -0.06142951 -0.0433963  -0.0433963\n",
      "  -0.0433963  -0.0433963  -0.0433963  -0.0433963  -0.0433963  -0.0433963\n",
      "  -0.39879994 -0.0433963  -0.18168574 -0.0433963  -0.08703883 -0.08703883\n",
      "  -0.10680283 -0.0433963  -0.13118084 -0.0433963  -0.0433963  -0.0433963\n",
      "  -0.0433963  -0.07530656 -0.43911856 -0.0433963  -0.06142951 -0.0433963\n",
      "  -0.0433963  -0.89632016 -0.0433963  -0.0433963   1.42222617 -0.0433963\n",
      "  -0.0433963  -0.0433963  -0.0433963  -0.0433963  -0.0433963  -0.0433963\n",
      "  -0.0433963  -0.0433963 ]\n",
      " [ 0.52494561  4.48942416 -0.0433963  -0.0433963  -0.0433963  -0.06142951\n",
      "  -0.07530656 -0.0433963  -0.06142951 -0.06142951 -0.0433963  -0.0433963\n",
      "  -0.19245009 -0.06142951 -0.09740465 -0.0433963  -0.11547005 -0.07530656\n",
      "  -0.0433963  -0.0433963  -0.15191091 -0.0433963  -0.13118084 -0.0433963\n",
      "  -0.0433963  -0.08703883 -0.0433963  -0.0433963  -0.0433963  -0.0433963\n",
      "  -0.06142951 -0.0433963  -0.08703883 -0.08703883 -0.08703883 -0.0433963\n",
      "  -0.13118084 -0.13840913 -0.13840913 -0.0433963  -0.06142951 -0.0433963\n",
      "  -0.07530656 -0.18168574 -0.0433963  -0.0433963  -0.0433963  -0.07530656\n",
      "  -0.15826614 -0.31491833 -0.0433963  -0.08703883 -0.07530656 -0.06142951\n",
      "  -0.72111026 -0.0433963  -0.0433963  -0.06142951 -0.0433963  -0.0433963\n",
      "  -0.0433963  -0.0433963  -0.0433963  -0.0433963  -0.0433963  -0.0433963\n",
      "  -0.39879994 -0.0433963   5.50400923 -0.0433963  -0.08703883 -0.08703883\n",
      "  -0.10680283 -0.0433963  -0.13118084 -0.0433963  -0.0433963  -0.0433963\n",
      "  -0.0433963  -0.07530656 -0.43911856 -0.0433963  -0.06142951 -0.0433963\n",
      "  -0.0433963  -0.89632016 -0.0433963  -0.0433963   1.42222617 -0.0433963\n",
      "  -0.0433963  -0.0433963  -0.0433963  -0.0433963  -0.0433963  -0.0433963\n",
      "  -0.0433963  -0.0433963 ]\n",
      " [-0.11671506 -0.15255998 -0.0433963  -0.0433963  -0.0433963  -0.06142951\n",
      "  -0.07530656 -0.0433963  -0.06142951 -0.06142951 -0.0433963  -0.0433963\n",
      "  -0.19245009 -0.06142951 -0.09740465 -0.0433963  -0.11547005 -0.07530656\n",
      "  -0.0433963  -0.0433963  -0.15191091 -0.0433963  -0.13118084 -0.0433963\n",
      "  -0.0433963  -0.08703883 -0.0433963  -0.0433963  -0.0433963  -0.0433963\n",
      "  -0.06142951 -0.0433963  -0.08703883 -0.08703883 -0.08703883 -0.0433963\n",
      "  -0.13118084 -0.13840913 -0.13840913 -0.0433963  -0.06142951 -0.0433963\n",
      "  -0.07530656 -0.18168574 -0.0433963  -0.0433963  -0.0433963  -0.07530656\n",
      "  -0.15826614  3.17542648 -0.0433963  -0.08703883 -0.07530656 -0.06142951\n",
      "  -0.72111026 -0.0433963  -0.0433963  -0.06142951 -0.0433963  -0.0433963\n",
      "  -0.0433963  -0.0433963  -0.0433963  -0.0433963  -0.0433963  -0.0433963\n",
      "  -0.39879994 -0.0433963  -0.18168574 -0.0433963  -0.08703883 -0.08703883\n",
      "  -0.10680283 -0.0433963  -0.13118084 -0.0433963  -0.0433963  -0.0433963\n",
      "  -0.0433963  -0.07530656 -0.43911856 -0.0433963  -0.06142951 -0.0433963\n",
      "  -0.0433963   1.11567277 -0.0433963  -0.0433963  -0.70312305 -0.0433963\n",
      "  -0.0433963  -0.0433963  -0.0433963  -0.0433963  -0.0433963  -0.0433963\n",
      "  -0.0433963  -0.0433963 ]\n",
      " [-0.11474682 -0.1528703  -0.0433963  -0.0433963  -0.0433963  -0.06142951\n",
      "  -0.07530656 -0.0433963  -0.06142951 -0.06142951 -0.0433963  -0.0433963\n",
      "  -0.19245009 -0.06142951 -0.09740465 -0.0433963  -0.11547005 -0.07530656\n",
      "  -0.0433963  -0.0433963  -0.15191091 -0.0433963   7.62306442 -0.0433963\n",
      "  -0.0433963  -0.08703883 -0.0433963  -0.0433963  -0.0433963  -0.0433963\n",
      "  -0.06142951 -0.0433963  -0.08703883 -0.08703883 -0.08703883 -0.0433963\n",
      "  -0.13118084 -0.13840913 -0.13840913 -0.0433963  -0.06142951 -0.0433963\n",
      "  -0.07530656 -0.18168574 -0.0433963  -0.0433963  -0.0433963  -0.07530656\n",
      "  -0.15826614 -0.31491833 -0.0433963  -0.08703883 -0.07530656 -0.06142951\n",
      "  -0.72111026 -0.0433963  -0.0433963  -0.06142951 -0.0433963  -0.0433963\n",
      "  -0.0433963  -0.0433963  -0.0433963  -0.0433963  -0.0433963  -0.0433963\n",
      "  -0.39879994 -0.0433963  -0.18168574 -0.0433963  -0.08703883 -0.08703883\n",
      "  -0.10680283 -0.0433963  -0.13118084 -0.0433963  -0.0433963  -0.0433963\n",
      "  -0.0433963  -0.07530656 -0.43911856 -0.0433963  -0.06142951 -0.0433963\n",
      "  -0.0433963   1.11567277 -0.0433963  -0.0433963  -0.70312305 -0.0433963\n",
      "  -0.0433963  -0.0433963  -0.0433963  -0.0433963  -0.0433963  -0.0433963\n",
      "  -0.0433963  -0.0433963 ]]\n"
     ]
    }
   ],
   "source": [
    "#9 Use the StandardScaler from sklearn to standardize all of the data from the X DataFrame\n",
    "\n",
    "X_scaled = StandardScaler().fit_transform(X)\n",
    "print(X_scaled[0:5])"
   ]
  },
  {
   "cell_type": "code",
   "execution_count": 273,
   "metadata": {},
   "outputs": [],
   "source": [
    "#Reducing Data Dimensions using PCA\n",
    "\n",
    "# Initialize PCA model\n",
    "pca = PCA(n_components=3)\n",
    "\n",
    "X_pca = pca.fit_transform(X_scaled)"
   ]
  },
  {
   "cell_type": "code",
   "execution_count": 274,
   "metadata": {
    "scrolled": true
   },
   "outputs": [
    {
     "data": {
      "text/html": [
       "<div>\n",
       "<style scoped>\n",
       "    .dataframe tbody tr th:only-of-type {\n",
       "        vertical-align: middle;\n",
       "    }\n",
       "\n",
       "    .dataframe tbody tr th {\n",
       "        vertical-align: top;\n",
       "    }\n",
       "\n",
       "    .dataframe thead th {\n",
       "        text-align: right;\n",
       "    }\n",
       "</style>\n",
       "<table border=\"1\" class=\"dataframe\">\n",
       "  <thead>\n",
       "    <tr style=\"text-align: right;\">\n",
       "      <th></th>\n",
       "      <th>PC 1</th>\n",
       "      <th>PC 2</th>\n",
       "      <th>PC 3</th>\n",
       "    </tr>\n",
       "  </thead>\n",
       "  <tbody>\n",
       "    <tr>\n",
       "      <td>42</td>\n",
       "      <td>-0.333048</td>\n",
       "      <td>1.020246</td>\n",
       "      <td>-0.577213</td>\n",
       "    </tr>\n",
       "    <tr>\n",
       "      <td>404</td>\n",
       "      <td>-0.316374</td>\n",
       "      <td>1.020348</td>\n",
       "      <td>-0.577684</td>\n",
       "    </tr>\n",
       "    <tr>\n",
       "      <td>1337</td>\n",
       "      <td>2.302712</td>\n",
       "      <td>1.692130</td>\n",
       "      <td>-0.764208</td>\n",
       "    </tr>\n",
       "    <tr>\n",
       "      <td>BTC</td>\n",
       "      <td>-0.150450</td>\n",
       "      <td>-1.298871</td>\n",
       "      <td>0.179716</td>\n",
       "    </tr>\n",
       "    <tr>\n",
       "      <td>ETH</td>\n",
       "      <td>-0.151896</td>\n",
       "      <td>-2.037274</td>\n",
       "      <td>0.398158</td>\n",
       "    </tr>\n",
       "    <tr>\n",
       "      <td>...</td>\n",
       "      <td>...</td>\n",
       "      <td>...</td>\n",
       "      <td>...</td>\n",
       "    </tr>\n",
       "    <tr>\n",
       "      <td>ZEPH</td>\n",
       "      <td>2.458212</td>\n",
       "      <td>0.879249</td>\n",
       "      <td>-0.139405</td>\n",
       "    </tr>\n",
       "    <tr>\n",
       "      <td>GAP</td>\n",
       "      <td>-0.331092</td>\n",
       "      <td>1.020123</td>\n",
       "      <td>-0.577243</td>\n",
       "    </tr>\n",
       "    <tr>\n",
       "      <td>BDX</td>\n",
       "      <td>0.323714</td>\n",
       "      <td>-2.307650</td>\n",
       "      <td>0.427934</td>\n",
       "    </tr>\n",
       "    <tr>\n",
       "      <td>ZEN</td>\n",
       "      <td>-0.149833</td>\n",
       "      <td>-2.044228</td>\n",
       "      <td>0.448889</td>\n",
       "    </tr>\n",
       "    <tr>\n",
       "      <td>XBC</td>\n",
       "      <td>-0.288689</td>\n",
       "      <td>0.790672</td>\n",
       "      <td>-0.239988</td>\n",
       "    </tr>\n",
       "  </tbody>\n",
       "</table>\n",
       "<p>532 rows × 3 columns</p>\n",
       "</div>"
      ],
      "text/plain": [
       "          PC 1      PC 2      PC 3\n",
       "42   -0.333048  1.020246 -0.577213\n",
       "404  -0.316374  1.020348 -0.577684\n",
       "1337  2.302712  1.692130 -0.764208\n",
       "BTC  -0.150450 -1.298871  0.179716\n",
       "ETH  -0.151896 -2.037274  0.398158\n",
       "...        ...       ...       ...\n",
       "ZEPH  2.458212  0.879249 -0.139405\n",
       "GAP  -0.331092  1.020123 -0.577243\n",
       "BDX   0.323714 -2.307650  0.427934\n",
       "ZEN  -0.149833 -2.044228  0.448889\n",
       "XBC  -0.288689  0.790672 -0.239988\n",
       "\n",
       "[532 rows x 3 columns]"
      ]
     },
     "execution_count": 274,
     "metadata": {},
     "output_type": "execute_result"
    }
   ],
   "source": [
    "#transform PCA data to a DF\n",
    "\n",
    "pcs_df = pd.DataFrame(\n",
    "    data=X_pca,\n",
    "    columns=[\"PC 1\", \"PC 2\", \"PC 3\"]\n",
    ")\n",
    "\n",
    "pcs_df.set_index(crypto_df.index, inplace=True)\n",
    "pcs_df"
   ]
  },
  {
   "cell_type": "code",
   "execution_count": 275,
   "metadata": {},
   "outputs": [
    {
     "data": {
      "text/plain": [
       "array([0.02793101, 0.02141061, 0.02050698])"
      ]
     },
     "execution_count": 275,
     "metadata": {},
     "output_type": "execute_result"
    }
   ],
   "source": [
    "#fetch explained variance \n",
    "\n",
    "pca.explained_variance_ratio_"
   ]
  },
  {
   "cell_type": "code",
   "execution_count": 276,
   "metadata": {},
   "outputs": [
    {
     "data": {
      "application/vnd.holoviews_exec.v0+json": "",
      "text/html": [
       "<div id='2812' style='display: table; margin: 0 auto;'>\n",
       "\n",
       "\n",
       "\n",
       "\n",
       "\n",
       "  <div class=\"bk-root\" id=\"b2404df5-97a3-4637-914b-737f6bf8a8e7\" data-root-id=\"2812\"></div>\n",
       "</div>\n",
       "<script type=\"application/javascript\">(function(root) {\n",
       "  function embed_document(root) {\n",
       "    \n",
       "  var docs_json = {\"2f792e32-7329-46ce-8f96-3d6beeea582f\":{\"roots\":{\"references\":[{\"attributes\":{\"align\":null,\"below\":[{\"id\":\"2821\",\"type\":\"LinearAxis\"}],\"center\":[{\"id\":\"2825\",\"type\":\"Grid\"},{\"id\":\"2830\",\"type\":\"Grid\"}],\"left\":[{\"id\":\"2826\",\"type\":\"LinearAxis\"}],\"margin\":null,\"min_border_bottom\":10,\"min_border_left\":10,\"min_border_right\":10,\"min_border_top\":10,\"plot_height\":300,\"plot_width\":700,\"renderers\":[{\"id\":\"2849\",\"type\":\"GlyphRenderer\"}],\"sizing_mode\":\"fixed\",\"title\":{\"id\":\"2813\",\"type\":\"Title\"},\"toolbar\":{\"id\":\"2836\",\"type\":\"Toolbar\"},\"x_range\":{\"id\":\"2809\",\"type\":\"Range1d\"},\"x_scale\":{\"id\":\"2817\",\"type\":\"LinearScale\"},\"y_range\":{\"id\":\"2810\",\"type\":\"Range1d\"},\"y_scale\":{\"id\":\"2819\",\"type\":\"LinearScale\"}},\"id\":\"2812\",\"subtype\":\"Figure\",\"type\":\"Plot\"},{\"attributes\":{\"text\":\"Elbow Curve\",\"text_color\":{\"value\":\"black\"},\"text_font_size\":{\"value\":\"12pt\"}},\"id\":\"2813\",\"type\":\"Title\"},{\"attributes\":{\"callback\":null,\"end\":3641.626574450526,\"reset_end\":3641.626574450526,\"reset_start\":107.79363126338491,\"start\":107.79363126338491,\"tags\":[[[\"inertia\",\"inertia\",null]]]},\"id\":\"2810\",\"type\":\"Range1d\"},{\"attributes\":{\"bottom_units\":\"screen\",\"fill_alpha\":{\"value\":0.5},\"fill_color\":{\"value\":\"lightgrey\"},\"left_units\":\"screen\",\"level\":\"overlay\",\"line_alpha\":{\"value\":1.0},\"line_color\":{\"value\":\"black\"},\"line_dash\":[4,4],\"line_width\":{\"value\":2},\"render_mode\":\"css\",\"right_units\":\"screen\",\"top_units\":\"screen\"},\"id\":\"2862\",\"type\":\"BoxAnnotation\"},{\"attributes\":{},\"id\":\"2819\",\"type\":\"LinearScale\"},{\"attributes\":{\"line_color\":\"#1f77b3\",\"line_width\":2,\"x\":{\"field\":\"k\"},\"y\":{\"field\":\"inertia\"}},\"id\":\"2846\",\"type\":\"Line\"},{\"attributes\":{},\"id\":\"2863\",\"type\":\"UnionRenderers\"},{\"attributes\":{\"active_drag\":\"auto\",\"active_inspect\":\"auto\",\"active_multi\":null,\"active_scroll\":\"auto\",\"active_tap\":\"auto\",\"tools\":[{\"id\":\"2811\",\"type\":\"HoverTool\"},{\"id\":\"2831\",\"type\":\"SaveTool\"},{\"id\":\"2832\",\"type\":\"PanTool\"},{\"id\":\"2833\",\"type\":\"WheelZoomTool\"},{\"id\":\"2834\",\"type\":\"BoxZoomTool\"},{\"id\":\"2835\",\"type\":\"ResetTool\"}]},\"id\":\"2836\",\"type\":\"Toolbar\"},{\"attributes\":{\"axis_label\":\"inertia\",\"bounds\":\"auto\",\"formatter\":{\"id\":\"2857\",\"type\":\"BasicTickFormatter\"},\"major_label_orientation\":\"horizontal\",\"ticker\":{\"id\":\"2827\",\"type\":\"BasicTicker\"}},\"id\":\"2826\",\"type\":\"LinearAxis\"},{\"attributes\":{\"axis_label\":\"k\",\"bounds\":\"auto\",\"formatter\":{\"id\":\"2853\",\"type\":\"BasicTickFormatter\"},\"major_label_orientation\":\"horizontal\",\"ticker\":{\"id\":\"2851\",\"type\":\"FixedTicker\"}},\"id\":\"2821\",\"type\":\"LinearAxis\"},{\"attributes\":{\"callback\":null,\"end\":9.0,\"reset_end\":9.0,\"reset_start\":1.0,\"start\":1.0,\"tags\":[[[\"k\",\"k\",null]]]},\"id\":\"2809\",\"type\":\"Range1d\"},{\"attributes\":{},\"id\":\"2853\",\"type\":\"BasicTickFormatter\"},{\"attributes\":{},\"id\":\"2833\",\"type\":\"WheelZoomTool\"},{\"attributes\":{\"ticks\":[1,2,3,4,5,6,7,8,9]},\"id\":\"2851\",\"type\":\"FixedTicker\"},{\"attributes\":{\"callback\":null,\"renderers\":[{\"id\":\"2849\",\"type\":\"GlyphRenderer\"}],\"tags\":[\"hv_created\"],\"tooltips\":[[\"k\",\"@{k}\"],[\"inertia\",\"@{inertia}\"]]},\"id\":\"2811\",\"type\":\"HoverTool\"},{\"attributes\":{\"line_alpha\":0.2,\"line_color\":\"#1f77b3\",\"line_width\":2,\"x\":{\"field\":\"k\"},\"y\":{\"field\":\"inertia\"}},\"id\":\"2848\",\"type\":\"Line\"},{\"attributes\":{},\"id\":\"2822\",\"type\":\"BasicTicker\"},{\"attributes\":{\"overlay\":{\"id\":\"2862\",\"type\":\"BoxAnnotation\"}},\"id\":\"2834\",\"type\":\"BoxZoomTool\"},{\"attributes\":{\"data_source\":{\"id\":\"2843\",\"type\":\"ColumnDataSource\"},\"glyph\":{\"id\":\"2846\",\"type\":\"Line\"},\"hover_glyph\":null,\"muted_glyph\":{\"id\":\"2848\",\"type\":\"Line\"},\"nonselection_glyph\":{\"id\":\"2847\",\"type\":\"Line\"},\"selection_glyph\":null,\"view\":{\"id\":\"2850\",\"type\":\"CDSView\"}},\"id\":\"2849\",\"type\":\"GlyphRenderer\"},{\"attributes\":{\"source\":{\"id\":\"2843\",\"type\":\"ColumnDataSource\"}},\"id\":\"2850\",\"type\":\"CDSView\"},{\"attributes\":{},\"id\":\"2835\",\"type\":\"ResetTool\"},{\"attributes\":{},\"id\":\"2827\",\"type\":\"BasicTicker\"},{\"attributes\":{},\"id\":\"2831\",\"type\":\"SaveTool\"},{\"attributes\":{\"callback\":null,\"data\":{\"inertia\":{\"__ndarray__\":\"CctdzkBzrEDUdoC3mFSjQCLXRN8al5ZAhcvJipSmfEDMT6pwgB9yQM4k8wCYiGxAr0tk77eHZkCFt+QcPE5hQJFUyNrK8lpA\",\"dtype\":\"float64\",\"shape\":[9]},\"k\":[1,2,3,4,5,6,7,8,9]},\"selected\":{\"id\":\"2844\",\"type\":\"Selection\"},\"selection_policy\":{\"id\":\"2863\",\"type\":\"UnionRenderers\"}},\"id\":\"2843\",\"type\":\"ColumnDataSource\"},{\"attributes\":{},\"id\":\"2857\",\"type\":\"BasicTickFormatter\"},{\"attributes\":{\"dimension\":1,\"grid_line_color\":null,\"ticker\":{\"id\":\"2827\",\"type\":\"BasicTicker\"}},\"id\":\"2830\",\"type\":\"Grid\"},{\"attributes\":{\"line_alpha\":0.1,\"line_color\":\"#1f77b3\",\"line_width\":2,\"x\":{\"field\":\"k\"},\"y\":{\"field\":\"inertia\"}},\"id\":\"2847\",\"type\":\"Line\"},{\"attributes\":{},\"id\":\"2844\",\"type\":\"Selection\"},{\"attributes\":{\"grid_line_color\":null,\"ticker\":{\"id\":\"2822\",\"type\":\"BasicTicker\"}},\"id\":\"2825\",\"type\":\"Grid\"},{\"attributes\":{},\"id\":\"2832\",\"type\":\"PanTool\"},{\"attributes\":{},\"id\":\"2817\",\"type\":\"LinearScale\"}],\"root_ids\":[\"2812\"]},\"title\":\"Bokeh Application\",\"version\":\"1.3.4\"}};\n",
       "  var render_items = [{\"docid\":\"2f792e32-7329-46ce-8f96-3d6beeea582f\",\"roots\":{\"2812\":\"b2404df5-97a3-4637-914b-737f6bf8a8e7\"}}];\n",
       "  root.Bokeh.embed.embed_items_notebook(docs_json, render_items);\n",
       "\n",
       "  }\n",
       "  if (root.Bokeh !== undefined) {\n",
       "    embed_document(root);\n",
       "  } else {\n",
       "    var attempts = 0;\n",
       "    var timer = setInterval(function(root) {\n",
       "      if (root.Bokeh !== undefined) {\n",
       "        embed_document(root);\n",
       "        clearInterval(timer);\n",
       "      }\n",
       "      attempts++;\n",
       "      if (attempts > 100) {\n",
       "        console.log(\"Bokeh: ERROR: Unable to run BokehJS code because BokehJS library is missing\");\n",
       "        clearInterval(timer);\n",
       "      }\n",
       "    }, 10, root)\n",
       "  }\n",
       "})(window);</script>"
      ],
      "text/plain": [
       ":Curve   [k]   (inertia)"
      ]
     },
     "execution_count": 276,
     "metadata": {
      "application/vnd.holoviews_exec.v0+json": {
       "id": "2812"
      }
     },
     "output_type": "execute_result"
    }
   ],
   "source": [
    "#Using Elbow curve with the generated principle components \n",
    "\n",
    "#Find the best value for K\n",
    "inertia = []\n",
    "k = list(range(1, 10))\n",
    "\n",
    "# Calculate the inertia for the range of K values\n",
    "for i in k:\n",
    "\tkm = KMeans(n_clusters=i, random_state=0)\n",
    "\tkm.fit(X_pca)\n",
    "\tinertia.append(km.inertia_)\n",
    "\n",
    "# Create the elbow curve\n",
    "elbow_data = {\"k\": k, \"inertia\": inertia}\n",
    "df_elbow = pd.DataFrame(elbow_data)\n",
    "df_elbow.hvplot.line(x=\"k\", y=\"inertia\", xticks=k, title=\"Elbow Curve\")"
   ]
  },
  {
   "cell_type": "code",
   "execution_count": 277,
   "metadata": {},
   "outputs": [
    {
     "data": {
      "text/plain": [
       "KMeans(algorithm='auto', copy_x=True, init='k-means++', max_iter=300,\n",
       "       n_clusters=4, n_init=10, n_jobs=None, precompute_distances='auto',\n",
       "       random_state=0, tol=0.0001, verbose=0)"
      ]
     },
     "execution_count": 277,
     "metadata": {},
     "output_type": "execute_result"
    }
   ],
   "source": [
    "# Initialize the K-means model\n",
    "model = KMeans(n_clusters=4, random_state=0)\n",
    "\n",
    "# Fit the model\n",
    "model.fit(pcs_df)\n",
    "\n",
    "# Predict clusters\n",
    "#predictions = model.predict(pcs_df)\n",
    "\n",
    "# Add the predicted class columns\n"
   ]
  },
  {
   "cell_type": "code",
   "execution_count": 278,
   "metadata": {
    "scrolled": false
   },
   "outputs": [
    {
     "data": {
      "text/html": [
       "<div>\n",
       "<style scoped>\n",
       "    .dataframe tbody tr th:only-of-type {\n",
       "        vertical-align: middle;\n",
       "    }\n",
       "\n",
       "    .dataframe tbody tr th {\n",
       "        vertical-align: top;\n",
       "    }\n",
       "\n",
       "    .dataframe thead th {\n",
       "        text-align: right;\n",
       "    }\n",
       "</style>\n",
       "<table border=\"1\" class=\"dataframe\">\n",
       "  <thead>\n",
       "    <tr style=\"text-align: right;\">\n",
       "      <th></th>\n",
       "      <th>Algorithm</th>\n",
       "      <th>ProofType</th>\n",
       "      <th>TotalCoinsMined</th>\n",
       "      <th>TotalCoinSupply</th>\n",
       "      <th>PC 1</th>\n",
       "      <th>PC 2</th>\n",
       "      <th>PC 3</th>\n",
       "      <th>CoinName</th>\n",
       "      <th>Class</th>\n",
       "    </tr>\n",
       "  </thead>\n",
       "  <tbody>\n",
       "    <tr>\n",
       "      <td>42</td>\n",
       "      <td>Scrypt</td>\n",
       "      <td>PoW/PoS</td>\n",
       "      <td>4.199995e+01</td>\n",
       "      <td>42</td>\n",
       "      <td>-0.333048</td>\n",
       "      <td>1.020246</td>\n",
       "      <td>-0.577213</td>\n",
       "      <td>42 Coin</td>\n",
       "      <td>0</td>\n",
       "    </tr>\n",
       "    <tr>\n",
       "      <td>404</td>\n",
       "      <td>Scrypt</td>\n",
       "      <td>PoW/PoS</td>\n",
       "      <td>1.055185e+09</td>\n",
       "      <td>532000000</td>\n",
       "      <td>-0.316374</td>\n",
       "      <td>1.020348</td>\n",
       "      <td>-0.577684</td>\n",
       "      <td>404Coin</td>\n",
       "      <td>0</td>\n",
       "    </tr>\n",
       "    <tr>\n",
       "      <td>1337</td>\n",
       "      <td>X13</td>\n",
       "      <td>PoW/PoS</td>\n",
       "      <td>2.927942e+10</td>\n",
       "      <td>314159265359</td>\n",
       "      <td>2.302712</td>\n",
       "      <td>1.692130</td>\n",
       "      <td>-0.764208</td>\n",
       "      <td>EliteCoin</td>\n",
       "      <td>4</td>\n",
       "    </tr>\n",
       "    <tr>\n",
       "      <td>BTC</td>\n",
       "      <td>SHA-256</td>\n",
       "      <td>PoW</td>\n",
       "      <td>1.792718e+07</td>\n",
       "      <td>21000000</td>\n",
       "      <td>-0.150450</td>\n",
       "      <td>-1.298871</td>\n",
       "      <td>0.179716</td>\n",
       "      <td>Bitcoin</td>\n",
       "      <td>1</td>\n",
       "    </tr>\n",
       "    <tr>\n",
       "      <td>ETH</td>\n",
       "      <td>Ethash</td>\n",
       "      <td>PoW</td>\n",
       "      <td>1.076842e+08</td>\n",
       "      <td>0</td>\n",
       "      <td>-0.151896</td>\n",
       "      <td>-2.037274</td>\n",
       "      <td>0.398158</td>\n",
       "      <td>Ethereum</td>\n",
       "      <td>1</td>\n",
       "    </tr>\n",
       "    <tr>\n",
       "      <td>LTC</td>\n",
       "      <td>Scrypt</td>\n",
       "      <td>PoW</td>\n",
       "      <td>6.303924e+07</td>\n",
       "      <td>84000000</td>\n",
       "      <td>-0.164141</td>\n",
       "      <td>-1.141362</td>\n",
       "      <td>0.016770</td>\n",
       "      <td>Litecoin</td>\n",
       "      <td>1</td>\n",
       "    </tr>\n",
       "    <tr>\n",
       "      <td>DASH</td>\n",
       "      <td>X11</td>\n",
       "      <td>PoW/PoS</td>\n",
       "      <td>9.031294e+06</td>\n",
       "      <td>22000000</td>\n",
       "      <td>-0.396776</td>\n",
       "      <td>1.244700</td>\n",
       "      <td>-0.545957</td>\n",
       "      <td>Dash</td>\n",
       "      <td>0</td>\n",
       "    </tr>\n",
       "    <tr>\n",
       "      <td>XMR</td>\n",
       "      <td>CryptoNight-V7</td>\n",
       "      <td>PoW</td>\n",
       "      <td>1.720114e+07</td>\n",
       "      <td>0</td>\n",
       "      <td>-0.144421</td>\n",
       "      <td>-2.220007</td>\n",
       "      <td>0.443953</td>\n",
       "      <td>Monero</td>\n",
       "      <td>1</td>\n",
       "    </tr>\n",
       "    <tr>\n",
       "      <td>ETC</td>\n",
       "      <td>Ethash</td>\n",
       "      <td>PoW</td>\n",
       "      <td>1.133597e+08</td>\n",
       "      <td>210000000</td>\n",
       "      <td>-0.150336</td>\n",
       "      <td>-2.037379</td>\n",
       "      <td>0.398136</td>\n",
       "      <td>Ethereum Classic</td>\n",
       "      <td>1</td>\n",
       "    </tr>\n",
       "    <tr>\n",
       "      <td>ZEC</td>\n",
       "      <td>Equihash</td>\n",
       "      <td>PoW</td>\n",
       "      <td>7.383056e+06</td>\n",
       "      <td>21000000</td>\n",
       "      <td>-0.149832</td>\n",
       "      <td>-2.044228</td>\n",
       "      <td>0.448889</td>\n",
       "      <td>ZCash</td>\n",
       "      <td>1</td>\n",
       "    </tr>\n",
       "    <tr>\n",
       "      <td>BTS</td>\n",
       "      <td>SHA-512</td>\n",
       "      <td>PoS</td>\n",
       "      <td>2.741570e+09</td>\n",
       "      <td>3600570502</td>\n",
       "      <td>-0.256064</td>\n",
       "      <td>1.722814</td>\n",
       "      <td>-0.250843</td>\n",
       "      <td>Bitshares</td>\n",
       "      <td>0</td>\n",
       "    </tr>\n",
       "    <tr>\n",
       "      <td>DGB</td>\n",
       "      <td>Multiple</td>\n",
       "      <td>PoW</td>\n",
       "      <td>1.140622e+10</td>\n",
       "      <td>21000000000</td>\n",
       "      <td>0.158677</td>\n",
       "      <td>-1.816503</td>\n",
       "      <td>0.324455</td>\n",
       "      <td>DigiByte</td>\n",
       "      <td>1</td>\n",
       "    </tr>\n",
       "    <tr>\n",
       "      <td>BTCD</td>\n",
       "      <td>SHA-256</td>\n",
       "      <td>PoW/PoS</td>\n",
       "      <td>1.288862e+06</td>\n",
       "      <td>22000000</td>\n",
       "      <td>-0.318187</td>\n",
       "      <td>0.862710</td>\n",
       "      <td>-0.414294</td>\n",
       "      <td>BitcoinDark</td>\n",
       "      <td>0</td>\n",
       "    </tr>\n",
       "  </tbody>\n",
       "</table>\n",
       "</div>"
      ],
      "text/plain": [
       "           Algorithm ProofType  TotalCoinsMined TotalCoinSupply      PC 1  \\\n",
       "42            Scrypt   PoW/PoS     4.199995e+01              42 -0.333048   \n",
       "404           Scrypt   PoW/PoS     1.055185e+09       532000000 -0.316374   \n",
       "1337             X13   PoW/PoS     2.927942e+10    314159265359  2.302712   \n",
       "BTC          SHA-256       PoW     1.792718e+07        21000000 -0.150450   \n",
       "ETH           Ethash       PoW     1.076842e+08               0 -0.151896   \n",
       "LTC           Scrypt       PoW     6.303924e+07        84000000 -0.164141   \n",
       "DASH             X11   PoW/PoS     9.031294e+06        22000000 -0.396776   \n",
       "XMR   CryptoNight-V7       PoW     1.720114e+07               0 -0.144421   \n",
       "ETC           Ethash       PoW     1.133597e+08       210000000 -0.150336   \n",
       "ZEC         Equihash       PoW     7.383056e+06        21000000 -0.149832   \n",
       "BTS          SHA-512       PoS     2.741570e+09      3600570502 -0.256064   \n",
       "DGB         Multiple       PoW     1.140622e+10     21000000000  0.158677   \n",
       "BTCD         SHA-256   PoW/PoS     1.288862e+06        22000000 -0.318187   \n",
       "\n",
       "          PC 2      PC 3          CoinName  Class  \n",
       "42    1.020246 -0.577213           42 Coin      0  \n",
       "404   1.020348 -0.577684           404Coin      0  \n",
       "1337  1.692130 -0.764208         EliteCoin      4  \n",
       "BTC  -1.298871  0.179716           Bitcoin      1  \n",
       "ETH  -2.037274  0.398158          Ethereum      1  \n",
       "LTC  -1.141362  0.016770          Litecoin      1  \n",
       "DASH  1.244700 -0.545957              Dash      0  \n",
       "XMR  -2.220007  0.443953            Monero      1  \n",
       "ETC  -2.037379  0.398136  Ethereum Classic      1  \n",
       "ZEC  -2.044228  0.448889             ZCash      1  \n",
       "BTS   1.722814 -0.250843         Bitshares      0  \n",
       "DGB  -1.816503  0.324455          DigiByte      1  \n",
       "BTCD  0.862710 -0.414294       BitcoinDark      0  "
      ]
     },
     "execution_count": 278,
     "metadata": {},
     "output_type": "execute_result"
    }
   ],
   "source": [
    "clustered_df['PC 1']= pcs_df['PC 1']\n",
    "clustered_df['PC 2']= pcs_df['PC 2']\n",
    "clustered_df['PC 3']= pcs_df['PC 3']\n",
    "\n",
    "clustered_df['CoinName']= coins_name['CoinName']\n",
    "\n",
    "#clustered_df[\"Class\"] = model.labels_\n",
    "\n",
    "clustered_df.head(13)"
   ]
  },
  {
   "cell_type": "code",
   "execution_count": 279,
   "metadata": {},
   "outputs": [],
   "source": [
    "import plotly.express as px"
   ]
  },
  {
   "cell_type": "code",
   "execution_count": 280,
   "metadata": {
    "scrolled": true
   },
   "outputs": [
    {
     "data": {
      "application/vnd.plotly.v1+json": {
       "config": {
        "plotlyServerURL": "https://plot.ly"
       },
       "data": [
        {
         "customdata": [
          [
           "Scrypt"
          ],
          [
           "Scrypt"
          ],
          [
           "X11"
          ],
          [
           "SHA-512"
          ],
          [
           "SHA-256"
          ],
          [
           "SHA-256"
          ],
          [
           "X15"
          ],
          [
           "Scrypt"
          ],
          [
           "Scrypt"
          ],
          [
           "Scrypt"
          ],
          [
           "Scrypt"
          ],
          [
           "Scrypt"
          ],
          [
           "Scrypt"
          ],
          [
           "Groestl"
          ],
          [
           "PoS"
          ],
          [
           "Scrypt"
          ],
          [
           "Scrypt"
          ],
          [
           "X11"
          ],
          [
           "X11"
          ],
          [
           "SHA3"
          ],
          [
           "Scrypt"
          ],
          [
           "SHA-256"
          ],
          [
           "Scrypt"
          ],
          [
           "X13"
          ],
          [
           "X13"
          ],
          [
           "NeoScrypt"
          ],
          [
           "Scrypt"
          ],
          [
           "Scrypt"
          ],
          [
           "Scrypt"
          ],
          [
           "X11"
          ],
          [
           "X11"
          ],
          [
           "Multiple"
          ],
          [
           "PHI1612"
          ],
          [
           "X11"
          ],
          [
           "Scrypt"
          ],
          [
           "Scrypt"
          ],
          [
           "Scrypt"
          ],
          [
           "X11"
          ],
          [
           "Multiple"
          ],
          [
           "X13"
          ],
          [
           "Scrypt"
          ],
          [
           "Shabal256"
          ],
          [
           "Counterparty"
          ],
          [
           "SHA-256"
          ],
          [
           "Groestl"
          ],
          [
           "Scrypt"
          ],
          [
           "X13"
          ],
          [
           "Scrypt"
          ],
          [
           "Scrypt"
          ],
          [
           "X13"
          ],
          [
           "X11"
          ],
          [
           "Scrypt"
          ],
          [
           "X11"
          ],
          [
           "SHA3"
          ],
          [
           "QUAIT"
          ],
          [
           "X11"
          ],
          [
           "Scrypt"
          ],
          [
           "X13"
          ],
          [
           "SHA-256"
          ],
          [
           "X15"
          ],
          [
           "BLAKE256"
          ],
          [
           "SHA-256"
          ],
          [
           "X11"
          ],
          [
           "SHA-256"
          ],
          [
           "NIST5"
          ],
          [
           "Scrypt"
          ],
          [
           "Scrypt"
          ],
          [
           "X11"
          ],
          [
           "Scrypt"
          ],
          [
           "SHA-256"
          ],
          [
           "Scrypt"
          ],
          [
           "PoS"
          ],
          [
           "X11"
          ],
          [
           "SHA-256"
          ],
          [
           "SHA-256"
          ],
          [
           "NIST5"
          ],
          [
           "X11"
          ],
          [
           "POS 3.0"
          ],
          [
           "Scrypt"
          ],
          [
           "Scrypt"
          ],
          [
           "Scrypt"
          ],
          [
           "X13"
          ],
          [
           "X11"
          ],
          [
           "X11"
          ],
          [
           "Scrypt"
          ],
          [
           "SHA-256"
          ],
          [
           "X11"
          ],
          [
           "Scrypt"
          ],
          [
           "Scrypt"
          ],
          [
           "Scrypt"
          ],
          [
           "Scrypt"
          ],
          [
           "SHA-256D"
          ],
          [
           "PoS"
          ],
          [
           "Scrypt"
          ],
          [
           "X11"
          ],
          [
           "PoS"
          ],
          [
           "X13"
          ],
          [
           "X14"
          ],
          [
           "PoS"
          ],
          [
           "SHA-256D"
          ],
          [
           "X11"
          ],
          [
           "X13"
          ],
          [
           "X11"
          ],
          [
           "PoS"
          ],
          [
           "Scrypt"
          ],
          [
           "Scrypt"
          ],
          [
           "PoS"
          ],
          [
           "X11"
          ],
          [
           "SHA-256"
          ],
          [
           "Scrypt"
          ],
          [
           "X11"
          ],
          [
           "Scrypt"
          ],
          [
           "Scrypt"
          ],
          [
           "X11"
          ],
          [
           "Scrypt"
          ],
          [
           "Scrypt"
          ],
          [
           "Scrypt"
          ],
          [
           "Scrypt"
          ],
          [
           "Quark"
          ],
          [
           "QuBit"
          ],
          [
           "Scrypt"
          ],
          [
           "SHA-256"
          ],
          [
           "X11"
          ],
          [
           "Scrypt"
          ],
          [
           "Scrypt"
          ],
          [
           "Scrypt"
          ],
          [
           "Scrypt"
          ],
          [
           "X13"
          ],
          [
           "Scrypt"
          ],
          [
           "Scrypt"
          ],
          [
           "X11"
          ],
          [
           "Blake2S"
          ],
          [
           "X11"
          ],
          [
           "PoS"
          ],
          [
           "X11"
          ],
          [
           "PoS"
          ],
          [
           "X11"
          ],
          [
           "Scrypt"
          ],
          [
           "Scrypt"
          ],
          [
           "Scrypt"
          ],
          [
           "SHA-256"
          ],
          [
           "X11"
          ],
          [
           "Scrypt"
          ],
          [
           "PoS"
          ],
          [
           "Scrypt"
          ],
          [
           "X15"
          ],
          [
           "SHA-256"
          ],
          [
           "POS 3.0"
          ],
          [
           "536"
          ],
          [
           "NIST5"
          ],
          [
           "NIST5"
          ],
          [
           "Skein"
          ],
          [
           "X13"
          ],
          [
           "Scrypt"
          ],
          [
           "X13"
          ],
          [
           "SkunkHash v2 Raptor"
          ],
          [
           "Skein"
          ],
          [
           "X11"
          ],
          [
           "Scrypt"
          ],
          [
           "PoS"
          ],
          [
           "Scrypt"
          ],
          [
           "Scrypt"
          ],
          [
           "SHA-512"
          ],
          [
           "Ouroboros"
          ],
          [
           "X11"
          ],
          [
           "NeoScrypt"
          ],
          [
           "Scrypt"
          ],
          [
           "Lyra2REv2"
          ],
          [
           "Scrypt"
          ],
          [
           "SHA-256"
          ],
          [
           "NIST5"
          ],
          [
           "PHI1612"
          ],
          [
           "Scrypt"
          ],
          [
           "Quark"
          ],
          [
           "POS 2.0"
          ],
          [
           "Scrypt"
          ],
          [
           "SHA-256"
          ],
          [
           "X11"
          ],
          [
           "NIST5"
          ],
          [
           "X13"
          ],
          [
           "Scrypt"
          ],
          [
           "NIST5"
          ],
          [
           "Quark"
          ],
          [
           "Scrypt"
          ],
          [
           "Scrypt"
          ],
          [
           "X11"
          ],
          [
           "Quark"
          ],
          [
           "Scrypt"
          ],
          [
           "Scrypt"
          ],
          [
           "X11"
          ],
          [
           "POS 3.0"
          ],
          [
           "Ethash"
          ],
          [
           "Scrypt"
          ],
          [
           "Scrypt"
          ],
          [
           "X13"
          ],
          [
           "C11"
          ],
          [
           "X11"
          ],
          [
           "XEVAN"
          ],
          [
           "Scrypt"
          ],
          [
           "VBFT"
          ],
          [
           "NIST5"
          ],
          [
           "Scrypt"
          ],
          [
           "Scrypt"
          ],
          [
           "Scrypt"
          ],
          [
           "Green Protocol"
          ],
          [
           "PoS"
          ],
          [
           "Scrypt"
          ],
          [
           "Quark"
          ],
          [
           "PoS"
          ],
          [
           "X16R"
          ],
          [
           "Scrypt"
          ],
          [
           "XEVAN"
          ],
          [
           "Scrypt"
          ],
          [
           "Scrypt"
          ],
          [
           "Scrypt"
          ],
          [
           "SHA-256D"
          ],
          [
           "Scrypt"
          ],
          [
           "X15"
          ],
          [
           "Quark"
          ],
          [
           "SHA-256"
          ],
          [
           "DPoS"
          ],
          [
           "X16R"
          ],
          [
           "Quark"
          ],
          [
           "Quark"
          ],
          [
           "Scrypt"
          ],
          [
           "Lyra2REv2"
          ],
          [
           "Quark"
          ],
          [
           "Scrypt"
          ],
          [
           "X11"
          ],
          [
           "X11"
          ],
          [
           "Scrypt"
          ],
          [
           "PoS"
          ],
          [
           "Keccak"
          ],
          [
           "X11"
          ],
          [
           "Scrypt"
          ],
          [
           "SHA-512"
          ],
          [
           "ECC 256K1"
          ],
          [
           "XEVAN"
          ],
          [
           "XEVAN"
          ],
          [
           "X11"
          ],
          [
           "Quark"
          ],
          [
           "Equihash"
          ],
          [
           "Scrypt"
          ],
          [
           "Quark"
          ],
          [
           "Quark"
          ],
          [
           "Scrypt"
          ],
          [
           "X11"
          ],
          [
           "Scrypt"
          ],
          [
           "XEVAN"
          ],
          [
           "SHA-256D"
          ],
          [
           "X11"
          ],
          [
           "X11"
          ],
          [
           "Scrypt"
          ],
          [
           "X11"
          ],
          [
           "Scrypt"
          ],
          [
           "Scrypt"
          ],
          [
           "SHA-256"
          ],
          [
           "Scrypt"
          ],
          [
           "X11"
          ],
          [
           "Scrypt"
          ],
          [
           "SHA-256"
          ],
          [
           "X11"
          ],
          [
           "Scrypt"
          ],
          [
           "Scrypt"
          ],
          [
           "X11"
          ],
          [
           "Scrypt"
          ],
          [
           "PoS"
          ],
          [
           "X11"
          ],
          [
           "SHA-256"
          ],
          [
           "Scrypt"
          ],
          [
           "Scrypt"
          ],
          [
           "NeoScrypt"
          ],
          [
           "X13"
          ],
          [
           "SHA-256"
          ],
          [
           "Leased POS"
          ],
          [
           "PoS"
          ],
          [
           "PoS"
          ],
          [
           "Scrypt"
          ],
          [
           "Scrypt"
          ]
         ],
         "hoverlabel": {
          "namelength": 0
         },
         "hovertemplate": "<b>%{hovertext}</b><br><br>Class=%{marker.color}<br>PC 1=%{x}<br>PC 2=%{y}<br>PC 3=%{z}<br>Algorithm=%{customdata[0]}",
         "hovertext": [
          "42 Coin",
          "404Coin",
          "Dash",
          "Bitshares",
          "BitcoinDark",
          "PayCoin",
          "KoboCoin",
          "Aurora Coin",
          "BlueCoin",
          "EnergyCoin",
          "BitBar",
          "CryptoBullion",
          "CasinoCoin",
          "Diamond",
          "Exclusive Coin",
          "FlutterCoin",
          "HoboNickels",
          "HyperStake",
          "IOCoin",
          "MaxCoin",
          "MintCoin",
          "MazaCoin",
          "Nautilus Coin",
          "NavCoin",
          "OpalCoin",
          "Orbitcoin",
          "PotCoin",
          "PhoenixCoin",
          "Reddcoin",
          "SuperCoin",
          "SyncCoin",
          "TeslaCoin",
          "TittieCoin",
          "TorCoin",
          "UnitaryStatus Dollar",
          "UltraCoin",
          "VeriCoin",
          "X11 Coin",
          "Crypti",
          "StealthCoin",
          "ZCC Coin",
          "BurstCoin",
          "StorjCoin",
          "Neutron",
          "FairCoin",
          "RubyCoin",
          "Kore",
          "Dnotes",
          "8BIT Coin",
          "Sativa Coin",
          "Ucoin",
          "Vtorrent",
          "IslaCoin",
          "Nexus",
          "Droidz",
          "Squall Coin",
          "Diggits",
          "Paycon",
          "Emercoin",
          "EverGreenCoin",
          "Decred",
          "EDRCoin",
          "Hitcoin",
          "DubaiCoin",
          "PWR Coin",
          "BillaryCoin",
          "GPU Coin",
          "EuropeCoin",
          "ZeitCoin",
          "SwingCoin",
          "SafeExchangeCoin",
          "Nebuchadnezzar",
          "Ratecoin",
          "Revenu",
          "Clockcoin",
          "VIP Tokens",
          "BitSend",
          "Let it Ride",
          "PutinCoin",
          "iBankCoin",
          "Frankywillcoin",
          "MudraCoin",
          "Lutetium Coin",
          "GoldBlocks",
          "CarterCoin",
          "BitTokens",
          "MustangCoin",
          "ZoneCoin",
          "RootCoin",
          "BitCurrency",
          "Swiscoin",
          "BuzzCoin",
          "Opair",
          "PesoBit",
          "Halloween Coin",
          "CoffeeCoin",
          "RoyalCoin",
          "GanjaCoin V2",
          "TeamUP",
          "LanaCoin",
          "InsaneCoin",
          "EmberCoin",
          "XenixCoin",
          "FreeCoin",
          "PLNCoin",
          "AquariusCoin",
          "Creatio",
          "Eternity",
          "Eurocoin",
          "BitcoinFast",
          "Stakenet",
          "BitConnect Coin",
          "MoneyCoin",
          "Enigma",
          "Russiacoin",
          "PandaCoin",
          "GameUnits",
          "GAKHcoin",
          "Allsafe",
          "LiteCreed",
          "Klingon Empire Darsek",
          "Internet of People",
          "KushCoin",
          "Printerium",
          "Impeach",
          "Zilbercoin",
          "FirstCoin",
          "FindCoin",
          "OpenChat",
          "RenosCoin",
          "VirtacoinPlus",
          "TajCoin",
          "Impact",
          "Atmos",
          "HappyCoin",
          "MacronCoin",
          "Condensate",
          "Independent Money System",
          "ArgusCoin",
          "LomoCoin",
          "ProCurrency",
          "GoldReserve",
          "GrowthCoin",
          "Phreak",
          "Degas Coin",
          "HTML5 Coin",
          "Ultimate Secure Cash",
          "QTUM",
          "Espers",
          "Denarius",
          "Virta Unique Coin",
          "Bitcoin Planet",
          "BritCoin",
          "Linda",
          "DeepOnion",
          "Signatum",
          "Cream",
          "Monoeci",
          "Draftcoin",
          "Stakecoin",
          "CoinonatX",
          "Ethereum Dark",
          "Obsidian",
          "Cardano",
          "Regalcoin",
          "TrezarCoin",
          "TerraNovaCoin",
          "Rupee",
          "WomenCoin",
          "Theresa May Coin",
          "NamoCoin",
          "LUXCoin",
          "Xios",
          "Bitcloud 2.0",
          "KekCoin",
          "BlackholeCoin",
          "Infinity Economics",
          "Magnet",
          "Electra",
          "Bitcoin Diamond",
          "Cash & Back Coin",
          "Bulwark",
          "Kalkulus",
          "GermanCoin",
          "LiteCoin Ultra",
          "PhantomX",
          "Digiwage",
          "Trollcoin",
          "Litecoin Plus",
          "Monkey Project",
          "TokenPay",
          "1717 Masonic Commemorative Token",
          "My Big Coin",
          "Unified Society USDEX",
          "Tokyo Coin",
          "Stipend",
          "Pushi",
          "Ellerium",
          "Velox",
          "Ontology",
          "Bitspace",
          "Briacoin",
          "Ignition",
          "MedicCoin",
          "Bitcoin Green",
          "Deviant Coin",
          "Abjcoin",
          "Carebit",
          "Zealium",
          "Proton",
          "iDealCash",
          "Bitcoin Incognito",
          "HollyWoodCoin",
          "Swisscoin",
          "Xt3ch",
          "TheVig",
          "EmaratCoin",
          "Dekado",
          "Poseidon Quark",
          "BitcoinWSpectrum",
          "Muse",
          "Trivechain",
          "Dystem",
          "Giant",
          "Peony Coin",
          "Absolute Coin",
          "Vitae",
          "TPCash",
          "ARENON",
          "EUNO",
          "MMOCoin",
          "Ketan",
          "XDNA",
          "PAXEX",
          "ThunderStake",
          "Kcash",
          "Acute Angle Cloud",
          "Bettex coin",
          "BitMoney",
          "Junson Ming Chan Coin",
          "HerbCoin",
          "PirateCash",
          "Oduwa",
          "Galilel",
          "Crypto Sports",
          "Credit",
          "Dash Platinum",
          "Nasdacoin",
          "Beetle Coin",
          "Titan Coin",
          "Award",
          "Insane Coin",
          "LiteDoge",
          "TruckCoin",
          "OrangeCoin",
          "BitstarCoin",
          "NeosCoin",
          "HyperCoin",
          "PinkCoin",
          "AudioCoin",
          "IncaKoin",
          "Piggy Coin",
          "Genstake",
          "XiaoMiCoin",
          "CapriCoin",
          " ClubCoin",
          "Radium",
          "Creditbit ",
          "OKCash",
          "HiCoin",
          "WhiteCoin",
          "FriendshipCoin",
          "Triangles Coin",
          "TigerCash",
          "Waves",
          "Particl",
          "Nxt",
          "Gapcoin",
          "BitcoinPlus"
         ],
         "legendgroup": "0",
         "marker": {
          "color": [
           0,
           0,
           0,
           0,
           0,
           0,
           0,
           0,
           0,
           0,
           0,
           0,
           0,
           0,
           0,
           0,
           0,
           0,
           0,
           0,
           0,
           0,
           0,
           0,
           0,
           0,
           0,
           0,
           0,
           0,
           0,
           0,
           0,
           0,
           0,
           0,
           0,
           0,
           0,
           0,
           0,
           0,
           0,
           0,
           0,
           0,
           0,
           0,
           0,
           0,
           0,
           0,
           0,
           0,
           0,
           0,
           0,
           0,
           0,
           0,
           0,
           0,
           0,
           0,
           0,
           0,
           0,
           0,
           0,
           0,
           0,
           0,
           0,
           0,
           0,
           0,
           0,
           0,
           0,
           0,
           0,
           0,
           0,
           0,
           0,
           0,
           0,
           0,
           0,
           0,
           0,
           0,
           0,
           0,
           0,
           0,
           0,
           0,
           0,
           0,
           0,
           0,
           0,
           0,
           0,
           0,
           0,
           0,
           0,
           0,
           0,
           0,
           0,
           0,
           0,
           0,
           0,
           0,
           0,
           0,
           0,
           0,
           0,
           0,
           0,
           0,
           0,
           0,
           0,
           0,
           0,
           0,
           0,
           0,
           0,
           0,
           0,
           0,
           0,
           0,
           0,
           0,
           0,
           0,
           0,
           0,
           0,
           0,
           0,
           0,
           0,
           0,
           0,
           0,
           0,
           0,
           0,
           0,
           0,
           0,
           0,
           0,
           0,
           0,
           0,
           0,
           0,
           0,
           0,
           0,
           0,
           0,
           0,
           0,
           0,
           0,
           0,
           0,
           0,
           0,
           0,
           0,
           0,
           0,
           0,
           0,
           0,
           0,
           0,
           0,
           0,
           0,
           0,
           0,
           0,
           0,
           0,
           0,
           0,
           0,
           0,
           0,
           0,
           0,
           0,
           0,
           0,
           0,
           0,
           0,
           0,
           0,
           0,
           0,
           0,
           0,
           0,
           0,
           0,
           0,
           0,
           0,
           0,
           0,
           0,
           0,
           0,
           0,
           0,
           0,
           0,
           0,
           0,
           0,
           0,
           0,
           0,
           0,
           0,
           0,
           0,
           0,
           0,
           0,
           0,
           0,
           0,
           0,
           0,
           0,
           0,
           0,
           0,
           0,
           0,
           0,
           0,
           0,
           0,
           0,
           0,
           0,
           0,
           0,
           0,
           0,
           0,
           0,
           0,
           0,
           0,
           0,
           0,
           0,
           0,
           0,
           0,
           0,
           0
          ],
          "coloraxis": "coloraxis",
          "symbol": "circle"
         },
         "mode": "markers",
         "name": "0",
         "scene": "scene",
         "showlegend": true,
         "type": "scatter3d",
         "x": [
          -0.33304843282205115,
          -0.3163741416751411,
          -0.39677630046270734,
          -0.25606449547005056,
          -0.3181870150957749,
          -0.2737731141751583,
          -0.24642687094298263,
          -0.3327077472989678,
          -0.32528071091101896,
          -0.3315440556637605,
          -0.3330443649903238,
          -0.3330286347163816,
          0.67412503427879,
          -0.3750486497655559,
          -0.3522713484176673,
          -0.2687480106934131,
          -0.3311056407923728,
          -0.33217336202401426,
          -0.39667093015004523,
          -0.4399774147407267,
          -0.028390968683663257,
          -0.28146331216183146,
          -0.2883853896905489,
          -0.28376242069457863,
          -0.28438502208441524,
          -0.3462700960871011,
          -0.3273458912829317,
          -0.33144888665365096,
          0.025318944777263097,
          -0.3520725121707051,
          -0.3970427995848155,
          -0.2512796722456936,
          -0.31707057694070206,
          -0.39695435481425795,
          -0.30826029578928227,
          -0.33172470831654366,
          -0.25805959942566487,
          -0.39691882137107576,
          -0.2517479931067716,
          -0.2841657472865108,
          -0.32414306784834546,
          0.01816045163547136,
          -0.3359411939802299,
          -0.3173981005389218,
          -0.37446986043554814,
          -0.28836568312338684,
          -0.2844604219358484,
          -0.28301491088167835,
          -0.33303049004989976,
          -0.28441258297037386,
          -0.35251757984931487,
          -0.3327646467548065,
          -0.39702431683462136,
          -0.4729453995199654,
          -0.41622376692938573,
          -0.3022989696408893,
          -0.2867659255427801,
          -0.28393380380435157,
          -0.31073624219432194,
          -0.24887078559809148,
          -0.09083881384221446,
          -0.31815791070406874,
          -0.07421283702099948,
          -0.31822167828357206,
          -0.234797576651398,
          -0.33264038568702736,
          -0.2866345410584644,
          -0.39419063267412296,
          0.8657859407008379,
          -0.3180215305021624,
          -0.05721343350691541,
          -0.3519543650883614,
          -0.3948657380100885,
          -0.31676375869668794,
          -0.31442965625200187,
          -0.35623249009373514,
          -0.3957583134138771,
          -0.3664781437450725,
          -0.3089162817241671,
          -0.33267850071351335,
          -0.3311163599664208,
          -0.23873949126482616,
          -0.33999866265275297,
          -0.39649774776287083,
          -0.3318820944443203,
          -0.3182025882122324,
          -0.39701349302204547,
          -0.33286784888586607,
          -0.33302471951156193,
          -0.28662474539741717,
          -0.25963942695177644,
          0.026479398427116874,
          -0.3509106320378498,
          -0.33263863312899095,
          -0.3831628716993488,
          -0.35023894522619015,
          -0.24017156199972436,
          -0.4235814100032633,
          -0.34998698064200207,
          -0.28828058761147396,
          -0.39660570194447364,
          0.8484702550579273,
          -0.39696837195731666,
          -0.35137474298822946,
          -0.3325660322918194,
          -0.33272044579209886,
          -0.3519543650883614,
          -0.39654284906433007,
          -0.31806517744416984,
          -0.3325667844202739,
          -0.37738083990498356,
          -0.33271428227022753,
          -0.32829775730645155,
          -0.3969973808300084,
          -0.3319241566708432,
          0.3553842888808667,
          -0.33291372682508885,
          -0.33298437014740173,
          -0.3532429476355633,
          -0.35765127485783776,
          -0.3292073380647516,
          -0.31817898703859354,
          -0.3969072631433499,
          -0.3327619939706777,
          -0.3328890216075787,
          -0.28827197732636395,
          -0.2863085314371364,
          -0.2399392354064898,
          -0.3137276969624614,
          -0.28801300352038783,
          -0.3961722870878682,
          -0.4187577151656338,
          -0.3949098338757989,
          -0.35019955565068084,
          -0.39607010793340075,
          -0.3445951092742851,
          -0.39200739345124047,
          -0.33283227445147473,
          -0.3328314428546616,
          -0.32594605837623164,
          0.2594403912275772,
          -0.39654905944166186,
          -0.2708975974370486,
          -0.35198865241387195,
          -0.3320422263686508,
          0.8864759834379683,
          -0.27246216489636854,
          -0.36525553498836855,
          0.5833100287318281,
          -0.35776933543863226,
          -0.35627030571837476,
          -0.41156033410720566,
          -0.28409742153994755,
          0.1323342373771214,
          -0.2841682701411975,
          -0.35008789480824126,
          -0.4110649074789632,
          -0.3968217023549832,
          -0.2883463334411707,
          -0.3518547523734886,
          -0.3324671635716143,
          -0.33296728653950897,
          -0.3141752091630091,
          0.639564179360306,
          -0.39676244292532087,
          -0.3412650558209571,
          -0.33292284088043805,
          -0.31886830856705606,
          0.43674968601391984,
          -0.3165239896606202,
          -0.3425231850812351,
          -0.3970471942340093,
          -0.3328731333057848,
          -0.39603371509591434,
          -0.3545827810870552,
          -0.33274346863736465,
          -0.10012182420079273,
          -0.3955540014782957,
          0.2021612630129343,
          -0.28083647857526217,
          -0.3302015832644831,
          -0.31318223592084643,
          -0.3531287652549029,
          0.08180522301829335,
          -0.33188107141863005,
          -0.3961357769282126,
          -0.352292690035297,
          -0.31943685490527546,
          -0.3329894325555465,
          -0.3524894887862676,
          -0.36676026218437213,
          -0.2763715470248034,
          -0.2764493887378717,
          -0.32853122862478373,
          -0.23172757268037406,
          -0.370339411427139,
          -0.3968389139485091,
          -0.2585454939683172,
          -0.28750548264353654,
          -0.31283313927289086,
          -0.3573679286015635,
          -0.3330168073672974,
          -0.33299850111411355,
          -0.2818822942987039,
          -0.35017856362556987,
          -0.3514488789164317,
          -0.3327147618020148,
          -0.39470090462068885,
          -0.3516376896283116,
          -0.31627881106237304,
          -0.27953663387821537,
          -0.16395423908149917,
          -0.28804032599893215,
          -0.1359769195886536,
          -0.28829249090284365,
          -0.35365806086374724,
          -0.3321883069811076,
          -0.20386350059738734,
          -0.3488321899439312,
          -0.2725902580820003,
          1.0068507243641105,
          -0.35996527361429304,
          -0.3532423657757412,
          -0.39771948474271007,
          -0.16890034137057808,
          -0.3631469026255098,
          -0.3519608656279821,
          -0.32588611197183265,
          -0.3520665325629959,
          -0.3963118470995666,
          -0.28553561426071844,
          -0.35073654531304,
          -0.34672973039230165,
          -0.35192769350283515,
          -0.19235831853794702,
          -0.27067567664049746,
          -0.3231656152745294,
          -0.21418817513993596,
          0.689782166450863,
          -0.14231012749995522,
          -0.3970135291529495,
          -0.27235155786410764,
          -0.3327187643469094,
          -0.3974700356357264,
          -0.3533594380703487,
          0.5745801199539281,
          -0.3525438417041438,
          -0.3322011770471425,
          -0.2529963495562767,
          -0.3083351478849192,
          -0.3938738863498792,
          -0.39653928457821136,
          0.10258610356125199,
          -0.39407748031165835,
          -0.33158594123246027,
          -0.332411880669379,
          -0.27380573954951215,
          -0.33293069728298824,
          -0.3881604961741252,
          -0.24654873295979235,
          -0.09770690245227914,
          -0.3839047260498945,
          -0.3322085212691846,
          -0.3252673723235322,
          -0.3931052254462189,
          -0.33064630865542294,
          -0.35223020073671923,
          -0.3919420164458341,
          -0.31670090533633644,
          -0.09542494145321417,
          -0.3278389193481109,
          -0.34589555423818613,
          -0.28456772817531517,
          -0.25468771744707663,
          -0.44593319152876976,
          -0.35216602822294096,
          -0.33819431939822714,
          -0.3310918436981163,
          -0.2886893342168808
         ],
         "y": [
          1.0202456897138097,
          1.0203476349026852,
          1.2447000033937499,
          1.7228140777345766,
          0.8627103406023872,
          0.6331455721494224,
          1.9087564791531162,
          1.0202435308591713,
          1.020471394003085,
          1.0202894019592244,
          1.0202454483980308,
          1.0202455459239745,
          0.30515654309550255,
          0.9757237299677363,
          1.4909960077096043,
          0.24328966372156008,
          1.0202158503563925,
          1.0157308500635804,
          1.2447030651058737,
          2.0514022615575587,
          0.7982359055468599,
          0.8620536134394613,
          0.7906696943740681,
          1.842883458102186,
          1.8428653673688926,
          0.53340123151324,
          1.020109370002988,
          1.0202216966915427,
          1.030658658226029,
          1.015152646699523,
          1.2447080790157403,
          0.12220762481481774,
          1.636620258810144,
          1.2447034587729304,
          1.0198154110500581,
          1.0202122440532309,
          0.25753767068158234,
          1.2447077271502769,
          0.12226592570098233,
          1.842871738767915,
          1.019785362755441,
          0.5248446579599761,
          1.4777996975923409,
          0.8627001858254842,
          0.975743697270497,
          0.7906819018155025,
          1.8428545474504365,
          0.79047783383352,
          1.0202462111015154,
          1.8428573756670212,
          1.0151253327598844,
          1.020239553879048,
          1.2447086167823023,
          2.272586480452176,
          1.8987879680685393,
          0.6351473929210478,
          0.7906564767312,
          1.8428425239076593,
          0.8622235679107082,
          1.9089182371163518,
          0.977748788122069,
          0.8627111862795677,
          1.2349966786161803,
          0.8627176029099428,
          1.5430341680909598,
          1.0202273445714425,
          0.7905732469083243,
          1.2445148246981694,
          0.7530280723849426,
          0.8627022054633809,
          0.31112553764581874,
          1.49099083644707,
          1.244717406376231,
          0.8626073569017343,
          0.86245781604495,
          1.5394409540368104,
          1.2446454495000394,
          1.5831684359211795,
          1.019508715318402,
          1.020224559204747,
          1.02022992064042,
          1.6131857371923632,
          1.015031032345645,
          1.2446879627653884,
          1.020214861807736,
          0.8627106071866122,
          1.2447067740242737,
          1.0202358360797126,
          1.0202463787742377,
          0.790732487696927,
          0.30906672781317124,
          2.010784283947617,
          1.4909823331521275,
          1.020257597165153,
          1.2440327533677786,
          1.4910262991895729,
          1.6132861456316403,
          1.9463845117560366,
          1.4908459385645587,
          2.0106226795554667,
          1.2446992077223007,
          1.8751711635372792,
          1.2447074714763775,
          1.4909861057230664,
          1.0202319930770776,
          1.0202250182900814,
          1.49099083644707,
          1.2446794613971661,
          0.8627153189755834,
          1.0202359549668312,
          0.7309171744578746,
          1.0202352646049972,
          1.0199158473543146,
          1.2447058040164136,
          1.0201748089000082,
          0.7860060762528234,
          1.0202402557179049,
          1.0202451668510135,
          1.4860466735353015,
          0.6214535083309941,
          1.0199977555369057,
          0.8627112929585113,
          1.244705291631292,
          1.020239630960165,
          1.0202345497225918,
          0.7906450747892637,
          0.3189100191270386,
          1.6132842494427422,
          1.0200879989202887,
          0.7906673939096026,
          1.2446614652048713,
          1.9561842708306616,
          1.2446909570380082,
          1.4909768989728827,
          1.2446644341925115,
          1.4909314188284835,
          1.2444948482587617,
          1.0202367172213582,
          1.0202314288542136,
          1.0197329738252152,
          0.5947164244200382,
          1.244693662691885,
          0.7897512917315416,
          1.4909826492971552,
          1.0201994225938593,
          1.8772086979462272,
          0.6330487745595151,
          1.583156141569206,
          1.8828969295416635,
          1.5394538253945065,
          1.5394182826185085,
          1.9613162434734455,
          1.8428521514661433,
          0.9978137987520673,
          1.842858076013795,
          1.449951422395447,
          1.9613306389295824,
          1.244707667529039,
          0.7906699476963601,
          1.4909638168524215,
          1.0202278820977824,
          1.0202450274190735,
          1.723648981143903,
          1.58184254018671,
          1.2446968106109413,
          0.5332617374036592,
          1.0202380253883772,
          0.720136816355393,
          1.024636287589095,
          0.8627025737947646,
          1.539041114014716,
          1.866769279641574,
          1.0202356825319805,
          1.7155324050319785,
          1.4734259594394337,
          1.0202439169299544,
          0.6317285053379744,
          1.2446477906909388,
          1.5341581224762944,
          1.842817467933661,
          1.0201774014077303,
          1.3098745187495662,
          1.486046395859994,
          0.9963455930312493,
          1.020171746290356,
          1.244698480438392,
          1.4859987806968724,
          1.0199940184472598,
          1.0202445277467092,
          1.0151254299057073,
          1.5831663507369549,
          -0.10529798952174074,
          0.26687554154086174,
          1.020210116456081,
          1.612958027880084,
          0.9027066958854159,
          1.244696026791177,
          1.3473012075564719,
          0.7906177295552532,
          1.46750374755617,
          1.5394367254516517,
          1.020244451412776,
          1.0202435451570622,
          0.7905107439183041,
          1.5235375666474973,
          1.490956626258014,
          1.020233812496622,
          1.7155711320878952,
          1.4909568927434649,
          0.6572705189768143,
          1.0181174347906274,
          0.7377641318251422,
          0.7906726593433961,
          1.0186372435589524,
          0.7906523886939445,
          2.0140485879974155,
          1.0202102788104148,
          1.6793180718036989,
          1.4857182150483794,
          0.6331168333333764,
          1.7233161234128955,
          0.8868362564479101,
          1.486042375917908,
          1.7156235356100589,
          0.7820149737147943,
          0.9496918537170899,
          1.4860228041622976,
          1.0197347156690846,
          1.015113270640919,
          1.2446933644226508,
          0.7905771715185682,
          1.490889595651087,
          0.9712582015554633,
          1.0150849459116034,
          1.0113901053296799,
          2.2007365448710696,
          3.025599844861387,
          1.1177351545590941,
          0.7992211870482966,
          1.021247646514856,
          1.7156089216405104,
          -0.11225462988002295,
          1.0202401679823978,
          1.7156207992468906,
          1.4860444608217154,
          0.9928306314883408,
          1.0151247854036218,
          1.020209904848943,
          1.3471460488555362,
          2.011841993475596,
          1.2444981411508895,
          1.244701137590879,
          1.0077357273379421,
          1.2447942420868174,
          1.0201443674263384,
          1.0202251709494994,
          0.6331385119213788,
          1.0202491107486413,
          1.2446066263462892,
          1.0152086668452418,
          0.8689959553968744,
          1.2443707412312475,
          1.020259308479771,
          1.020184146624129,
          1.2446729224153397,
          1.0202004335308064,
          1.4909907315383946,
          0.701255459435492,
          0.8626938377745423,
          0.7890908929802106,
          1.0201813347273792,
          0.5333715592636395,
          1.8428599722448324,
          0.6329900317426884,
          3.4119753116176987,
          1.4909928592643098,
          1.4315960660024403,
          1.0201227698941469,
          0.790671778499813
         ],
         "z": [
          -0.5772130429992481,
          -0.5776844751185805,
          -0.5459567411716342,
          -0.25084275159916003,
          -0.41429363181851614,
          -0.077072141392011,
          -0.7183497362007961,
          -0.5772218663234994,
          -0.577466643657854,
          -0.5772621579236232,
          -0.5772131072493144,
          -0.5772135522491332,
          -0.24926062869262944,
          -0.4413147907558292,
          -0.11099979423458971,
          -0.2803098810104616,
          -0.5772600163436516,
          -0.20939609667603404,
          -0.5459601813025251,
          -0.5930854036413388,
          -0.2484866840212963,
          -0.4151638724912871,
          -0.2399961652157439,
          -0.722843974521379,
          -0.7228236478257617,
          -0.36318105480136154,
          -0.5773416272971869,
          -0.5772518267910692,
          -0.5889130242811004,
          -0.20874642904812044,
          -0.5459510571101398,
          0.0741594833765108,
          -0.24162823939874212,
          -0.5459525735468632,
          -0.5778029269525223,
          -0.5772425475137989,
          -0.14018399855076247,
          -0.5459543507037466,
          0.07416106065963972,
          -0.7228308067112803,
          -0.5773666608341392,
          -0.06079734470205275,
          -0.08753048099094356,
          -0.4143130805760624,
          -0.44133428768070126,
          -0.23999902727201933,
          -0.7228195406755002,
          -0.2401051570287496,
          -0.5772136288007925,
          -0.7228213767716722,
          -0.20872915598257202,
          -0.5772195655629268,
          -0.5459516606722545,
          -0.2930243610792606,
          -0.8883662812549388,
          -0.09710596428953923,
          -0.24003754371105646,
          -0.7228315229738945,
          -0.4144027768542523,
          -0.7183143347624589,
          -0.4953006246813184,
          -0.414294582018951,
          -0.5528501544406929,
          -0.41429407706740795,
          -0.6427482680700396,
          -0.5772206056980578,
          -0.24002523385857802,
          -0.5459915189694162,
          -0.2641044437417757,
          -0.4142965663180959,
          -0.2305743953335135,
          -0.1110074006170088,
          -0.5460118496272568,
          -0.4143125739696614,
          -0.41434732842689065,
          -0.6387713187402071,
          -0.5459739328429932,
          -0.09183893359738551,
          -0.5777266604762389,
          -0.5772190413609753,
          -0.577262408876051,
          -0.3856136400583474,
          -0.20905052532764168,
          -0.5459619958736928,
          -0.5772387804161674,
          -0.41429326051187854,
          -0.545951602674369,
          -0.5772160590942459,
          -0.5772138171973785,
          -0.24005586542211296,
          -0.3459342704283941,
          -0.8606329416479909,
          -0.11103407169412845,
          -0.577226422148971,
          -0.5461985223476313,
          -0.11106066318155984,
          -0.3855939678928371,
          -0.8181621467457784,
          -0.11103309978778171,
          -0.8520698896796921,
          -0.5459612138767159,
          -0.7596925609016524,
          -0.5459529587751881,
          -0.11102221038626758,
          -0.5772235076394857,
          -0.5772179918950475,
          -0.1110074006170088,
          -0.5459591521599653,
          -0.4142978838244392,
          -0.5772242427542978,
          -0.19900242047175545,
          -0.5772201128662244,
          -0.5772789216285877,
          -0.545951854456147,
          -0.577230002439593,
          -0.2565575868688591,
          -0.57721565826772,
          -0.5772146798475175,
          -0.15671881156200115,
          -0.38926446149651367,
          -0.5772698847980354,
          -0.4142940310432015,
          -0.5459541995786409,
          -0.5772196521710466,
          -0.5772152398641239,
          -0.2399945447264592,
          -0.2444891515445493,
          -0.3855999040074852,
          -0.5777067019538544,
          -0.2400058208491471,
          -0.5459657652864366,
          -0.7942953510510734,
          -0.5460056106238949,
          -0.1110523106662245,
          -0.5459691012323648,
          -0.1111955583154877,
          -0.5460468909285403,
          -0.5772171914416828,
          -0.5772162055316773,
          -0.5773077967836256,
          -0.08419786930676694,
          -0.5459616918955992,
          -0.2402950762774461,
          -0.11100490995806199,
          -0.5772314955586372,
          -0.743043537710891,
          -0.07708921886631208,
          -0.09186973055257155,
          -0.6198570395746164,
          -0.6387321137683035,
          -0.6387659703972323,
          -0.7192875667184373,
          -0.7228289236727201,
          -0.585550630270832,
          -0.7228281329385974,
          -0.1360306423129805,
          -0.7193037414113266,
          -0.5459569719507819,
          -0.23999727222466963,
          -0.11100494839505148,
          -0.5772254037521694,
          -0.5772151163462138,
          -0.24942674764313297,
          -0.16524792489599785,
          -0.5459565079696164,
          -0.36329012651772685,
          -0.5772149859047552,
          -0.029056594851494214,
          -0.5989173036078044,
          -0.4143372305683178,
          -0.6390666919392299,
          -0.5779971397478094,
          -0.5772158865684585,
          -0.4939692286958373,
          -0.017079111447030792,
          -0.5772209716418829,
          -0.08150910284309346,
          -0.5459799175978299,
          -0.6529003659554924,
          -0.7229107045383462,
          -0.5772771908073312,
          -0.30151254593128773,
          -0.15672185376634132,
          -0.5839009585684078,
          -0.577230586339657,
          -0.5459738135006666,
          -0.15673543749698132,
          -0.5775340217758749,
          -0.5772144207478098,
          -0.20872993597523898,
          -0.09183088855125214,
          0.14140846015061198,
          -0.22203615922124292,
          -0.577328707818911,
          -0.38576029047495797,
          -0.5057292145817164,
          -0.5459542855921914,
          -0.42139102268299305,
          -0.24001010765386205,
          0.09985934739407382,
          -0.6387397339180542,
          -0.5772136641393206,
          -0.577213987552826,
          -0.24014213470485024,
          -0.048099904661818904,
          -0.11101457926087108,
          -0.5772198229612575,
          -0.49401274230388137,
          -0.11100951196393412,
          -0.034357046904294725,
          -0.5782577511500003,
          0.027453703686960578,
          -0.24000608429454862,
          -0.5822483645269568,
          -0.23999538336968343,
          -0.8509509901814868,
          -0.5772296059342162,
          -0.38110217934929763,
          -0.15677573989389534,
          -0.07709872493043961,
          -0.1543173660424074,
          -0.3715984408710263,
          -0.15671800781093959,
          -0.493940910265711,
          -0.2415846694719887,
          -0.36627989741013417,
          -0.15674901339521893,
          -0.5773097539143607,
          -0.208739082417165,
          -0.5459680651601735,
          -0.24005577098784775,
          -0.11102110633284844,
          -0.43677750231415613,
          -0.20873744462881752,
          -0.5793380522071996,
          -0.47046513945999363,
          15.920415370936372,
          -0.0841677535261486,
          0.04119603621444053,
          -0.21559475321623037,
          -0.4939572599101771,
          0.19208725113523767,
          -0.577220926407577,
          -0.4939471503073412,
          -0.15671523189437309,
          -0.5965883875222162,
          -0.20872833972268703,
          -0.5772291857521885,
          -0.42151185637233646,
          -0.8517587824791497,
          -0.5459969236204214,
          -0.5459633822714705,
          -0.5866362820035284,
          -0.5460478690168128,
          -0.5772333655223365,
          -0.5772263853164026,
          -0.07706991067936661,
          -0.5772168868359184,
          -0.5461724844644666,
          -0.5785972776162778,
          -0.42146883152962267,
          -0.5462428645824948,
          -0.577238407575664,
          -0.5774122292944275,
          -0.5460510892844487,
          -0.5772695276390988,
          -0.11099990350299903,
          -0.18945377268082614,
          -0.4143307690007687,
          -0.24492570066578556,
          -0.5773419858651297,
          -0.36318554927359814,
          -0.7228176663807565,
          -0.07755983104438727,
          13.359052282484566,
          -0.1110020487761976,
          -0.13567310611050354,
          -0.5772426405927376,
          -0.23998832358368608
         ]
        },
        {
         "customdata": [
          [
           "X13"
          ],
          [
           "Scrypt"
          ],
          [
           "CryptoNight"
          ],
          [
           "DPoS"
          ],
          [
           "Scrypt"
          ],
          [
           "DPoS"
          ],
          [
           "CryptoNight"
          ],
          [
           "Semux BFT consensus"
          ],
          [
           "Scrypt"
          ],
          [
           "CryptoNight Heavy"
          ],
          [
           "DPoS"
          ],
          [
           "DPoS"
          ],
          [
           "DPoS"
          ],
          [
           "DPoS"
          ],
          [
           "SHA-256"
          ]
         ],
         "hoverlabel": {
          "namelength": 0
         },
         "hovertemplate": "<b>%{hovertext}</b><br><br>Class=%{marker.color}<br>PC 1=%{x}<br>PC 2=%{y}<br>PC 3=%{z}<br>Algorithm=%{customdata[0]}",
         "hovertext": [
          "EliteCoin",
          "MoonCoin",
          "ByteCoin",
          "ARK",
          "gCn Coin",
          "Lamden Tau",
          "TurtleCoin",
          "Semux",
          "Lynx",
          "Qwertycoin",
          "ALAX",
          "Lisk",
          "EOS",
          "Oxycoin",
          "ZEPHYR"
         ],
         "legendgroup": "4",
         "marker": {
          "color": [
           4,
           4,
           4,
           4,
           4,
           4,
           4,
           4,
           4,
           4,
           4,
           4,
           4,
           4,
           4
          ],
          "coloraxis": "coloraxis",
          "symbol": "diamond"
         },
         "mode": "markers",
         "name": "4",
         "scene": "scene",
         "showlegend": true,
         "type": "scatter3d",
         "x": [
          2.3027120314468235,
          2.5594575373728627,
          3.8609441860481115,
          3.70228845016563,
          3.247007883514579,
          3.7071485908248243,
          8.047664144932298,
          3.893773227921045,
          2.2462436353410324,
          3.1078288364196847,
          3.7193994404343425,
          3.702680612034668,
          3.712554323394831,
          3.713799236412226,
          2.458211735332734
         ],
         "y": [
          1.6921298702740724,
          -1.3382928947872663,
          -2.3365115148150815,
          1.969710256181225,
          -1.186002881152856,
          1.9695818179944045,
          -2.801298481862036,
          1.9886049384228772,
          0.24002158734032925,
          -2.2279387859466704,
          1.969578243396155,
          1.9696965417246903,
          1.970098434362714,
          1.9701346074097694,
          0.8792493405739071
         ],
         "z": [
          -0.7642082500704039,
          -0.01950526369152415,
          0.3375534398769248,
          -0.2157149073433189,
          -0.06718334060548584,
          -0.21582215953140374,
          0.3126949496048258,
          -0.1185389607988742,
          -0.38417957781286394,
          0.2780122477834065,
          -0.21615356307434547,
          -0.21572292247566285,
          -0.21606720823778022,
          -0.21610785216885406,
          -0.13940499947099233
         ]
        },
        {
         "customdata": [
          [
           "SHA-256"
          ],
          [
           "Ethash"
          ],
          [
           "Scrypt"
          ],
          [
           "CryptoNight-V7"
          ],
          [
           "Ethash"
          ],
          [
           "Equihash"
          ],
          [
           "Multiple"
          ],
          [
           "Scrypt"
          ],
          [
           "X11"
          ],
          [
           "Scrypt"
          ],
          [
           "Multiple"
          ],
          [
           "SHA-256"
          ],
          [
           "Scrypt"
          ],
          [
           "Scrypt"
          ],
          [
           "Quark"
          ],
          [
           "Groestl"
          ],
          [
           "Scrypt"
          ],
          [
           "Scrypt"
          ],
          [
           "Scrypt"
          ],
          [
           "X11"
          ],
          [
           "Multiple"
          ],
          [
           "SHA-256"
          ],
          [
           "Scrypt"
          ],
          [
           "Scrypt"
          ],
          [
           "Scrypt"
          ],
          [
           "Scrypt"
          ],
          [
           "Scrypt"
          ],
          [
           "NeoScrypt"
          ],
          [
           "Scrypt"
          ],
          [
           "Scrypt"
          ],
          [
           "Scrypt"
          ],
          [
           "Scrypt"
          ],
          [
           "SHA-256"
          ],
          [
           "Scrypt"
          ],
          [
           "Scrypt"
          ],
          [
           "Scrypt"
          ],
          [
           "Scrypt"
          ],
          [
           "HybridScryptHash256"
          ],
          [
           "Scrypt"
          ],
          [
           "Scrypt"
          ],
          [
           "SHA-256"
          ],
          [
           "Scrypt"
          ],
          [
           "Scrypt"
          ],
          [
           "Scrypt"
          ],
          [
           "Scrypt"
          ],
          [
           "SHA-256"
          ],
          [
           "SHA-256"
          ],
          [
           "SHA-256"
          ],
          [
           "SHA-256"
          ],
          [
           "SHA-256"
          ],
          [
           "X11"
          ],
          [
           "Scrypt"
          ],
          [
           "Lyra2REv2"
          ],
          [
           "Scrypt"
          ],
          [
           "SHA-256"
          ],
          [
           "CryptoNight"
          ],
          [
           "Scrypt"
          ],
          [
           "Scrypt"
          ],
          [
           "Scrypt"
          ],
          [
           "Scrypt"
          ],
          [
           "Scrypt"
          ],
          [
           "Scrypt"
          ],
          [
           "Stanford Folding"
          ],
          [
           "Multiple"
          ],
          [
           "QuBit"
          ],
          [
           "Scrypt"
          ],
          [
           "Scrypt"
          ],
          [
           "M7 POW"
          ],
          [
           "Scrypt"
          ],
          [
           "SHA-256"
          ],
          [
           "Scrypt"
          ],
          [
           "X11"
          ],
          [
           "Lyra2RE"
          ],
          [
           "SHA-256"
          ],
          [
           "X11"
          ],
          [
           "Scrypt"
          ],
          [
           "Scrypt"
          ],
          [
           "Ethash"
          ],
          [
           "Blake2b"
          ],
          [
           "X11"
          ],
          [
           "SHA-256"
          ],
          [
           "Scrypt"
          ],
          [
           "1GB AES Pattern Search"
          ],
          [
           "Scrypt"
          ],
          [
           "SHA-256"
          ],
          [
           "X11"
          ],
          [
           "Dagger"
          ],
          [
           "Scrypt"
          ],
          [
           "X11GOST"
          ],
          [
           "Scrypt"
          ],
          [
           "X11"
          ],
          [
           "Scrypt"
          ],
          [
           "X11"
          ],
          [
           "Equihash"
          ],
          [
           "CryptoNight"
          ],
          [
           "SHA-256"
          ],
          [
           "Multiple"
          ],
          [
           "Scrypt"
          ],
          [
           "SHA-256"
          ],
          [
           "Scrypt"
          ],
          [
           "Lyra2Z"
          ],
          [
           "Ethash"
          ],
          [
           "Equihash"
          ],
          [
           "Scrypt"
          ],
          [
           "X11"
          ],
          [
           "X11"
          ],
          [
           "CryptoNight"
          ],
          [
           "Scrypt"
          ],
          [
           "CryptoNight"
          ],
          [
           "Lyra2RE"
          ],
          [
           "X11"
          ],
          [
           "CryptoNight-V7"
          ],
          [
           "Scrypt"
          ],
          [
           "X11"
          ],
          [
           "Equihash"
          ],
          [
           "Scrypt"
          ],
          [
           "Lyra2RE"
          ],
          [
           "Dagger-Hashimoto"
          ],
          [
           "Scrypt"
          ],
          [
           "NIST5"
          ],
          [
           "Scrypt"
          ],
          [
           "SHA-256"
          ],
          [
           "Scrypt"
          ],
          [
           "CryptoNight-V7"
          ],
          [
           "Argon2d"
          ],
          [
           "Blake2b"
          ],
          [
           "Cloverhash"
          ],
          [
           "CryptoNight"
          ],
          [
           "X11"
          ],
          [
           "Scrypt"
          ],
          [
           "Scrypt"
          ],
          [
           "X11"
          ],
          [
           "X11"
          ],
          [
           "CryptoNight"
          ],
          [
           "Time Travel"
          ],
          [
           "Keccak"
          ],
          [
           "X11"
          ],
          [
           "SHA-256"
          ],
          [
           "Scrypt"
          ],
          [
           "Scrypt"
          ],
          [
           "Scrypt"
          ],
          [
           "Scrypt"
          ],
          [
           "Scrypt"
          ],
          [
           "Scrypt"
          ],
          [
           "CryptoNight"
          ],
          [
           "Equihash"
          ],
          [
           "X11"
          ],
          [
           "NeoScrypt"
          ],
          [
           "Equihash"
          ],
          [
           "Dagger"
          ],
          [
           "Scrypt"
          ],
          [
           "X11"
          ],
          [
           "NeoScrypt"
          ],
          [
           "Ethash"
          ],
          [
           "NeoScrypt"
          ],
          [
           "Multiple"
          ],
          [
           "CryptoNight"
          ],
          [
           "CryptoNight"
          ],
          [
           "Ethash"
          ],
          [
           "X11"
          ],
          [
           "CryptoNight-V7"
          ],
          [
           "Scrypt"
          ],
          [
           "BLAKE256"
          ],
          [
           "X11"
          ],
          [
           "NeoScrypt"
          ],
          [
           "NeoScrypt"
          ],
          [
           "Scrypt"
          ],
          [
           "X11"
          ],
          [
           "SHA-256"
          ],
          [
           "C11"
          ],
          [
           "SkunkHash"
          ],
          [
           "CryptoNight"
          ],
          [
           "Scrypt"
          ],
          [
           "Dagger"
          ],
          [
           "Lyra2REv2"
          ],
          [
           "Scrypt"
          ],
          [
           "Scrypt"
          ],
          [
           "X11"
          ],
          [
           "Ethash"
          ],
          [
           "CryptoNight"
          ],
          [
           "Scrypt"
          ],
          [
           "IMesh"
          ],
          [
           "Equihash"
          ],
          [
           "Lyra2Z"
          ],
          [
           "X11"
          ],
          [
           "CryptoNight"
          ],
          [
           "NIST5"
          ],
          [
           "Lyra2RE"
          ],
          [
           "Tribus"
          ],
          [
           "Lyra2Z"
          ],
          [
           "CryptoNight"
          ],
          [
           "CryptoNight Heavy"
          ],
          [
           "CryptoNight"
          ],
          [
           "Jump Consistent Hash"
          ],
          [
           "CryptoNight"
          ],
          [
           "X16R"
          ],
          [
           "HMQ1725"
          ],
          [
           "X11"
          ],
          [
           "Scrypt"
          ],
          [
           "CryptoNight-V7"
          ],
          [
           "Cryptonight-GPU"
          ],
          [
           "XEVAN"
          ],
          [
           "SHA-256"
          ],
          [
           "X11"
          ],
          [
           "X16R"
          ],
          [
           "Equihash"
          ],
          [
           "Lyra2Z"
          ],
          [
           "SHA-256"
          ],
          [
           "CryptoNight"
          ],
          [
           "Blake"
          ],
          [
           "Blake"
          ],
          [
           "Exosis"
          ],
          [
           "Scrypt"
          ],
          [
           "Equihash"
          ],
          [
           "Equihash"
          ],
          [
           "QuBit"
          ],
          [
           "SHA-256"
          ],
          [
           "X13"
          ],
          [
           "SHA-256"
          ],
          [
           "Scrypt"
          ],
          [
           "NeoScrypt"
          ],
          [
           "Blake"
          ],
          [
           "Scrypt"
          ],
          [
           "SHA-256"
          ],
          [
           "Scrypt"
          ],
          [
           "Groestl"
          ],
          [
           "Scrypt"
          ],
          [
           "Scrypt"
          ],
          [
           "Multiple"
          ],
          [
           "Equihash+Scrypt"
          ],
          [
           "Ethash"
          ],
          [
           "CryptoNight"
          ],
          [
           "Equihash"
          ]
         ],
         "hoverlabel": {
          "namelength": 0
         },
         "hovertemplate": "<b>%{hovertext}</b><br><br>Class=%{marker.color}<br>PC 1=%{x}<br>PC 2=%{y}<br>PC 3=%{z}<br>Algorithm=%{customdata[0]}",
         "hovertext": [
          "Bitcoin",
          "Ethereum",
          "Litecoin",
          "Monero",
          "Ethereum Classic",
          "ZCash",
          "DigiByte",
          "ProsperCoin",
          "Spreadcoin",
          "Argentum",
          "MyriadCoin",
          "ZetaCoin",
          "SexCoin",
          "Quatloo",
          "QuarkCoin",
          "Riecoin",
          "Digitalcoin ",
          "Catcoin",
          "CannaCoin",
          "CryptCoin",
          "Verge",
          "DevCoin",
          "EarthCoin",
          "E-Gulden",
          "Einsteinium",
          "Emerald",
          "Franko",
          "FeatherCoin",
          "GrandCoin",
          "GlobalCoin",
          "GoldCoin",
          "Infinite Coin",
          "IXcoin",
          "KrugerCoin",
          "LuckyCoin",
          "Litebar ",
          "MegaCoin",
          "MediterraneanCoin",
          "MinCoin",
          "NobleCoin",
          "Namecoin",
          "NyanCoin",
          "RonPaulCoin",
          "StableCoin",
          "SmartCoin",
          "SysCoin",
          "TigerCoin",
          "TerraCoin",
          "UnbreakableCoin",
          "Unobtanium",
          "UroCoin",
          "ViaCoin",
          "Vertcoin",
          "WorldCoin",
          "JouleCoin",
          "DigitalNote ",
          "MonaCoin",
          "Gulden",
          "PesetaCoin",
          "Wild Beast Coin",
          "Flo",
          "ArtByte",
          "Folding Coin",
          "Unitus",
          "CypherPunkCoin",
          "OmniCron",
          "GreenCoin",
          "Cryptonite",
          "MasterCoin",
          "SoonCoin",
          "1Credit",
          "MarsCoin ",
          "Crypto",
          "Anarchists Prime",
          "BowsCoin",
          "Song Coin",
          "BitZeny",
          "Expanse",
          "Siacoin",
          "MindCoin",
          "I0coin",
          "Revolution VR",
          "HOdlcoin",
          "Gamecredits",
          "CarpeDiemCoin",
          "Adzcoin",
          "SoilCoin",
          "YoCoin",
          "SibCoin",
          "Francs",
          "BolivarCoin",
          "Omni",
          "PizzaCoin",
          "Komodo",
          "Karbo",
          "ZayedCoin",
          "Circuits of Value",
          "DopeCoin",
          "DollarCoin",
          "Shilling",
          "ZCoin",
          "Elementrem",
          "ZClassic",
          "KiloCoin",
          "ArtexCoin",
          "Kurrent",
          "Cannabis Industry Coin",
          "OsmiumCoin",
          "Bikercoins",
          "HexxCoin",
          "PacCoin",
          "Citadel",
          "BeaverCoin",
          "VaultCoin",
          "Zero",
          "Canada eCoin",
          "Zoin",
          "DubaiCoin",
          "EB3coin",
          "Coinonat",
          "BenjiRolls",
          "ILCoin",
          "EquiTrader",
          "Quantum Resistant Ledger",
          "Dynamic",
          "Nano",
          "ChanCoin",
          "Dinastycoin",
          "DigitalPrice",
          "Unify",
          "SocialCoin",
          "ArcticCoin",
          "DAS",
          "LeviarCoin",
          "Bitcore",
          "SmartCash",
          "Onix",
          "Bitcoin Cash",
          "Sojourn Coin",
          "NewYorkCoin",
          "FrazCoin",
          "Kronecoin",
          "AdCoin",
          "Linx",
          "Sumokoin",
          "BitcoinZ",
          "Elements",
          "VIVO Coin",
          "Bitcoin Gold",
          "Pirl",
          "eBoost",
          "Pura",
          "Innova",
          "Ellaism",
          "GoByte",
          "SHIELD",
          "UltraNote",
          "BitCoal",
          "DaxxCoin",
          "AC3",
          "Lethean",
          "PopularCoin",
          "Photon",
          "Sucre",
          "SparksPay",
          "GunCoin",
          "IrishCoin",
          "Pioneer Coin",
          "UnitedBitcoin",
          "Interzone",
          "MUNcoin",
          "Niobio Cash",
          "ShareChain",
          "Travelflex",
          "KREDS",
          "BitFlip",
          "LottoCoin",
          "Crypto Improvement Fund",
          "Callisto Network",
          "BitTube",
          "Poseidon",
          "Aidos Kuneen",
          "Bitrolium",
          "Alpenschillling",
          "FuturoCoin",
          "Monero Classic",
          "Jumpcoin",
          "Infinex",
          "KEYCO",
          "GINcoin",
          "PlatinCoin",
          "Loki",
          "Newton Coin",
          "MassGrid",
          "PluraCoin",
          "Motion",
          "PlusOneCoin",
          "Axe",
          "HexCoin",
          "Webchain",
          "Ryo",
          "Urals Coin",
          "Project Pai",
          "Azart",
          "Xchange",
          "CrypticCoin",
          "Actinium",
          "Bitcoin SV",
          "FREDEnergy",
          "Universal Molecule",
          "Lithium",
          "Exosis",
          "Block-Logic",
          "Beam",
          "Bithereum",
          "SLICE",
          "BLAST",
          "Bitcoin Rhodium",
          "GlobalToken",
          "SolarCoin",
          "UFO Coin",
          "BlakeCoin",
          "Crypto Escudo",
          "Crown Coin",
          "SmileyCoin",
          "Groestlcoin",
          "Bata",
          "Pakcoin",
          "JoinCoin",
          "Vollar",
          "Reality Clash",
          "Beldex",
          "Horizen"
         ],
         "legendgroup": "1",
         "marker": {
          "color": [
           1,
           1,
           1,
           1,
           1,
           1,
           1,
           1,
           1,
           1,
           1,
           1,
           1,
           1,
           1,
           1,
           1,
           1,
           1,
           1,
           1,
           1,
           1,
           1,
           1,
           1,
           1,
           1,
           1,
           1,
           1,
           1,
           1,
           1,
           1,
           1,
           1,
           1,
           1,
           1,
           1,
           1,
           1,
           1,
           1,
           1,
           1,
           1,
           1,
           1,
           1,
           1,
           1,
           1,
           1,
           1,
           1,
           1,
           1,
           1,
           1,
           1,
           1,
           1,
           1,
           1,
           1,
           1,
           1,
           1,
           1,
           1,
           1,
           1,
           1,
           1,
           1,
           1,
           1,
           1,
           1,
           1,
           1,
           1,
           1,
           1,
           1,
           1,
           1,
           1,
           1,
           1,
           1,
           1,
           1,
           1,
           1,
           1,
           1,
           1,
           1,
           1,
           1,
           1,
           1,
           1,
           1,
           1,
           1,
           1,
           1,
           1,
           1,
           1,
           1,
           1,
           1,
           1,
           1,
           1,
           1,
           1,
           1,
           1,
           1,
           1,
           1,
           1,
           1,
           1,
           1,
           1,
           1,
           1,
           1,
           1,
           1,
           1,
           1,
           1,
           1,
           1,
           1,
           1,
           1,
           1,
           1,
           1,
           1,
           1,
           1,
           1,
           1,
           1,
           1,
           1,
           1,
           1,
           1,
           1,
           1,
           1,
           1,
           1,
           1,
           1,
           1,
           1,
           1,
           1,
           1,
           1,
           1,
           1,
           1,
           1,
           1,
           1,
           1,
           1,
           1,
           1,
           1,
           1,
           1,
           1,
           1,
           1,
           1,
           1,
           1,
           1,
           1,
           1,
           1,
           1,
           1,
           1,
           1,
           1,
           1,
           1,
           1,
           1,
           1,
           1,
           1,
           1,
           1,
           1,
           1,
           1,
           1,
           1,
           1,
           1,
           1,
           1,
           1,
           1,
           1,
           1,
           1,
           1,
           1,
           1,
           1,
           1,
           1,
           1,
           1,
           1,
           1
          ],
          "coloraxis": "coloraxis",
          "symbol": "square"
         },
         "mode": "markers",
         "name": "1",
         "scene": "scene",
         "showlegend": true,
         "type": "scatter3d",
         "x": [
          -0.1504497466699719,
          -0.1518958900251839,
          -0.16414075590117272,
          -0.14442144790151287,
          -0.15033629503133816,
          -0.1498315903638742,
          0.15867664394644407,
          -0.16528792748653187,
          -0.22922362610944738,
          -0.16490409330545383,
          -0.0949493591899378,
          -0.14753234524188402,
          -0.16215716254822776,
          -0.16470789209295092,
          -0.2253617034808819,
          -0.20637736548381608,
          -0.16475684202911245,
          -0.1652701818703549,
          -0.16535671621625006,
          -0.2293130327387488,
          0.18242885740939815,
          0.2277041312868453,
          0.08357494796850964,
          -0.16510282244294705,
          -0.16070446369842387,
          -0.16504204519638938,
          -0.1654137619802217,
          -0.1738600350635255,
          -0.14461847152285157,
          -0.1642079107111733,
          -0.16448553402947225,
          1.584899361723185,
          -0.150411090757245,
          -0.16177259995123683,
          -0.16512928422402023,
          -0.16548438358155437,
          -0.16474303239807236,
          -0.151490028960437,
          -0.16536554758364516,
          -0.03013960304612379,
          -0.15048875221488678,
          -0.15902437884258586,
          -0.1653449442968278,
          -0.163437379957506,
          -0.16483126493168399,
          -0.1376299442041044,
          -0.1499520947173521,
          -0.15023950228089353,
          -0.15022236824553645,
          -0.15081368836516462,
          -0.2294870922700387,
          -0.16506124204279948,
          -0.1949198126687213,
          -0.16216183585697877,
          -0.15001943935285264,
          0.45718663755742783,
          -0.16392786038878,
          -0.14851218880674205,
          -0.162645663801766,
          -0.16548659071734767,
          -0.16251063274994235,
          -0.14872284981335432,
          -0.12875555057834373,
          -0.12898392898090752,
          -0.1909614461769776,
          -0.16535958296337294,
          -0.03818584567403062,
          -0.13716702280587037,
          -0.16549549479225384,
          -0.15051654797858402,
          0.4873498126772152,
          -0.2288737825272664,
          -0.16134780472414464,
          -0.1502561466140182,
          -0.2291589024123759,
          -0.16361745157436786,
          -0.16280905034559476,
          -0.15296400147879297,
          0.37486348692825344,
          -0.22919433657157123,
          -0.15041221384572598,
          -0.16145010886264166,
          -0.15826740866236172,
          -0.16405766790553536,
          0.2684075665732674,
          -0.22835431493849453,
          -0.1609976008854091,
          -0.16430501803913478,
          -0.1855017765003992,
          -0.16528521363809237,
          -0.22915753045208048,
          -0.16549555333408592,
          -0.22930760011375095,
          -0.2522484417487129,
          0.3019611968469945,
          -0.15067250159749535,
          -0.10903991555034971,
          -0.16265983954858743,
          -0.1506311015257867,
          -0.16515864930553542,
          -0.14908221772954444,
          -0.1527059626496578,
          -0.14985322164640208,
          -0.0921451939847054,
          -0.21588075320099592,
          -0.22713375049106227,
          0.30195558792527577,
          -0.1654772732789166,
          0.302086401145281,
          -0.16188876169432007,
          0.48668877426218354,
          -0.14318482001861216,
          -0.16544553773048068,
          -0.22203414074576236,
          -0.14986561581682842,
          -0.16357730414737542,
          -0.1616069255728738,
          -0.15263511048803616,
          -0.13633887098290207,
          -0.18988416127329708,
          -0.1650075368228195,
          -0.11696849132875686,
          -0.1648293824294432,
          -0.14304268623676897,
          -0.16567641189497012,
          -0.025702143409206856,
          -0.16693698006779714,
          0.3381069185462298,
          -0.22836266922327836,
          -0.16514900155609366,
          -0.16491207050771026,
          -0.22875772102100983,
          -0.22933566822743937,
          0.30235092788479057,
          -0.13064769479205887,
          -0.11896663921243622,
          -0.22019876146246914,
          -0.1504489103369258,
          -0.09099077036286711,
          1.582673802553109,
          -0.16524691149742263,
          -0.16469801457014935,
          -0.1643987481578601,
          -0.1643856704778416,
          0.30253475614677144,
          0.06265915304726875,
          -0.1836875896572201,
          -0.17855272340516762,
          -0.14971155453060292,
          -0.15975552668289966,
          -0.16357551212293842,
          -0.22487623729064535,
          -0.17839798324549871,
          -0.15106937944999954,
          -0.17849829122180344,
          -0.1192074686143245,
          1.1406870836387866,
          0.30193832251325053,
          -0.07588201492387331,
          -0.22461708298187572,
          -0.13214508724977725,
          -0.08156587475582441,
          1.0829204960835537,
          -0.2293096471973089,
          -0.17855029719772084,
          -0.17158224558038396,
          -0.1644972963920519,
          -0.22923499658674332,
          -0.15042829649611258,
          -0.20276434096864318,
          -0.16064064915556686,
          0.3058162073922088,
          0.02769990314709539,
          -0.1592585721229066,
          -0.18046551512133965,
          -0.16507146602120978,
          0.14225833075348768,
          -0.22337071707480438,
          -0.10405963142768412,
          0.3098694300192728,
          -0.16530868583896396,
          -0.16120644164363915,
          -0.14870184430404815,
          -0.14686349386472433,
          -0.2284034685729465,
          0.30212097806557664,
          -0.18994373775669451,
          -0.16173385285446656,
          -0.1469697389351002,
          -0.14916668019208532,
          0.30605340110534224,
          0.5830954030620851,
          2.112310776722446,
          -0.16146927432750838,
          0.3157376280817767,
          -0.193205451992637,
          -0.15170075975030173,
          -0.22929179230369554,
          -0.16533328084285856,
          -0.13202280280090392,
          -0.1527762314370818,
          -0.08976494590614653,
          -0.11024437146258254,
          -0.2292631279141295,
          -0.19263258058292537,
          -0.04436725792033541,
          -0.14856383105462365,
          -0.1504489479271821,
          0.3819561774021445,
          -0.13365739857050665,
          -0.1340499033809274,
          -0.1735449802035466,
          -0.16422457490574727,
          -0.14776970679421841,
          -0.14954423554515747,
          -0.19017162114925631,
          -0.1497244930105662,
          -0.11700012222867931,
          -0.1485913956729371,
          0.5313151925567696,
          -0.10365543603466641,
          -0.08446328579872873,
          -0.14887353539903214,
          -0.15023887231604865,
          0.5509543854175122,
          -0.2059380173718132,
          -0.16541021741175296,
          -0.1633640879044732,
          -0.12971929206577176,
          -0.14091797744257925,
          -0.1527391478491889,
          0.3237136623061325,
          -0.14983264801005391
         ],
         "y": [
          -1.298870718387665,
          -2.037273522594527,
          -1.1413624834812635,
          -2.2200065724724327,
          -2.0373792142828964,
          -2.044227748975911,
          -1.816502876149675,
          -1.1413505139809144,
          -0.9168857002009775,
          -1.141370281789079,
          -1.810209747047915,
          -1.2988929453997802,
          -1.1414242153373553,
          -1.1413904679778593,
          -0.4459978962402531,
          -1.1858881624415587,
          -1.141354617125272,
          -1.1413499983521116,
          -1.141346860726609,
          -0.9168868598865901,
          -1.8126163721058899,
          -1.302968554026804,
          -1.1438119623355758,
          -1.1413451354417252,
          -1.1414178098509726,
          -1.1413512794175735,
          -1.1413471490106286,
          -1.6282836730974013,
          -1.1417563697000876,
          -1.1413543675541193,
          -1.1413640492223387,
          -1.1556300871691516,
          -1.29886959517493,
          -1.1414241301253503,
          -1.141345185246012,
          -1.1413420922769246,
          -1.1413497819703369,
          -2.1787245291235644,
          -1.141344859402491,
          -1.148194761453539,
          -1.2988718517595457,
          -1.1413957476263974,
          -1.1413521707004868,
          -1.1414614142130515,
          -1.141358961319335,
          -1.299121666171622,
          -1.2988749631490275,
          -1.298879710217486,
          -1.2989065376798359,
          -1.298866372264097,
          -0.9168789739068592,
          -1.1413453654278514,
          -1.2118983430223957,
          -1.1414354400309719,
          -1.2988754731801688,
          -2.3099560944736526,
          -1.1413714845687157,
          -1.1420560325762985,
          -1.1413782837924191,
          -1.1413430754026557,
          -1.1413697681454589,
          -1.141573174265105,
          -2.2633023171312954,
          -1.8097605040961828,
          -1.5401020154767238,
          -1.1413399195024467,
          -1.1448331216753564,
          -2.1252613942528473,
          -1.1413418898227339,
          -1.2988726594123323,
          -1.1885279624874316,
          -0.9168848830417539,
          -2.1826813106790057,
          -1.2988886503143038,
          -0.9168845386321987,
          -1.1414380555831012,
          -1.1414431570366055,
          -2.037316715550815,
          -2.2217559138462186,
          -0.9168819727945218,
          -1.2988696278081597,
          -1.1413749072047834,
          -2.189283890558733,
          -1.1413600692194368,
          -1.3022361971227572,
          -0.9169064624916168,
          -2.1547683177295536,
          -1.1414279123504443,
          -1.9567817024016638,
          -1.1413497160380859,
          -0.9168873751171199,
          -1.1413418893449307,
          -0.9168917356442069,
          -1.4546870456537002,
          -2.307282748436031,
          -1.2988690911074112,
          -1.810043902016085,
          -1.1414028670960166,
          -1.2988685369896236,
          -1.1413532293718276,
          -2.212659177123999,
          -2.037315904693202,
          -2.044228377509303,
          -1.1464010015338226,
          -0.9168431624730583,
          -0.9169745455168008,
          -2.307290821373949,
          -1.141342866715944,
          -2.3072898967247886,
          -2.1826569118572414,
          -0.967978014922723,
          -2.2201036713302074,
          -1.1413424089108597,
          -0.9173815032174533,
          -2.0442258612932838,
          -1.1413576168385557,
          -2.182656632595421,
          -2.195788835056704,
          -1.1433705990325207,
          -0.6221511615629084,
          -1.141352808193818,
          -1.2996804816813474,
          -1.1413738636376713,
          -2.22004201440267,
          -2.1610781440152955,
          -2.2336397164792867,
          -2.2101276250853643,
          -2.3076634574351176,
          -0.9169182106376135,
          -1.141345238122349,
          -1.1413784235413804,
          -0.916900926038374,
          -0.916888164777532,
          -2.3073030639884653,
          -2.2115266703671974,
          -1.191911675961822,
          -0.9174000819158483,
          -1.2988706940865946,
          -1.1467270015013862,
          -1.0905454374382038,
          -1.1413486031047992,
          -1.1413786755716133,
          -1.1413814852795063,
          -1.1413811052854603,
          -2.307322810707565,
          -2.0531392063520877,
          -0.9168425494188318,
          -1.6281978290685417,
          -2.0442242611323547,
          -2.1548230527472176,
          -1.1413575647682634,
          -0.9169966783248521,
          -1.6282062764051943,
          -2.037450851403873,
          -1.6281996990691132,
          -1.8099510302281678,
          -2.344027390300472,
          -2.3072852108068367,
          -2.0422556851216602,
          -0.9171329656364459,
          -2.2203685766616634,
          -1.1424981646463175,
          -1.2193040868932594,
          -0.9168880558712682,
          -1.6281934440466814,
          -1.6283354184140466,
          -1.141358461618766,
          -0.9168881878515255,
          -1.2988694953978088,
          -1.2588824265601695,
          -2.178692873016748,
          -2.307405157091417,
          -1.1429187001382057,
          -2.1547681234332505,
          -1.2122089418158697,
          -1.141357886988334,
          -1.1456353649919042,
          -0.9170607960039673,
          -2.040557627437502,
          -2.307764857896736,
          -1.14135111714985,
          -2.1633606262604217,
          -2.0442301575808957,
          -2.2127950461061405,
          -0.9169193961315195,
          -2.307284146057319,
          -0.6221332960886755,
          -2.182664117463023,
          -2.15467223909282,
          -2.2126537932707797,
          -2.3075881044702946,
          -2.168756986534695,
          -2.3869848765611295,
          -2.1842632658250625,
          -2.3075943475063077,
          -1.2747304391592376,
          -2.1591202686355038,
          -0.9168883999720875,
          -1.1413526265798446,
          -2.2209047118550473,
          -2.2191046151273666,
          -0.8143581193796035,
          -1.2991974660854382,
          -0.9168904434294518,
          -1.2747698277955142,
          -2.0466132682420133,
          -2.212689129395306,
          -1.2988706951788427,
          -2.3107613945771677,
          -2.2394270914928125,
          -2.2393810476268237,
          -2.1550379533532382,
          -1.1413908061296578,
          -2.044341712801537,
          -2.0442265082949698,
          -1.540150974517164,
          -1.2988805656771367,
          -0.31872815945506355,
          -1.2989224267112833,
          -1.1916369072850268,
          -1.6288784962640925,
          -2.2429556948186216,
          -1.1415775526889027,
          -1.2988796919127952,
          -1.156478154186693,
          -1.1858904972763695,
          -1.1413425619227489,
          -1.1414103866466574,
          -1.8097838847553582,
          -2.1927229988814836,
          -2.037315633844238,
          -2.307650385411841,
          -2.044227779707604
         ],
         "z": [
          0.17971643468355333,
          0.398158028837409,
          0.016770467581638707,
          0.4439533273699792,
          0.3981359073333354,
          0.4488893725952699,
          0.3244548031102407,
          0.016799281599512265,
          0.04805921483471099,
          0.016792646535801013,
          0.33012981959440113,
          0.1796415908723553,
          0.01672846989284275,
          0.01679117744265784,
          0.09995160626593767,
          0.15267583697400472,
          0.016785667843858595,
          0.016798702240479788,
          0.01680044961517067,
          0.04806185953391706,
          0.3230698217710849,
          0.17024720064588195,
          0.010522706808806473,
          0.01679323828843117,
          0.016687869939201294,
          0.016792762403002252,
          0.016802050934882535,
          0.23072214835903668,
          0.01631638593514295,
          0.01677074030800466,
          0.016780112097250863,
          -0.02792023877664649,
          0.17971517264496528,
          0.0167180292609141,
          0.016793965088286806,
          0.01680300100134339,
          0.016784371476593334,
          0.3345285205590599,
          0.016800307370473177,
          0.014440947370780268,
          0.17971770813691323,
          0.016638120583619687,
          0.016801143084832756,
          0.01677026644201031,
          0.01678851363948197,
          0.17941678069257502,
          0.179703754219064,
          0.1797124502395814,
          0.17971710158241144,
          0.1797254713196469,
          0.04806507398813739,
          0.01679215502037231,
          0.22771863394394082,
          0.01673073703816718,
          0.17970567699699658,
          0.42475556728388536,
          0.016766413038736695,
          0.01647907685511648,
          0.016732952949368333,
          0.01680324830517638,
          0.016727668776684704,
          0.01639270978653137,
          0.5739580788379464,
          0.33096673131767174,
          0.20476912870648611,
          0.016799203684706714,
          0.014018018148581661,
          0.3444418494787808,
          0.01680326358770748,
          0.17971861561324928,
          0.008104542939600425,
          0.04804957575823908,
          0.39312516903270756,
          0.17971460622926208,
          0.04805723885948762,
          0.016770693347461785,
          0.016749752731348905,
          0.3981952188324797,
          0.3886861940933096,
          0.04805771009120487,
          0.17971520931156792,
          0.016699901013761002,
          0.36639415839757955,
          0.016767754924033908,
          0.16900419293211547,
          0.048039609530683154,
          0.3791013447628977,
          0.016787397051998165,
          0.2670987000882652,
          0.016799055873160357,
          0.04805774256613321,
          0.016803265083494168,
          0.04806264204175917,
          0.6612929694560876,
          0.4284534940312733,
          0.17972216261681911,
          0.3304801485181163,
          0.01673802506572524,
          0.17972093471417241,
          0.01679629504576836,
          0.41910638501512326,
          0.39818806951969865,
          0.4488900788135707,
          0.015779683423847463,
          0.0476894164134723,
          0.048019506474964446,
          0.42845518552204664,
          0.016802955941298884,
          0.4284514632293141,
          0.39313518014219534,
          0.03839581847484496,
          0.443938321983858,
          0.01680200838211288,
          0.047958874566000155,
          0.4488899349601375,
          0.016754265997529,
          0.3931274871248244,
          0.44618913945272093,
          0.016399771350540014,
          -0.04472149367915244,
          0.01679211850677774,
          0.17896327026075554,
          0.01679130437130285,
          0.44392271163055713,
          0.43658693026950224,
          0.40181052537856676,
          0.2791586648116662,
          0.42754628615600604,
          0.04804207627511592,
          0.01679450965140263,
          0.016794415346218082,
          0.04804948894548619,
          0.048062721949693854,
          0.42844680357153697,
          0.4936880068787284,
          0.15590841314323164,
          0.047912665547554356,
          0.17971640737893332,
          0.015810556093535974,
          -0.04027106785717057,
          0.016797805384536842,
          0.016788660967536964,
          0.01678108450876285,
          0.01678065754855156,
          0.428445586069797,
          0.44482871002219715,
          0.046816635714396836,
          0.2308329837862805,
          0.44888545366433596,
          0.3790781132742299,
          0.01675420749149969,
          0.04796253236599896,
          0.23083040007107375,
          0.3981694398021474,
          0.23083186488198312,
          0.3307380515930574,
          0.41272498407385955,
          0.42845458364423195,
          0.39704757322240003,
          0.04798149641473473,
          0.4436895821475777,
          0.0147486666952188,
          0.07820329731799691,
          0.04806199582701869,
          0.23083208182781234,
          0.23067027150319902,
          0.01677936542661678,
          0.048059997431966255,
          0.17971562001615823,
          0.08828678628020002,
          0.35734886515497455,
          0.4283723382343231,
          0.011866979645210326,
          0.37905416765896605,
          0.2273860485093176,
          0.016794819931183258,
          0.009279678883936777,
          0.04793394881948881,
          0.39748758017700747,
          0.4283310593238689,
          0.01679995931838341,
          0.3737289160709193,
          0.4488592077416479,
          0.4190721510137694,
          0.048043408292640435,
          0.42844942933932895,
          -0.04472328554531973,
          0.3931323550657344,
          0.5021459327324763,
          0.4191076478881512,
          0.4284007952984874,
          0.3351649599053669,
          0.39457874108226443,
          0.4028536118737756,
          0.42813947434223537,
          0.22243538240413874,
          0.39660480942396487,
          0.04806157744982092,
          0.01680091385503708,
          0.4437885043540116,
          0.4351279216395585,
          0.17260568863163772,
          0.17868889129484686,
          0.04806119011299723,
          0.22242736463215554,
          0.44648543952437264,
          0.41909804472266327,
          0.1797164086061803,
          0.4269484127641824,
          0.40136867031842727,
          0.4013705297695187,
          0.33885604980720835,
          0.016778140590993057,
          0.44885521293180225,
          0.4488813466464752,
          0.20475705495251464,
          0.17969865295371862,
          -0.12880165210527475,
          0.17967592054079043,
          0.007505620919669868,
          0.2289325325467408,
          0.40070803818665335,
          0.016397629370849303,
          0.1797124296724838,
          0.00026874690938928603,
          0.15266437274969563,
          0.01680108012838971,
          0.016758549129325503,
          0.33099112340698567,
          0.3888473526313931,
          0.39818891742584805,
          0.4279339530742209,
          0.4488894071253112
         ]
        },
        {
         "customdata": [
          [
           "VeChainThor Authority"
          ],
          [
           "Proof-of-BibleHash"
          ],
          [
           "SHA-256 + Hive"
          ],
          [
           "Proof-of-Authority"
          ],
          [
           "SHA3-256"
          ]
         ],
         "hoverlabel": {
          "namelength": 0
         },
         "hovertemplate": "<b>%{hovertext}</b><br><br>Class=%{marker.color}<br>PC 1=%{x}<br>PC 2=%{y}<br>PC 3=%{z}<br>Algorithm=%{customdata[0]}",
         "hovertext": [
          "Vechain",
          "BiblePay",
          "LitecoinCash",
          "Poa Network",
          null
         ],
         "legendgroup": "3",
         "marker": {
          "color": [
           3,
           3,
           3,
           3,
           3
          ],
          "coloraxis": "coloraxis",
          "symbol": "x"
         },
         "mode": "markers",
         "name": "3",
         "scene": "scene",
         "showlegend": true,
         "type": "scatter3d",
         "x": [
          4.408244150946476,
          -0.22283797791249146,
          -0.3926142291252955,
          -0.3580567791627177,
          null
         ],
         "y": [
          2.365238231399724,
          3.160869405294473,
          3.4702725687138476,
          3.2302141506532345,
          null
         ],
         "z": [
          8.316711565675462,
          12.647740025918411,
          12.283890613113376,
          13.268523523012222,
          null
         ]
        },
        {
         "customdata": [
          [
           "TRC10"
          ]
         ],
         "hoverlabel": {
          "namelength": 0
         },
         "hovertemplate": "<b>%{hovertext}</b><br><br>Class=%{marker.color}<br>PC 1=%{x}<br>PC 2=%{y}<br>PC 3=%{z}<br>Algorithm=%{customdata[0]}",
         "hovertext": [
          "BitTorrent"
         ],
         "legendgroup": "2",
         "marker": {
          "color": [
           2
          ],
          "coloraxis": "coloraxis",
          "symbol": "cross"
         },
         "mode": "markers",
         "name": "2",
         "scene": "scene",
         "showlegend": true,
         "type": "scatter3d",
         "x": [
          34.07311313731502
         ],
         "y": [
          1.6554399623248919
         ],
         "z": [
          -1.1901903120476476
         ]
        }
       ],
       "layout": {
        "coloraxis": {
         "colorbar": {
          "title": {
           "text": "Class"
          }
         },
         "colorscale": [
          [
           0,
           "#0d0887"
          ],
          [
           0.1111111111111111,
           "#46039f"
          ],
          [
           0.2222222222222222,
           "#7201a8"
          ],
          [
           0.3333333333333333,
           "#9c179e"
          ],
          [
           0.4444444444444444,
           "#bd3786"
          ],
          [
           0.5555555555555556,
           "#d8576b"
          ],
          [
           0.6666666666666666,
           "#ed7953"
          ],
          [
           0.7777777777777778,
           "#fb9f3a"
          ],
          [
           0.8888888888888888,
           "#fdca26"
          ],
          [
           1,
           "#f0f921"
          ]
         ]
        },
        "legend": {
         "title": {
          "text": "Class"
         },
         "tracegroupgap": 0
        },
        "margin": {
         "t": 60
        },
        "scene": {
         "domain": {
          "x": [
           0,
           1
          ],
          "y": [
           0,
           1
          ]
         },
         "xaxis": {
          "title": {
           "text": "PC 1"
          }
         },
         "yaxis": {
          "title": {
           "text": "PC 2"
          }
         },
         "zaxis": {
          "title": {
           "text": "PC 3"
          }
         }
        },
        "template": {
         "data": {
          "bar": [
           {
            "error_x": {
             "color": "#2a3f5f"
            },
            "error_y": {
             "color": "#2a3f5f"
            },
            "marker": {
             "line": {
              "color": "#E5ECF6",
              "width": 0.5
             }
            },
            "type": "bar"
           }
          ],
          "barpolar": [
           {
            "marker": {
             "line": {
              "color": "#E5ECF6",
              "width": 0.5
             }
            },
            "type": "barpolar"
           }
          ],
          "carpet": [
           {
            "aaxis": {
             "endlinecolor": "#2a3f5f",
             "gridcolor": "white",
             "linecolor": "white",
             "minorgridcolor": "white",
             "startlinecolor": "#2a3f5f"
            },
            "baxis": {
             "endlinecolor": "#2a3f5f",
             "gridcolor": "white",
             "linecolor": "white",
             "minorgridcolor": "white",
             "startlinecolor": "#2a3f5f"
            },
            "type": "carpet"
           }
          ],
          "choropleth": [
           {
            "colorbar": {
             "outlinewidth": 0,
             "ticks": ""
            },
            "type": "choropleth"
           }
          ],
          "contour": [
           {
            "colorbar": {
             "outlinewidth": 0,
             "ticks": ""
            },
            "colorscale": [
             [
              0,
              "#0d0887"
             ],
             [
              0.1111111111111111,
              "#46039f"
             ],
             [
              0.2222222222222222,
              "#7201a8"
             ],
             [
              0.3333333333333333,
              "#9c179e"
             ],
             [
              0.4444444444444444,
              "#bd3786"
             ],
             [
              0.5555555555555556,
              "#d8576b"
             ],
             [
              0.6666666666666666,
              "#ed7953"
             ],
             [
              0.7777777777777778,
              "#fb9f3a"
             ],
             [
              0.8888888888888888,
              "#fdca26"
             ],
             [
              1,
              "#f0f921"
             ]
            ],
            "type": "contour"
           }
          ],
          "contourcarpet": [
           {
            "colorbar": {
             "outlinewidth": 0,
             "ticks": ""
            },
            "type": "contourcarpet"
           }
          ],
          "heatmap": [
           {
            "colorbar": {
             "outlinewidth": 0,
             "ticks": ""
            },
            "colorscale": [
             [
              0,
              "#0d0887"
             ],
             [
              0.1111111111111111,
              "#46039f"
             ],
             [
              0.2222222222222222,
              "#7201a8"
             ],
             [
              0.3333333333333333,
              "#9c179e"
             ],
             [
              0.4444444444444444,
              "#bd3786"
             ],
             [
              0.5555555555555556,
              "#d8576b"
             ],
             [
              0.6666666666666666,
              "#ed7953"
             ],
             [
              0.7777777777777778,
              "#fb9f3a"
             ],
             [
              0.8888888888888888,
              "#fdca26"
             ],
             [
              1,
              "#f0f921"
             ]
            ],
            "type": "heatmap"
           }
          ],
          "heatmapgl": [
           {
            "colorbar": {
             "outlinewidth": 0,
             "ticks": ""
            },
            "colorscale": [
             [
              0,
              "#0d0887"
             ],
             [
              0.1111111111111111,
              "#46039f"
             ],
             [
              0.2222222222222222,
              "#7201a8"
             ],
             [
              0.3333333333333333,
              "#9c179e"
             ],
             [
              0.4444444444444444,
              "#bd3786"
             ],
             [
              0.5555555555555556,
              "#d8576b"
             ],
             [
              0.6666666666666666,
              "#ed7953"
             ],
             [
              0.7777777777777778,
              "#fb9f3a"
             ],
             [
              0.8888888888888888,
              "#fdca26"
             ],
             [
              1,
              "#f0f921"
             ]
            ],
            "type": "heatmapgl"
           }
          ],
          "histogram": [
           {
            "marker": {
             "colorbar": {
              "outlinewidth": 0,
              "ticks": ""
             }
            },
            "type": "histogram"
           }
          ],
          "histogram2d": [
           {
            "colorbar": {
             "outlinewidth": 0,
             "ticks": ""
            },
            "colorscale": [
             [
              0,
              "#0d0887"
             ],
             [
              0.1111111111111111,
              "#46039f"
             ],
             [
              0.2222222222222222,
              "#7201a8"
             ],
             [
              0.3333333333333333,
              "#9c179e"
             ],
             [
              0.4444444444444444,
              "#bd3786"
             ],
             [
              0.5555555555555556,
              "#d8576b"
             ],
             [
              0.6666666666666666,
              "#ed7953"
             ],
             [
              0.7777777777777778,
              "#fb9f3a"
             ],
             [
              0.8888888888888888,
              "#fdca26"
             ],
             [
              1,
              "#f0f921"
             ]
            ],
            "type": "histogram2d"
           }
          ],
          "histogram2dcontour": [
           {
            "colorbar": {
             "outlinewidth": 0,
             "ticks": ""
            },
            "colorscale": [
             [
              0,
              "#0d0887"
             ],
             [
              0.1111111111111111,
              "#46039f"
             ],
             [
              0.2222222222222222,
              "#7201a8"
             ],
             [
              0.3333333333333333,
              "#9c179e"
             ],
             [
              0.4444444444444444,
              "#bd3786"
             ],
             [
              0.5555555555555556,
              "#d8576b"
             ],
             [
              0.6666666666666666,
              "#ed7953"
             ],
             [
              0.7777777777777778,
              "#fb9f3a"
             ],
             [
              0.8888888888888888,
              "#fdca26"
             ],
             [
              1,
              "#f0f921"
             ]
            ],
            "type": "histogram2dcontour"
           }
          ],
          "mesh3d": [
           {
            "colorbar": {
             "outlinewidth": 0,
             "ticks": ""
            },
            "type": "mesh3d"
           }
          ],
          "parcoords": [
           {
            "line": {
             "colorbar": {
              "outlinewidth": 0,
              "ticks": ""
             }
            },
            "type": "parcoords"
           }
          ],
          "pie": [
           {
            "automargin": true,
            "type": "pie"
           }
          ],
          "scatter": [
           {
            "marker": {
             "colorbar": {
              "outlinewidth": 0,
              "ticks": ""
             }
            },
            "type": "scatter"
           }
          ],
          "scatter3d": [
           {
            "line": {
             "colorbar": {
              "outlinewidth": 0,
              "ticks": ""
             }
            },
            "marker": {
             "colorbar": {
              "outlinewidth": 0,
              "ticks": ""
             }
            },
            "type": "scatter3d"
           }
          ],
          "scattercarpet": [
           {
            "marker": {
             "colorbar": {
              "outlinewidth": 0,
              "ticks": ""
             }
            },
            "type": "scattercarpet"
           }
          ],
          "scattergeo": [
           {
            "marker": {
             "colorbar": {
              "outlinewidth": 0,
              "ticks": ""
             }
            },
            "type": "scattergeo"
           }
          ],
          "scattergl": [
           {
            "marker": {
             "colorbar": {
              "outlinewidth": 0,
              "ticks": ""
             }
            },
            "type": "scattergl"
           }
          ],
          "scattermapbox": [
           {
            "marker": {
             "colorbar": {
              "outlinewidth": 0,
              "ticks": ""
             }
            },
            "type": "scattermapbox"
           }
          ],
          "scatterpolar": [
           {
            "marker": {
             "colorbar": {
              "outlinewidth": 0,
              "ticks": ""
             }
            },
            "type": "scatterpolar"
           }
          ],
          "scatterpolargl": [
           {
            "marker": {
             "colorbar": {
              "outlinewidth": 0,
              "ticks": ""
             }
            },
            "type": "scatterpolargl"
           }
          ],
          "scatterternary": [
           {
            "marker": {
             "colorbar": {
              "outlinewidth": 0,
              "ticks": ""
             }
            },
            "type": "scatterternary"
           }
          ],
          "surface": [
           {
            "colorbar": {
             "outlinewidth": 0,
             "ticks": ""
            },
            "colorscale": [
             [
              0,
              "#0d0887"
             ],
             [
              0.1111111111111111,
              "#46039f"
             ],
             [
              0.2222222222222222,
              "#7201a8"
             ],
             [
              0.3333333333333333,
              "#9c179e"
             ],
             [
              0.4444444444444444,
              "#bd3786"
             ],
             [
              0.5555555555555556,
              "#d8576b"
             ],
             [
              0.6666666666666666,
              "#ed7953"
             ],
             [
              0.7777777777777778,
              "#fb9f3a"
             ],
             [
              0.8888888888888888,
              "#fdca26"
             ],
             [
              1,
              "#f0f921"
             ]
            ],
            "type": "surface"
           }
          ],
          "table": [
           {
            "cells": {
             "fill": {
              "color": "#EBF0F8"
             },
             "line": {
              "color": "white"
             }
            },
            "header": {
             "fill": {
              "color": "#C8D4E3"
             },
             "line": {
              "color": "white"
             }
            },
            "type": "table"
           }
          ]
         },
         "layout": {
          "annotationdefaults": {
           "arrowcolor": "#2a3f5f",
           "arrowhead": 0,
           "arrowwidth": 1
          },
          "coloraxis": {
           "colorbar": {
            "outlinewidth": 0,
            "ticks": ""
           }
          },
          "colorscale": {
           "diverging": [
            [
             0,
             "#8e0152"
            ],
            [
             0.1,
             "#c51b7d"
            ],
            [
             0.2,
             "#de77ae"
            ],
            [
             0.3,
             "#f1b6da"
            ],
            [
             0.4,
             "#fde0ef"
            ],
            [
             0.5,
             "#f7f7f7"
            ],
            [
             0.6,
             "#e6f5d0"
            ],
            [
             0.7,
             "#b8e186"
            ],
            [
             0.8,
             "#7fbc41"
            ],
            [
             0.9,
             "#4d9221"
            ],
            [
             1,
             "#276419"
            ]
           ],
           "sequential": [
            [
             0,
             "#0d0887"
            ],
            [
             0.1111111111111111,
             "#46039f"
            ],
            [
             0.2222222222222222,
             "#7201a8"
            ],
            [
             0.3333333333333333,
             "#9c179e"
            ],
            [
             0.4444444444444444,
             "#bd3786"
            ],
            [
             0.5555555555555556,
             "#d8576b"
            ],
            [
             0.6666666666666666,
             "#ed7953"
            ],
            [
             0.7777777777777778,
             "#fb9f3a"
            ],
            [
             0.8888888888888888,
             "#fdca26"
            ],
            [
             1,
             "#f0f921"
            ]
           ],
           "sequentialminus": [
            [
             0,
             "#0d0887"
            ],
            [
             0.1111111111111111,
             "#46039f"
            ],
            [
             0.2222222222222222,
             "#7201a8"
            ],
            [
             0.3333333333333333,
             "#9c179e"
            ],
            [
             0.4444444444444444,
             "#bd3786"
            ],
            [
             0.5555555555555556,
             "#d8576b"
            ],
            [
             0.6666666666666666,
             "#ed7953"
            ],
            [
             0.7777777777777778,
             "#fb9f3a"
            ],
            [
             0.8888888888888888,
             "#fdca26"
            ],
            [
             1,
             "#f0f921"
            ]
           ]
          },
          "colorway": [
           "#636efa",
           "#EF553B",
           "#00cc96",
           "#ab63fa",
           "#FFA15A",
           "#19d3f3",
           "#FF6692",
           "#B6E880",
           "#FF97FF",
           "#FECB52"
          ],
          "font": {
           "color": "#2a3f5f"
          },
          "geo": {
           "bgcolor": "white",
           "lakecolor": "white",
           "landcolor": "#E5ECF6",
           "showlakes": true,
           "showland": true,
           "subunitcolor": "white"
          },
          "hoverlabel": {
           "align": "left"
          },
          "hovermode": "closest",
          "mapbox": {
           "style": "light"
          },
          "paper_bgcolor": "white",
          "plot_bgcolor": "#E5ECF6",
          "polar": {
           "angularaxis": {
            "gridcolor": "white",
            "linecolor": "white",
            "ticks": ""
           },
           "bgcolor": "#E5ECF6",
           "radialaxis": {
            "gridcolor": "white",
            "linecolor": "white",
            "ticks": ""
           }
          },
          "scene": {
           "xaxis": {
            "backgroundcolor": "#E5ECF6",
            "gridcolor": "white",
            "gridwidth": 2,
            "linecolor": "white",
            "showbackground": true,
            "ticks": "",
            "zerolinecolor": "white"
           },
           "yaxis": {
            "backgroundcolor": "#E5ECF6",
            "gridcolor": "white",
            "gridwidth": 2,
            "linecolor": "white",
            "showbackground": true,
            "ticks": "",
            "zerolinecolor": "white"
           },
           "zaxis": {
            "backgroundcolor": "#E5ECF6",
            "gridcolor": "white",
            "gridwidth": 2,
            "linecolor": "white",
            "showbackground": true,
            "ticks": "",
            "zerolinecolor": "white"
           }
          },
          "shapedefaults": {
           "line": {
            "color": "#2a3f5f"
           }
          },
          "ternary": {
           "aaxis": {
            "gridcolor": "white",
            "linecolor": "white",
            "ticks": ""
           },
           "baxis": {
            "gridcolor": "white",
            "linecolor": "white",
            "ticks": ""
           },
           "bgcolor": "#E5ECF6",
           "caxis": {
            "gridcolor": "white",
            "linecolor": "white",
            "ticks": ""
           }
          },
          "title": {
           "x": 0.05
          },
          "xaxis": {
           "automargin": true,
           "gridcolor": "white",
           "linecolor": "white",
           "ticks": "",
           "title": {
            "standoff": 15
           },
           "zerolinecolor": "white",
           "zerolinewidth": 2
          },
          "yaxis": {
           "automargin": true,
           "gridcolor": "white",
           "linecolor": "white",
           "ticks": "",
           "title": {
            "standoff": 15
           },
           "zerolinecolor": "white",
           "zerolinewidth": 2
          }
         }
        }
       }
      },
      "text/html": [
       "<div>\n",
       "        \n",
       "        \n",
       "            <div id=\"f88409aa-7005-411c-9ee9-6590c01e4391\" class=\"plotly-graph-div\" style=\"height:525px; width:100%;\"></div>\n",
       "            <script type=\"text/javascript\">\n",
       "                require([\"plotly\"], function(Plotly) {\n",
       "                    window.PLOTLYENV=window.PLOTLYENV || {};\n",
       "                    \n",
       "                if (document.getElementById(\"f88409aa-7005-411c-9ee9-6590c01e4391\")) {\n",
       "                    Plotly.newPlot(\n",
       "                        'f88409aa-7005-411c-9ee9-6590c01e4391',\n",
       "                        [{\"customdata\": [[\"Scrypt\"], [\"Scrypt\"], [\"X11\"], [\"SHA-512\"], [\"SHA-256\"], [\"SHA-256\"], [\"X15\"], [\"Scrypt\"], [\"Scrypt\"], [\"Scrypt\"], [\"Scrypt\"], [\"Scrypt\"], [\"Scrypt\"], [\"Groestl\"], [\"PoS\"], [\"Scrypt\"], [\"Scrypt\"], [\"X11\"], [\"X11\"], [\"SHA3\"], [\"Scrypt\"], [\"SHA-256\"], [\"Scrypt\"], [\"X13\"], [\"X13\"], [\"NeoScrypt\"], [\"Scrypt\"], [\"Scrypt\"], [\"Scrypt\"], [\"X11\"], [\"X11\"], [\"Multiple\"], [\"PHI1612\"], [\"X11\"], [\"Scrypt\"], [\"Scrypt\"], [\"Scrypt\"], [\"X11\"], [\"Multiple\"], [\"X13\"], [\"Scrypt\"], [\"Shabal256\"], [\"Counterparty\"], [\"SHA-256\"], [\"Groestl\"], [\"Scrypt\"], [\"X13\"], [\"Scrypt\"], [\"Scrypt\"], [\"X13\"], [\"X11\"], [\"Scrypt\"], [\"X11\"], [\"SHA3\"], [\"QUAIT\"], [\"X11\"], [\"Scrypt\"], [\"X13\"], [\"SHA-256\"], [\"X15\"], [\"BLAKE256\"], [\"SHA-256\"], [\"X11\"], [\"SHA-256\"], [\"NIST5\"], [\"Scrypt\"], [\"Scrypt\"], [\"X11\"], [\"Scrypt\"], [\"SHA-256\"], [\"Scrypt\"], [\"PoS\"], [\"X11\"], [\"SHA-256\"], [\"SHA-256\"], [\"NIST5\"], [\"X11\"], [\"POS 3.0\"], [\"Scrypt\"], [\"Scrypt\"], [\"Scrypt\"], [\"X13\"], [\"X11\"], [\"X11\"], [\"Scrypt\"], [\"SHA-256\"], [\"X11\"], [\"Scrypt\"], [\"Scrypt\"], [\"Scrypt\"], [\"Scrypt\"], [\"SHA-256D\"], [\"PoS\"], [\"Scrypt\"], [\"X11\"], [\"PoS\"], [\"X13\"], [\"X14\"], [\"PoS\"], [\"SHA-256D\"], [\"X11\"], [\"X13\"], [\"X11\"], [\"PoS\"], [\"Scrypt\"], [\"Scrypt\"], [\"PoS\"], [\"X11\"], [\"SHA-256\"], [\"Scrypt\"], [\"X11\"], [\"Scrypt\"], [\"Scrypt\"], [\"X11\"], [\"Scrypt\"], [\"Scrypt\"], [\"Scrypt\"], [\"Scrypt\"], [\"Quark\"], [\"QuBit\"], [\"Scrypt\"], [\"SHA-256\"], [\"X11\"], [\"Scrypt\"], [\"Scrypt\"], [\"Scrypt\"], [\"Scrypt\"], [\"X13\"], [\"Scrypt\"], [\"Scrypt\"], [\"X11\"], [\"Blake2S\"], [\"X11\"], [\"PoS\"], [\"X11\"], [\"PoS\"], [\"X11\"], [\"Scrypt\"], [\"Scrypt\"], [\"Scrypt\"], [\"SHA-256\"], [\"X11\"], [\"Scrypt\"], [\"PoS\"], [\"Scrypt\"], [\"X15\"], [\"SHA-256\"], [\"POS 3.0\"], [\"536\"], [\"NIST5\"], [\"NIST5\"], [\"Skein\"], [\"X13\"], [\"Scrypt\"], [\"X13\"], [\"SkunkHash v2 Raptor\"], [\"Skein\"], [\"X11\"], [\"Scrypt\"], [\"PoS\"], [\"Scrypt\"], [\"Scrypt\"], [\"SHA-512\"], [\"Ouroboros\"], [\"X11\"], [\"NeoScrypt\"], [\"Scrypt\"], [\"Lyra2REv2\"], [\"Scrypt\"], [\"SHA-256\"], [\"NIST5\"], [\"PHI1612\"], [\"Scrypt\"], [\"Quark\"], [\"POS 2.0\"], [\"Scrypt\"], [\"SHA-256\"], [\"X11\"], [\"NIST5\"], [\"X13\"], [\"Scrypt\"], [\"NIST5\"], [\"Quark\"], [\"Scrypt\"], [\"Scrypt\"], [\"X11\"], [\"Quark\"], [\"Scrypt\"], [\"Scrypt\"], [\"X11\"], [\"POS 3.0\"], [\"Ethash\"], [\"Scrypt\"], [\"Scrypt\"], [\"X13\"], [\"C11\"], [\"X11\"], [\"XEVAN\"], [\"Scrypt\"], [\"VBFT\"], [\"NIST5\"], [\"Scrypt\"], [\"Scrypt\"], [\"Scrypt\"], [\"Green Protocol\"], [\"PoS\"], [\"Scrypt\"], [\"Quark\"], [\"PoS\"], [\"X16R\"], [\"Scrypt\"], [\"XEVAN\"], [\"Scrypt\"], [\"Scrypt\"], [\"Scrypt\"], [\"SHA-256D\"], [\"Scrypt\"], [\"X15\"], [\"Quark\"], [\"SHA-256\"], [\"DPoS\"], [\"X16R\"], [\"Quark\"], [\"Quark\"], [\"Scrypt\"], [\"Lyra2REv2\"], [\"Quark\"], [\"Scrypt\"], [\"X11\"], [\"X11\"], [\"Scrypt\"], [\"PoS\"], [\"Keccak\"], [\"X11\"], [\"Scrypt\"], [\"SHA-512\"], [\"ECC 256K1\"], [\"XEVAN\"], [\"XEVAN\"], [\"X11\"], [\"Quark\"], [\"Equihash\"], [\"Scrypt\"], [\"Quark\"], [\"Quark\"], [\"Scrypt\"], [\"X11\"], [\"Scrypt\"], [\"XEVAN\"], [\"SHA-256D\"], [\"X11\"], [\"X11\"], [\"Scrypt\"], [\"X11\"], [\"Scrypt\"], [\"Scrypt\"], [\"SHA-256\"], [\"Scrypt\"], [\"X11\"], [\"Scrypt\"], [\"SHA-256\"], [\"X11\"], [\"Scrypt\"], [\"Scrypt\"], [\"X11\"], [\"Scrypt\"], [\"PoS\"], [\"X11\"], [\"SHA-256\"], [\"Scrypt\"], [\"Scrypt\"], [\"NeoScrypt\"], [\"X13\"], [\"SHA-256\"], [\"Leased POS\"], [\"PoS\"], [\"PoS\"], [\"Scrypt\"], [\"Scrypt\"]], \"hoverlabel\": {\"namelength\": 0}, \"hovertemplate\": \"<b>%{hovertext}</b><br><br>Class=%{marker.color}<br>PC 1=%{x}<br>PC 2=%{y}<br>PC 3=%{z}<br>Algorithm=%{customdata[0]}\", \"hovertext\": [\"42 Coin\", \"404Coin\", \"Dash\", \"Bitshares\", \"BitcoinDark\", \"PayCoin\", \"KoboCoin\", \"Aurora Coin\", \"BlueCoin\", \"EnergyCoin\", \"BitBar\", \"CryptoBullion\", \"CasinoCoin\", \"Diamond\", \"Exclusive Coin\", \"FlutterCoin\", \"HoboNickels\", \"HyperStake\", \"IOCoin\", \"MaxCoin\", \"MintCoin\", \"MazaCoin\", \"Nautilus Coin\", \"NavCoin\", \"OpalCoin\", \"Orbitcoin\", \"PotCoin\", \"PhoenixCoin\", \"Reddcoin\", \"SuperCoin\", \"SyncCoin\", \"TeslaCoin\", \"TittieCoin\", \"TorCoin\", \"UnitaryStatus Dollar\", \"UltraCoin\", \"VeriCoin\", \"X11 Coin\", \"Crypti\", \"StealthCoin\", \"ZCC Coin\", \"BurstCoin\", \"StorjCoin\", \"Neutron\", \"FairCoin\", \"RubyCoin\", \"Kore\", \"Dnotes\", \"8BIT Coin\", \"Sativa Coin\", \"Ucoin\", \"Vtorrent\", \"IslaCoin\", \"Nexus\", \"Droidz\", \"Squall Coin\", \"Diggits\", \"Paycon\", \"Emercoin\", \"EverGreenCoin\", \"Decred\", \"EDRCoin\", \"Hitcoin\", \"DubaiCoin\", \"PWR Coin\", \"BillaryCoin\", \"GPU Coin\", \"EuropeCoin\", \"ZeitCoin\", \"SwingCoin\", \"SafeExchangeCoin\", \"Nebuchadnezzar\", \"Ratecoin\", \"Revenu\", \"Clockcoin\", \"VIP Tokens\", \"BitSend\", \"Let it Ride\", \"PutinCoin\", \"iBankCoin\", \"Frankywillcoin\", \"MudraCoin\", \"Lutetium Coin\", \"GoldBlocks\", \"CarterCoin\", \"BitTokens\", \"MustangCoin\", \"ZoneCoin\", \"RootCoin\", \"BitCurrency\", \"Swiscoin\", \"BuzzCoin\", \"Opair\", \"PesoBit\", \"Halloween Coin\", \"CoffeeCoin\", \"RoyalCoin\", \"GanjaCoin V2\", \"TeamUP\", \"LanaCoin\", \"InsaneCoin\", \"EmberCoin\", \"XenixCoin\", \"FreeCoin\", \"PLNCoin\", \"AquariusCoin\", \"Creatio\", \"Eternity\", \"Eurocoin\", \"BitcoinFast\", \"Stakenet\", \"BitConnect Coin\", \"MoneyCoin\", \"Enigma\", \"Russiacoin\", \"PandaCoin\", \"GameUnits\", \"GAKHcoin\", \"Allsafe\", \"LiteCreed\", \"Klingon Empire Darsek\", \"Internet of People\", \"KushCoin\", \"Printerium\", \"Impeach\", \"Zilbercoin\", \"FirstCoin\", \"FindCoin\", \"OpenChat\", \"RenosCoin\", \"VirtacoinPlus\", \"TajCoin\", \"Impact\", \"Atmos\", \"HappyCoin\", \"MacronCoin\", \"Condensate\", \"Independent Money System\", \"ArgusCoin\", \"LomoCoin\", \"ProCurrency\", \"GoldReserve\", \"GrowthCoin\", \"Phreak\", \"Degas Coin\", \"HTML5 Coin\", \"Ultimate Secure Cash\", \"QTUM\", \"Espers\", \"Denarius\", \"Virta Unique Coin\", \"Bitcoin Planet\", \"BritCoin\", \"Linda\", \"DeepOnion\", \"Signatum\", \"Cream\", \"Monoeci\", \"Draftcoin\", \"Stakecoin\", \"CoinonatX\", \"Ethereum Dark\", \"Obsidian\", \"Cardano\", \"Regalcoin\", \"TrezarCoin\", \"TerraNovaCoin\", \"Rupee\", \"WomenCoin\", \"Theresa May Coin\", \"NamoCoin\", \"LUXCoin\", \"Xios\", \"Bitcloud 2.0\", \"KekCoin\", \"BlackholeCoin\", \"Infinity Economics\", \"Magnet\", \"Electra\", \"Bitcoin Diamond\", \"Cash & Back Coin\", \"Bulwark\", \"Kalkulus\", \"GermanCoin\", \"LiteCoin Ultra\", \"PhantomX\", \"Digiwage\", \"Trollcoin\", \"Litecoin Plus\", \"Monkey Project\", \"TokenPay\", \"1717 Masonic Commemorative Token\", \"My Big Coin\", \"Unified Society USDEX\", \"Tokyo Coin\", \"Stipend\", \"Pushi\", \"Ellerium\", \"Velox\", \"Ontology\", \"Bitspace\", \"Briacoin\", \"Ignition\", \"MedicCoin\", \"Bitcoin Green\", \"Deviant Coin\", \"Abjcoin\", \"Carebit\", \"Zealium\", \"Proton\", \"iDealCash\", \"Bitcoin Incognito\", \"HollyWoodCoin\", \"Swisscoin\", \"Xt3ch\", \"TheVig\", \"EmaratCoin\", \"Dekado\", \"Poseidon Quark\", \"BitcoinWSpectrum\", \"Muse\", \"Trivechain\", \"Dystem\", \"Giant\", \"Peony Coin\", \"Absolute Coin\", \"Vitae\", \"TPCash\", \"ARENON\", \"EUNO\", \"MMOCoin\", \"Ketan\", \"XDNA\", \"PAXEX\", \"ThunderStake\", \"Kcash\", \"Acute Angle Cloud\", \"Bettex coin\", \"BitMoney\", \"Junson Ming Chan Coin\", \"HerbCoin\", \"PirateCash\", \"Oduwa\", \"Galilel\", \"Crypto Sports\", \"Credit\", \"Dash Platinum\", \"Nasdacoin\", \"Beetle Coin\", \"Titan Coin\", \"Award\", \"Insane Coin\", \"LiteDoge\", \"TruckCoin\", \"OrangeCoin\", \"BitstarCoin\", \"NeosCoin\", \"HyperCoin\", \"PinkCoin\", \"AudioCoin\", \"IncaKoin\", \"Piggy Coin\", \"Genstake\", \"XiaoMiCoin\", \"CapriCoin\", \" ClubCoin\", \"Radium\", \"Creditbit \", \"OKCash\", \"HiCoin\", \"WhiteCoin\", \"FriendshipCoin\", \"Triangles Coin\", \"TigerCash\", \"Waves\", \"Particl\", \"Nxt\", \"Gapcoin\", \"BitcoinPlus\"], \"legendgroup\": \"0\", \"marker\": {\"color\": [0, 0, 0, 0, 0, 0, 0, 0, 0, 0, 0, 0, 0, 0, 0, 0, 0, 0, 0, 0, 0, 0, 0, 0, 0, 0, 0, 0, 0, 0, 0, 0, 0, 0, 0, 0, 0, 0, 0, 0, 0, 0, 0, 0, 0, 0, 0, 0, 0, 0, 0, 0, 0, 0, 0, 0, 0, 0, 0, 0, 0, 0, 0, 0, 0, 0, 0, 0, 0, 0, 0, 0, 0, 0, 0, 0, 0, 0, 0, 0, 0, 0, 0, 0, 0, 0, 0, 0, 0, 0, 0, 0, 0, 0, 0, 0, 0, 0, 0, 0, 0, 0, 0, 0, 0, 0, 0, 0, 0, 0, 0, 0, 0, 0, 0, 0, 0, 0, 0, 0, 0, 0, 0, 0, 0, 0, 0, 0, 0, 0, 0, 0, 0, 0, 0, 0, 0, 0, 0, 0, 0, 0, 0, 0, 0, 0, 0, 0, 0, 0, 0, 0, 0, 0, 0, 0, 0, 0, 0, 0, 0, 0, 0, 0, 0, 0, 0, 0, 0, 0, 0, 0, 0, 0, 0, 0, 0, 0, 0, 0, 0, 0, 0, 0, 0, 0, 0, 0, 0, 0, 0, 0, 0, 0, 0, 0, 0, 0, 0, 0, 0, 0, 0, 0, 0, 0, 0, 0, 0, 0, 0, 0, 0, 0, 0, 0, 0, 0, 0, 0, 0, 0, 0, 0, 0, 0, 0, 0, 0, 0, 0, 0, 0, 0, 0, 0, 0, 0, 0, 0, 0, 0, 0, 0, 0, 0, 0, 0, 0, 0, 0, 0, 0, 0, 0, 0, 0, 0, 0, 0, 0, 0, 0, 0, 0, 0, 0, 0, 0, 0, 0, 0, 0, 0, 0, 0, 0, 0, 0], \"coloraxis\": \"coloraxis\", \"symbol\": \"circle\"}, \"mode\": \"markers\", \"name\": \"0\", \"scene\": \"scene\", \"showlegend\": true, \"type\": \"scatter3d\", \"x\": [-0.33304843282205115, -0.3163741416751411, -0.39677630046270734, -0.25606449547005056, -0.3181870150957749, -0.2737731141751583, -0.24642687094298263, -0.3327077472989678, -0.32528071091101896, -0.3315440556637605, -0.3330443649903238, -0.3330286347163816, 0.67412503427879, -0.3750486497655559, -0.3522713484176673, -0.2687480106934131, -0.3311056407923728, -0.33217336202401426, -0.39667093015004523, -0.4399774147407267, -0.028390968683663257, -0.28146331216183146, -0.2883853896905489, -0.28376242069457863, -0.28438502208441524, -0.3462700960871011, -0.3273458912829317, -0.33144888665365096, 0.025318944777263097, -0.3520725121707051, -0.3970427995848155, -0.2512796722456936, -0.31707057694070206, -0.39695435481425795, -0.30826029578928227, -0.33172470831654366, -0.25805959942566487, -0.39691882137107576, -0.2517479931067716, -0.2841657472865108, -0.32414306784834546, 0.01816045163547136, -0.3359411939802299, -0.3173981005389218, -0.37446986043554814, -0.28836568312338684, -0.2844604219358484, -0.28301491088167835, -0.33303049004989976, -0.28441258297037386, -0.35251757984931487, -0.3327646467548065, -0.39702431683462136, -0.4729453995199654, -0.41622376692938573, -0.3022989696408893, -0.2867659255427801, -0.28393380380435157, -0.31073624219432194, -0.24887078559809148, -0.09083881384221446, -0.31815791070406874, -0.07421283702099948, -0.31822167828357206, -0.234797576651398, -0.33264038568702736, -0.2866345410584644, -0.39419063267412296, 0.8657859407008379, -0.3180215305021624, -0.05721343350691541, -0.3519543650883614, -0.3948657380100885, -0.31676375869668794, -0.31442965625200187, -0.35623249009373514, -0.3957583134138771, -0.3664781437450725, -0.3089162817241671, -0.33267850071351335, -0.3311163599664208, -0.23873949126482616, -0.33999866265275297, -0.39649774776287083, -0.3318820944443203, -0.3182025882122324, -0.39701349302204547, -0.33286784888586607, -0.33302471951156193, -0.28662474539741717, -0.25963942695177644, 0.026479398427116874, -0.3509106320378498, -0.33263863312899095, -0.3831628716993488, -0.35023894522619015, -0.24017156199972436, -0.4235814100032633, -0.34998698064200207, -0.28828058761147396, -0.39660570194447364, 0.8484702550579273, -0.39696837195731666, -0.35137474298822946, -0.3325660322918194, -0.33272044579209886, -0.3519543650883614, -0.39654284906433007, -0.31806517744416984, -0.3325667844202739, -0.37738083990498356, -0.33271428227022753, -0.32829775730645155, -0.3969973808300084, -0.3319241566708432, 0.3553842888808667, -0.33291372682508885, -0.33298437014740173, -0.3532429476355633, -0.35765127485783776, -0.3292073380647516, -0.31817898703859354, -0.3969072631433499, -0.3327619939706777, -0.3328890216075787, -0.28827197732636395, -0.2863085314371364, -0.2399392354064898, -0.3137276969624614, -0.28801300352038783, -0.3961722870878682, -0.4187577151656338, -0.3949098338757989, -0.35019955565068084, -0.39607010793340075, -0.3445951092742851, -0.39200739345124047, -0.33283227445147473, -0.3328314428546616, -0.32594605837623164, 0.2594403912275772, -0.39654905944166186, -0.2708975974370486, -0.35198865241387195, -0.3320422263686508, 0.8864759834379683, -0.27246216489636854, -0.36525553498836855, 0.5833100287318281, -0.35776933543863226, -0.35627030571837476, -0.41156033410720566, -0.28409742153994755, 0.1323342373771214, -0.2841682701411975, -0.35008789480824126, -0.4110649074789632, -0.3968217023549832, -0.2883463334411707, -0.3518547523734886, -0.3324671635716143, -0.33296728653950897, -0.3141752091630091, 0.639564179360306, -0.39676244292532087, -0.3412650558209571, -0.33292284088043805, -0.31886830856705606, 0.43674968601391984, -0.3165239896606202, -0.3425231850812351, -0.3970471942340093, -0.3328731333057848, -0.39603371509591434, -0.3545827810870552, -0.33274346863736465, -0.10012182420079273, -0.3955540014782957, 0.2021612630129343, -0.28083647857526217, -0.3302015832644831, -0.31318223592084643, -0.3531287652549029, 0.08180522301829335, -0.33188107141863005, -0.3961357769282126, -0.352292690035297, -0.31943685490527546, -0.3329894325555465, -0.3524894887862676, -0.36676026218437213, -0.2763715470248034, -0.2764493887378717, -0.32853122862478373, -0.23172757268037406, -0.370339411427139, -0.3968389139485091, -0.2585454939683172, -0.28750548264353654, -0.31283313927289086, -0.3573679286015635, -0.3330168073672974, -0.33299850111411355, -0.2818822942987039, -0.35017856362556987, -0.3514488789164317, -0.3327147618020148, -0.39470090462068885, -0.3516376896283116, -0.31627881106237304, -0.27953663387821537, -0.16395423908149917, -0.28804032599893215, -0.1359769195886536, -0.28829249090284365, -0.35365806086374724, -0.3321883069811076, -0.20386350059738734, -0.3488321899439312, -0.2725902580820003, 1.0068507243641105, -0.35996527361429304, -0.3532423657757412, -0.39771948474271007, -0.16890034137057808, -0.3631469026255098, -0.3519608656279821, -0.32588611197183265, -0.3520665325629959, -0.3963118470995666, -0.28553561426071844, -0.35073654531304, -0.34672973039230165, -0.35192769350283515, -0.19235831853794702, -0.27067567664049746, -0.3231656152745294, -0.21418817513993596, 0.689782166450863, -0.14231012749995522, -0.3970135291529495, -0.27235155786410764, -0.3327187643469094, -0.3974700356357264, -0.3533594380703487, 0.5745801199539281, -0.3525438417041438, -0.3322011770471425, -0.2529963495562767, -0.3083351478849192, -0.3938738863498792, -0.39653928457821136, 0.10258610356125199, -0.39407748031165835, -0.33158594123246027, -0.332411880669379, -0.27380573954951215, -0.33293069728298824, -0.3881604961741252, -0.24654873295979235, -0.09770690245227914, -0.3839047260498945, -0.3322085212691846, -0.3252673723235322, -0.3931052254462189, -0.33064630865542294, -0.35223020073671923, -0.3919420164458341, -0.31670090533633644, -0.09542494145321417, -0.3278389193481109, -0.34589555423818613, -0.28456772817531517, -0.25468771744707663, -0.44593319152876976, -0.35216602822294096, -0.33819431939822714, -0.3310918436981163, -0.2886893342168808], \"y\": [1.0202456897138097, 1.0203476349026852, 1.2447000033937499, 1.7228140777345766, 0.8627103406023872, 0.6331455721494224, 1.9087564791531162, 1.0202435308591713, 1.020471394003085, 1.0202894019592244, 1.0202454483980308, 1.0202455459239745, 0.30515654309550255, 0.9757237299677363, 1.4909960077096043, 0.24328966372156008, 1.0202158503563925, 1.0157308500635804, 1.2447030651058737, 2.0514022615575587, 0.7982359055468599, 0.8620536134394613, 0.7906696943740681, 1.842883458102186, 1.8428653673688926, 0.53340123151324, 1.020109370002988, 1.0202216966915427, 1.030658658226029, 1.015152646699523, 1.2447080790157403, 0.12220762481481774, 1.636620258810144, 1.2447034587729304, 1.0198154110500581, 1.0202122440532309, 0.25753767068158234, 1.2447077271502769, 0.12226592570098233, 1.842871738767915, 1.019785362755441, 0.5248446579599761, 1.4777996975923409, 0.8627001858254842, 0.975743697270497, 0.7906819018155025, 1.8428545474504365, 0.79047783383352, 1.0202462111015154, 1.8428573756670212, 1.0151253327598844, 1.020239553879048, 1.2447086167823023, 2.272586480452176, 1.8987879680685393, 0.6351473929210478, 0.7906564767312, 1.8428425239076593, 0.8622235679107082, 1.9089182371163518, 0.977748788122069, 0.8627111862795677, 1.2349966786161803, 0.8627176029099428, 1.5430341680909598, 1.0202273445714425, 0.7905732469083243, 1.2445148246981694, 0.7530280723849426, 0.8627022054633809, 0.31112553764581874, 1.49099083644707, 1.244717406376231, 0.8626073569017343, 0.86245781604495, 1.5394409540368104, 1.2446454495000394, 1.5831684359211795, 1.019508715318402, 1.020224559204747, 1.02022992064042, 1.6131857371923632, 1.015031032345645, 1.2446879627653884, 1.020214861807736, 0.8627106071866122, 1.2447067740242737, 1.0202358360797126, 1.0202463787742377, 0.790732487696927, 0.30906672781317124, 2.010784283947617, 1.4909823331521275, 1.020257597165153, 1.2440327533677786, 1.4910262991895729, 1.6132861456316403, 1.9463845117560366, 1.4908459385645587, 2.0106226795554667, 1.2446992077223007, 1.8751711635372792, 1.2447074714763775, 1.4909861057230664, 1.0202319930770776, 1.0202250182900814, 1.49099083644707, 1.2446794613971661, 0.8627153189755834, 1.0202359549668312, 0.7309171744578746, 1.0202352646049972, 1.0199158473543146, 1.2447058040164136, 1.0201748089000082, 0.7860060762528234, 1.0202402557179049, 1.0202451668510135, 1.4860466735353015, 0.6214535083309941, 1.0199977555369057, 0.8627112929585113, 1.244705291631292, 1.020239630960165, 1.0202345497225918, 0.7906450747892637, 0.3189100191270386, 1.6132842494427422, 1.0200879989202887, 0.7906673939096026, 1.2446614652048713, 1.9561842708306616, 1.2446909570380082, 1.4909768989728827, 1.2446644341925115, 1.4909314188284835, 1.2444948482587617, 1.0202367172213582, 1.0202314288542136, 1.0197329738252152, 0.5947164244200382, 1.244693662691885, 0.7897512917315416, 1.4909826492971552, 1.0201994225938593, 1.8772086979462272, 0.6330487745595151, 1.583156141569206, 1.8828969295416635, 1.5394538253945065, 1.5394182826185085, 1.9613162434734455, 1.8428521514661433, 0.9978137987520673, 1.842858076013795, 1.449951422395447, 1.9613306389295824, 1.244707667529039, 0.7906699476963601, 1.4909638168524215, 1.0202278820977824, 1.0202450274190735, 1.723648981143903, 1.58184254018671, 1.2446968106109413, 0.5332617374036592, 1.0202380253883772, 0.720136816355393, 1.024636287589095, 0.8627025737947646, 1.539041114014716, 1.866769279641574, 1.0202356825319805, 1.7155324050319785, 1.4734259594394337, 1.0202439169299544, 0.6317285053379744, 1.2446477906909388, 1.5341581224762944, 1.842817467933661, 1.0201774014077303, 1.3098745187495662, 1.486046395859994, 0.9963455930312493, 1.020171746290356, 1.244698480438392, 1.4859987806968724, 1.0199940184472598, 1.0202445277467092, 1.0151254299057073, 1.5831663507369549, -0.10529798952174074, 0.26687554154086174, 1.020210116456081, 1.612958027880084, 0.9027066958854159, 1.244696026791177, 1.3473012075564719, 0.7906177295552532, 1.46750374755617, 1.5394367254516517, 1.020244451412776, 1.0202435451570622, 0.7905107439183041, 1.5235375666474973, 1.490956626258014, 1.020233812496622, 1.7155711320878952, 1.4909568927434649, 0.6572705189768143, 1.0181174347906274, 0.7377641318251422, 0.7906726593433961, 1.0186372435589524, 0.7906523886939445, 2.0140485879974155, 1.0202102788104148, 1.6793180718036989, 1.4857182150483794, 0.6331168333333764, 1.7233161234128955, 0.8868362564479101, 1.486042375917908, 1.7156235356100589, 0.7820149737147943, 0.9496918537170899, 1.4860228041622976, 1.0197347156690846, 1.015113270640919, 1.2446933644226508, 0.7905771715185682, 1.490889595651087, 0.9712582015554633, 1.0150849459116034, 1.0113901053296799, 2.2007365448710696, 3.025599844861387, 1.1177351545590941, 0.7992211870482966, 1.021247646514856, 1.7156089216405104, -0.11225462988002295, 1.0202401679823978, 1.7156207992468906, 1.4860444608217154, 0.9928306314883408, 1.0151247854036218, 1.020209904848943, 1.3471460488555362, 2.011841993475596, 1.2444981411508895, 1.244701137590879, 1.0077357273379421, 1.2447942420868174, 1.0201443674263384, 1.0202251709494994, 0.6331385119213788, 1.0202491107486413, 1.2446066263462892, 1.0152086668452418, 0.8689959553968744, 1.2443707412312475, 1.020259308479771, 1.020184146624129, 1.2446729224153397, 1.0202004335308064, 1.4909907315383946, 0.701255459435492, 0.8626938377745423, 0.7890908929802106, 1.0201813347273792, 0.5333715592636395, 1.8428599722448324, 0.6329900317426884, 3.4119753116176987, 1.4909928592643098, 1.4315960660024403, 1.0201227698941469, 0.790671778499813], \"z\": [-0.5772130429992481, -0.5776844751185805, -0.5459567411716342, -0.25084275159916003, -0.41429363181851614, -0.077072141392011, -0.7183497362007961, -0.5772218663234994, -0.577466643657854, -0.5772621579236232, -0.5772131072493144, -0.5772135522491332, -0.24926062869262944, -0.4413147907558292, -0.11099979423458971, -0.2803098810104616, -0.5772600163436516, -0.20939609667603404, -0.5459601813025251, -0.5930854036413388, -0.2484866840212963, -0.4151638724912871, -0.2399961652157439, -0.722843974521379, -0.7228236478257617, -0.36318105480136154, -0.5773416272971869, -0.5772518267910692, -0.5889130242811004, -0.20874642904812044, -0.5459510571101398, 0.0741594833765108, -0.24162823939874212, -0.5459525735468632, -0.5778029269525223, -0.5772425475137989, -0.14018399855076247, -0.5459543507037466, 0.07416106065963972, -0.7228308067112803, -0.5773666608341392, -0.06079734470205275, -0.08753048099094356, -0.4143130805760624, -0.44133428768070126, -0.23999902727201933, -0.7228195406755002, -0.2401051570287496, -0.5772136288007925, -0.7228213767716722, -0.20872915598257202, -0.5772195655629268, -0.5459516606722545, -0.2930243610792606, -0.8883662812549388, -0.09710596428953923, -0.24003754371105646, -0.7228315229738945, -0.4144027768542523, -0.7183143347624589, -0.4953006246813184, -0.414294582018951, -0.5528501544406929, -0.41429407706740795, -0.6427482680700396, -0.5772206056980578, -0.24002523385857802, -0.5459915189694162, -0.2641044437417757, -0.4142965663180959, -0.2305743953335135, -0.1110074006170088, -0.5460118496272568, -0.4143125739696614, -0.41434732842689065, -0.6387713187402071, -0.5459739328429932, -0.09183893359738551, -0.5777266604762389, -0.5772190413609753, -0.577262408876051, -0.3856136400583474, -0.20905052532764168, -0.5459619958736928, -0.5772387804161674, -0.41429326051187854, -0.545951602674369, -0.5772160590942459, -0.5772138171973785, -0.24005586542211296, -0.3459342704283941, -0.8606329416479909, -0.11103407169412845, -0.577226422148971, -0.5461985223476313, -0.11106066318155984, -0.3855939678928371, -0.8181621467457784, -0.11103309978778171, -0.8520698896796921, -0.5459612138767159, -0.7596925609016524, -0.5459529587751881, -0.11102221038626758, -0.5772235076394857, -0.5772179918950475, -0.1110074006170088, -0.5459591521599653, -0.4142978838244392, -0.5772242427542978, -0.19900242047175545, -0.5772201128662244, -0.5772789216285877, -0.545951854456147, -0.577230002439593, -0.2565575868688591, -0.57721565826772, -0.5772146798475175, -0.15671881156200115, -0.38926446149651367, -0.5772698847980354, -0.4142940310432015, -0.5459541995786409, -0.5772196521710466, -0.5772152398641239, -0.2399945447264592, -0.2444891515445493, -0.3855999040074852, -0.5777067019538544, -0.2400058208491471, -0.5459657652864366, -0.7942953510510734, -0.5460056106238949, -0.1110523106662245, -0.5459691012323648, -0.1111955583154877, -0.5460468909285403, -0.5772171914416828, -0.5772162055316773, -0.5773077967836256, -0.08419786930676694, -0.5459616918955992, -0.2402950762774461, -0.11100490995806199, -0.5772314955586372, -0.743043537710891, -0.07708921886631208, -0.09186973055257155, -0.6198570395746164, -0.6387321137683035, -0.6387659703972323, -0.7192875667184373, -0.7228289236727201, -0.585550630270832, -0.7228281329385974, -0.1360306423129805, -0.7193037414113266, -0.5459569719507819, -0.23999727222466963, -0.11100494839505148, -0.5772254037521694, -0.5772151163462138, -0.24942674764313297, -0.16524792489599785, -0.5459565079696164, -0.36329012651772685, -0.5772149859047552, -0.029056594851494214, -0.5989173036078044, -0.4143372305683178, -0.6390666919392299, -0.5779971397478094, -0.5772158865684585, -0.4939692286958373, -0.017079111447030792, -0.5772209716418829, -0.08150910284309346, -0.5459799175978299, -0.6529003659554924, -0.7229107045383462, -0.5772771908073312, -0.30151254593128773, -0.15672185376634132, -0.5839009585684078, -0.577230586339657, -0.5459738135006666, -0.15673543749698132, -0.5775340217758749, -0.5772144207478098, -0.20872993597523898, -0.09183088855125214, 0.14140846015061198, -0.22203615922124292, -0.577328707818911, -0.38576029047495797, -0.5057292145817164, -0.5459542855921914, -0.42139102268299305, -0.24001010765386205, 0.09985934739407382, -0.6387397339180542, -0.5772136641393206, -0.577213987552826, -0.24014213470485024, -0.048099904661818904, -0.11101457926087108, -0.5772198229612575, -0.49401274230388137, -0.11100951196393412, -0.034357046904294725, -0.5782577511500003, 0.027453703686960578, -0.24000608429454862, -0.5822483645269568, -0.23999538336968343, -0.8509509901814868, -0.5772296059342162, -0.38110217934929763, -0.15677573989389534, -0.07709872493043961, -0.1543173660424074, -0.3715984408710263, -0.15671800781093959, -0.493940910265711, -0.2415846694719887, -0.36627989741013417, -0.15674901339521893, -0.5773097539143607, -0.208739082417165, -0.5459680651601735, -0.24005577098784775, -0.11102110633284844, -0.43677750231415613, -0.20873744462881752, -0.5793380522071996, -0.47046513945999363, 15.920415370936372, -0.0841677535261486, 0.04119603621444053, -0.21559475321623037, -0.4939572599101771, 0.19208725113523767, -0.577220926407577, -0.4939471503073412, -0.15671523189437309, -0.5965883875222162, -0.20872833972268703, -0.5772291857521885, -0.42151185637233646, -0.8517587824791497, -0.5459969236204214, -0.5459633822714705, -0.5866362820035284, -0.5460478690168128, -0.5772333655223365, -0.5772263853164026, -0.07706991067936661, -0.5772168868359184, -0.5461724844644666, -0.5785972776162778, -0.42146883152962267, -0.5462428645824948, -0.577238407575664, -0.5774122292944275, -0.5460510892844487, -0.5772695276390988, -0.11099990350299903, -0.18945377268082614, -0.4143307690007687, -0.24492570066578556, -0.5773419858651297, -0.36318554927359814, -0.7228176663807565, -0.07755983104438727, 13.359052282484566, -0.1110020487761976, -0.13567310611050354, -0.5772426405927376, -0.23998832358368608]}, {\"customdata\": [[\"X13\"], [\"Scrypt\"], [\"CryptoNight\"], [\"DPoS\"], [\"Scrypt\"], [\"DPoS\"], [\"CryptoNight\"], [\"Semux BFT consensus\"], [\"Scrypt\"], [\"CryptoNight Heavy\"], [\"DPoS\"], [\"DPoS\"], [\"DPoS\"], [\"DPoS\"], [\"SHA-256\"]], \"hoverlabel\": {\"namelength\": 0}, \"hovertemplate\": \"<b>%{hovertext}</b><br><br>Class=%{marker.color}<br>PC 1=%{x}<br>PC 2=%{y}<br>PC 3=%{z}<br>Algorithm=%{customdata[0]}\", \"hovertext\": [\"EliteCoin\", \"MoonCoin\", \"ByteCoin\", \"ARK\", \"gCn Coin\", \"Lamden Tau\", \"TurtleCoin\", \"Semux\", \"Lynx\", \"Qwertycoin\", \"ALAX\", \"Lisk\", \"EOS\", \"Oxycoin\", \"ZEPHYR\"], \"legendgroup\": \"4\", \"marker\": {\"color\": [4, 4, 4, 4, 4, 4, 4, 4, 4, 4, 4, 4, 4, 4, 4], \"coloraxis\": \"coloraxis\", \"symbol\": \"diamond\"}, \"mode\": \"markers\", \"name\": \"4\", \"scene\": \"scene\", \"showlegend\": true, \"type\": \"scatter3d\", \"x\": [2.3027120314468235, 2.5594575373728627, 3.8609441860481115, 3.70228845016563, 3.247007883514579, 3.7071485908248243, 8.047664144932298, 3.893773227921045, 2.2462436353410324, 3.1078288364196847, 3.7193994404343425, 3.702680612034668, 3.712554323394831, 3.713799236412226, 2.458211735332734], \"y\": [1.6921298702740724, -1.3382928947872663, -2.3365115148150815, 1.969710256181225, -1.186002881152856, 1.9695818179944045, -2.801298481862036, 1.9886049384228772, 0.24002158734032925, -2.2279387859466704, 1.969578243396155, 1.9696965417246903, 1.970098434362714, 1.9701346074097694, 0.8792493405739071], \"z\": [-0.7642082500704039, -0.01950526369152415, 0.3375534398769248, -0.2157149073433189, -0.06718334060548584, -0.21582215953140374, 0.3126949496048258, -0.1185389607988742, -0.38417957781286394, 0.2780122477834065, -0.21615356307434547, -0.21572292247566285, -0.21606720823778022, -0.21610785216885406, -0.13940499947099233]}, {\"customdata\": [[\"SHA-256\"], [\"Ethash\"], [\"Scrypt\"], [\"CryptoNight-V7\"], [\"Ethash\"], [\"Equihash\"], [\"Multiple\"], [\"Scrypt\"], [\"X11\"], [\"Scrypt\"], [\"Multiple\"], [\"SHA-256\"], [\"Scrypt\"], [\"Scrypt\"], [\"Quark\"], [\"Groestl\"], [\"Scrypt\"], [\"Scrypt\"], [\"Scrypt\"], [\"X11\"], [\"Multiple\"], [\"SHA-256\"], [\"Scrypt\"], [\"Scrypt\"], [\"Scrypt\"], [\"Scrypt\"], [\"Scrypt\"], [\"NeoScrypt\"], [\"Scrypt\"], [\"Scrypt\"], [\"Scrypt\"], [\"Scrypt\"], [\"SHA-256\"], [\"Scrypt\"], [\"Scrypt\"], [\"Scrypt\"], [\"Scrypt\"], [\"HybridScryptHash256\"], [\"Scrypt\"], [\"Scrypt\"], [\"SHA-256\"], [\"Scrypt\"], [\"Scrypt\"], [\"Scrypt\"], [\"Scrypt\"], [\"SHA-256\"], [\"SHA-256\"], [\"SHA-256\"], [\"SHA-256\"], [\"SHA-256\"], [\"X11\"], [\"Scrypt\"], [\"Lyra2REv2\"], [\"Scrypt\"], [\"SHA-256\"], [\"CryptoNight\"], [\"Scrypt\"], [\"Scrypt\"], [\"Scrypt\"], [\"Scrypt\"], [\"Scrypt\"], [\"Scrypt\"], [\"Stanford Folding\"], [\"Multiple\"], [\"QuBit\"], [\"Scrypt\"], [\"Scrypt\"], [\"M7 POW\"], [\"Scrypt\"], [\"SHA-256\"], [\"Scrypt\"], [\"X11\"], [\"Lyra2RE\"], [\"SHA-256\"], [\"X11\"], [\"Scrypt\"], [\"Scrypt\"], [\"Ethash\"], [\"Blake2b\"], [\"X11\"], [\"SHA-256\"], [\"Scrypt\"], [\"1GB AES Pattern Search\"], [\"Scrypt\"], [\"SHA-256\"], [\"X11\"], [\"Dagger\"], [\"Scrypt\"], [\"X11GOST\"], [\"Scrypt\"], [\"X11\"], [\"Scrypt\"], [\"X11\"], [\"Equihash\"], [\"CryptoNight\"], [\"SHA-256\"], [\"Multiple\"], [\"Scrypt\"], [\"SHA-256\"], [\"Scrypt\"], [\"Lyra2Z\"], [\"Ethash\"], [\"Equihash\"], [\"Scrypt\"], [\"X11\"], [\"X11\"], [\"CryptoNight\"], [\"Scrypt\"], [\"CryptoNight\"], [\"Lyra2RE\"], [\"X11\"], [\"CryptoNight-V7\"], [\"Scrypt\"], [\"X11\"], [\"Equihash\"], [\"Scrypt\"], [\"Lyra2RE\"], [\"Dagger-Hashimoto\"], [\"Scrypt\"], [\"NIST5\"], [\"Scrypt\"], [\"SHA-256\"], [\"Scrypt\"], [\"CryptoNight-V7\"], [\"Argon2d\"], [\"Blake2b\"], [\"Cloverhash\"], [\"CryptoNight\"], [\"X11\"], [\"Scrypt\"], [\"Scrypt\"], [\"X11\"], [\"X11\"], [\"CryptoNight\"], [\"Time Travel\"], [\"Keccak\"], [\"X11\"], [\"SHA-256\"], [\"Scrypt\"], [\"Scrypt\"], [\"Scrypt\"], [\"Scrypt\"], [\"Scrypt\"], [\"Scrypt\"], [\"CryptoNight\"], [\"Equihash\"], [\"X11\"], [\"NeoScrypt\"], [\"Equihash\"], [\"Dagger\"], [\"Scrypt\"], [\"X11\"], [\"NeoScrypt\"], [\"Ethash\"], [\"NeoScrypt\"], [\"Multiple\"], [\"CryptoNight\"], [\"CryptoNight\"], [\"Ethash\"], [\"X11\"], [\"CryptoNight-V7\"], [\"Scrypt\"], [\"BLAKE256\"], [\"X11\"], [\"NeoScrypt\"], [\"NeoScrypt\"], [\"Scrypt\"], [\"X11\"], [\"SHA-256\"], [\"C11\"], [\"SkunkHash\"], [\"CryptoNight\"], [\"Scrypt\"], [\"Dagger\"], [\"Lyra2REv2\"], [\"Scrypt\"], [\"Scrypt\"], [\"X11\"], [\"Ethash\"], [\"CryptoNight\"], [\"Scrypt\"], [\"IMesh\"], [\"Equihash\"], [\"Lyra2Z\"], [\"X11\"], [\"CryptoNight\"], [\"NIST5\"], [\"Lyra2RE\"], [\"Tribus\"], [\"Lyra2Z\"], [\"CryptoNight\"], [\"CryptoNight Heavy\"], [\"CryptoNight\"], [\"Jump Consistent Hash\"], [\"CryptoNight\"], [\"X16R\"], [\"HMQ1725\"], [\"X11\"], [\"Scrypt\"], [\"CryptoNight-V7\"], [\"Cryptonight-GPU\"], [\"XEVAN\"], [\"SHA-256\"], [\"X11\"], [\"X16R\"], [\"Equihash\"], [\"Lyra2Z\"], [\"SHA-256\"], [\"CryptoNight\"], [\"Blake\"], [\"Blake\"], [\"Exosis\"], [\"Scrypt\"], [\"Equihash\"], [\"Equihash\"], [\"QuBit\"], [\"SHA-256\"], [\"X13\"], [\"SHA-256\"], [\"Scrypt\"], [\"NeoScrypt\"], [\"Blake\"], [\"Scrypt\"], [\"SHA-256\"], [\"Scrypt\"], [\"Groestl\"], [\"Scrypt\"], [\"Scrypt\"], [\"Multiple\"], [\"Equihash+Scrypt\"], [\"Ethash\"], [\"CryptoNight\"], [\"Equihash\"]], \"hoverlabel\": {\"namelength\": 0}, \"hovertemplate\": \"<b>%{hovertext}</b><br><br>Class=%{marker.color}<br>PC 1=%{x}<br>PC 2=%{y}<br>PC 3=%{z}<br>Algorithm=%{customdata[0]}\", \"hovertext\": [\"Bitcoin\", \"Ethereum\", \"Litecoin\", \"Monero\", \"Ethereum Classic\", \"ZCash\", \"DigiByte\", \"ProsperCoin\", \"Spreadcoin\", \"Argentum\", \"MyriadCoin\", \"ZetaCoin\", \"SexCoin\", \"Quatloo\", \"QuarkCoin\", \"Riecoin\", \"Digitalcoin \", \"Catcoin\", \"CannaCoin\", \"CryptCoin\", \"Verge\", \"DevCoin\", \"EarthCoin\", \"E-Gulden\", \"Einsteinium\", \"Emerald\", \"Franko\", \"FeatherCoin\", \"GrandCoin\", \"GlobalCoin\", \"GoldCoin\", \"Infinite Coin\", \"IXcoin\", \"KrugerCoin\", \"LuckyCoin\", \"Litebar \", \"MegaCoin\", \"MediterraneanCoin\", \"MinCoin\", \"NobleCoin\", \"Namecoin\", \"NyanCoin\", \"RonPaulCoin\", \"StableCoin\", \"SmartCoin\", \"SysCoin\", \"TigerCoin\", \"TerraCoin\", \"UnbreakableCoin\", \"Unobtanium\", \"UroCoin\", \"ViaCoin\", \"Vertcoin\", \"WorldCoin\", \"JouleCoin\", \"DigitalNote \", \"MonaCoin\", \"Gulden\", \"PesetaCoin\", \"Wild Beast Coin\", \"Flo\", \"ArtByte\", \"Folding Coin\", \"Unitus\", \"CypherPunkCoin\", \"OmniCron\", \"GreenCoin\", \"Cryptonite\", \"MasterCoin\", \"SoonCoin\", \"1Credit\", \"MarsCoin \", \"Crypto\", \"Anarchists Prime\", \"BowsCoin\", \"Song Coin\", \"BitZeny\", \"Expanse\", \"Siacoin\", \"MindCoin\", \"I0coin\", \"Revolution VR\", \"HOdlcoin\", \"Gamecredits\", \"CarpeDiemCoin\", \"Adzcoin\", \"SoilCoin\", \"YoCoin\", \"SibCoin\", \"Francs\", \"BolivarCoin\", \"Omni\", \"PizzaCoin\", \"Komodo\", \"Karbo\", \"ZayedCoin\", \"Circuits of Value\", \"DopeCoin\", \"DollarCoin\", \"Shilling\", \"ZCoin\", \"Elementrem\", \"ZClassic\", \"KiloCoin\", \"ArtexCoin\", \"Kurrent\", \"Cannabis Industry Coin\", \"OsmiumCoin\", \"Bikercoins\", \"HexxCoin\", \"PacCoin\", \"Citadel\", \"BeaverCoin\", \"VaultCoin\", \"Zero\", \"Canada eCoin\", \"Zoin\", \"DubaiCoin\", \"EB3coin\", \"Coinonat\", \"BenjiRolls\", \"ILCoin\", \"EquiTrader\", \"Quantum Resistant Ledger\", \"Dynamic\", \"Nano\", \"ChanCoin\", \"Dinastycoin\", \"DigitalPrice\", \"Unify\", \"SocialCoin\", \"ArcticCoin\", \"DAS\", \"LeviarCoin\", \"Bitcore\", \"SmartCash\", \"Onix\", \"Bitcoin Cash\", \"Sojourn Coin\", \"NewYorkCoin\", \"FrazCoin\", \"Kronecoin\", \"AdCoin\", \"Linx\", \"Sumokoin\", \"BitcoinZ\", \"Elements\", \"VIVO Coin\", \"Bitcoin Gold\", \"Pirl\", \"eBoost\", \"Pura\", \"Innova\", \"Ellaism\", \"GoByte\", \"SHIELD\", \"UltraNote\", \"BitCoal\", \"DaxxCoin\", \"AC3\", \"Lethean\", \"PopularCoin\", \"Photon\", \"Sucre\", \"SparksPay\", \"GunCoin\", \"IrishCoin\", \"Pioneer Coin\", \"UnitedBitcoin\", \"Interzone\", \"MUNcoin\", \"Niobio Cash\", \"ShareChain\", \"Travelflex\", \"KREDS\", \"BitFlip\", \"LottoCoin\", \"Crypto Improvement Fund\", \"Callisto Network\", \"BitTube\", \"Poseidon\", \"Aidos Kuneen\", \"Bitrolium\", \"Alpenschillling\", \"FuturoCoin\", \"Monero Classic\", \"Jumpcoin\", \"Infinex\", \"KEYCO\", \"GINcoin\", \"PlatinCoin\", \"Loki\", \"Newton Coin\", \"MassGrid\", \"PluraCoin\", \"Motion\", \"PlusOneCoin\", \"Axe\", \"HexCoin\", \"Webchain\", \"Ryo\", \"Urals Coin\", \"Project Pai\", \"Azart\", \"Xchange\", \"CrypticCoin\", \"Actinium\", \"Bitcoin SV\", \"FREDEnergy\", \"Universal Molecule\", \"Lithium\", \"Exosis\", \"Block-Logic\", \"Beam\", \"Bithereum\", \"SLICE\", \"BLAST\", \"Bitcoin Rhodium\", \"GlobalToken\", \"SolarCoin\", \"UFO Coin\", \"BlakeCoin\", \"Crypto Escudo\", \"Crown Coin\", \"SmileyCoin\", \"Groestlcoin\", \"Bata\", \"Pakcoin\", \"JoinCoin\", \"Vollar\", \"Reality Clash\", \"Beldex\", \"Horizen\"], \"legendgroup\": \"1\", \"marker\": {\"color\": [1, 1, 1, 1, 1, 1, 1, 1, 1, 1, 1, 1, 1, 1, 1, 1, 1, 1, 1, 1, 1, 1, 1, 1, 1, 1, 1, 1, 1, 1, 1, 1, 1, 1, 1, 1, 1, 1, 1, 1, 1, 1, 1, 1, 1, 1, 1, 1, 1, 1, 1, 1, 1, 1, 1, 1, 1, 1, 1, 1, 1, 1, 1, 1, 1, 1, 1, 1, 1, 1, 1, 1, 1, 1, 1, 1, 1, 1, 1, 1, 1, 1, 1, 1, 1, 1, 1, 1, 1, 1, 1, 1, 1, 1, 1, 1, 1, 1, 1, 1, 1, 1, 1, 1, 1, 1, 1, 1, 1, 1, 1, 1, 1, 1, 1, 1, 1, 1, 1, 1, 1, 1, 1, 1, 1, 1, 1, 1, 1, 1, 1, 1, 1, 1, 1, 1, 1, 1, 1, 1, 1, 1, 1, 1, 1, 1, 1, 1, 1, 1, 1, 1, 1, 1, 1, 1, 1, 1, 1, 1, 1, 1, 1, 1, 1, 1, 1, 1, 1, 1, 1, 1, 1, 1, 1, 1, 1, 1, 1, 1, 1, 1, 1, 1, 1, 1, 1, 1, 1, 1, 1, 1, 1, 1, 1, 1, 1, 1, 1, 1, 1, 1, 1, 1, 1, 1, 1, 1, 1, 1, 1, 1, 1, 1, 1, 1, 1, 1, 1, 1, 1, 1, 1, 1, 1, 1, 1, 1, 1, 1, 1, 1, 1], \"coloraxis\": \"coloraxis\", \"symbol\": \"square\"}, \"mode\": \"markers\", \"name\": \"1\", \"scene\": \"scene\", \"showlegend\": true, \"type\": \"scatter3d\", \"x\": [-0.1504497466699719, -0.1518958900251839, -0.16414075590117272, -0.14442144790151287, -0.15033629503133816, -0.1498315903638742, 0.15867664394644407, -0.16528792748653187, -0.22922362610944738, -0.16490409330545383, -0.0949493591899378, -0.14753234524188402, -0.16215716254822776, -0.16470789209295092, -0.2253617034808819, -0.20637736548381608, -0.16475684202911245, -0.1652701818703549, -0.16535671621625006, -0.2293130327387488, 0.18242885740939815, 0.2277041312868453, 0.08357494796850964, -0.16510282244294705, -0.16070446369842387, -0.16504204519638938, -0.1654137619802217, -0.1738600350635255, -0.14461847152285157, -0.1642079107111733, -0.16448553402947225, 1.584899361723185, -0.150411090757245, -0.16177259995123683, -0.16512928422402023, -0.16548438358155437, -0.16474303239807236, -0.151490028960437, -0.16536554758364516, -0.03013960304612379, -0.15048875221488678, -0.15902437884258586, -0.1653449442968278, -0.163437379957506, -0.16483126493168399, -0.1376299442041044, -0.1499520947173521, -0.15023950228089353, -0.15022236824553645, -0.15081368836516462, -0.2294870922700387, -0.16506124204279948, -0.1949198126687213, -0.16216183585697877, -0.15001943935285264, 0.45718663755742783, -0.16392786038878, -0.14851218880674205, -0.162645663801766, -0.16548659071734767, -0.16251063274994235, -0.14872284981335432, -0.12875555057834373, -0.12898392898090752, -0.1909614461769776, -0.16535958296337294, -0.03818584567403062, -0.13716702280587037, -0.16549549479225384, -0.15051654797858402, 0.4873498126772152, -0.2288737825272664, -0.16134780472414464, -0.1502561466140182, -0.2291589024123759, -0.16361745157436786, -0.16280905034559476, -0.15296400147879297, 0.37486348692825344, -0.22919433657157123, -0.15041221384572598, -0.16145010886264166, -0.15826740866236172, -0.16405766790553536, 0.2684075665732674, -0.22835431493849453, -0.1609976008854091, -0.16430501803913478, -0.1855017765003992, -0.16528521363809237, -0.22915753045208048, -0.16549555333408592, -0.22930760011375095, -0.2522484417487129, 0.3019611968469945, -0.15067250159749535, -0.10903991555034971, -0.16265983954858743, -0.1506311015257867, -0.16515864930553542, -0.14908221772954444, -0.1527059626496578, -0.14985322164640208, -0.0921451939847054, -0.21588075320099592, -0.22713375049106227, 0.30195558792527577, -0.1654772732789166, 0.302086401145281, -0.16188876169432007, 0.48668877426218354, -0.14318482001861216, -0.16544553773048068, -0.22203414074576236, -0.14986561581682842, -0.16357730414737542, -0.1616069255728738, -0.15263511048803616, -0.13633887098290207, -0.18988416127329708, -0.1650075368228195, -0.11696849132875686, -0.1648293824294432, -0.14304268623676897, -0.16567641189497012, -0.025702143409206856, -0.16693698006779714, 0.3381069185462298, -0.22836266922327836, -0.16514900155609366, -0.16491207050771026, -0.22875772102100983, -0.22933566822743937, 0.30235092788479057, -0.13064769479205887, -0.11896663921243622, -0.22019876146246914, -0.1504489103369258, -0.09099077036286711, 1.582673802553109, -0.16524691149742263, -0.16469801457014935, -0.1643987481578601, -0.1643856704778416, 0.30253475614677144, 0.06265915304726875, -0.1836875896572201, -0.17855272340516762, -0.14971155453060292, -0.15975552668289966, -0.16357551212293842, -0.22487623729064535, -0.17839798324549871, -0.15106937944999954, -0.17849829122180344, -0.1192074686143245, 1.1406870836387866, 0.30193832251325053, -0.07588201492387331, -0.22461708298187572, -0.13214508724977725, -0.08156587475582441, 1.0829204960835537, -0.2293096471973089, -0.17855029719772084, -0.17158224558038396, -0.1644972963920519, -0.22923499658674332, -0.15042829649611258, -0.20276434096864318, -0.16064064915556686, 0.3058162073922088, 0.02769990314709539, -0.1592585721229066, -0.18046551512133965, -0.16507146602120978, 0.14225833075348768, -0.22337071707480438, -0.10405963142768412, 0.3098694300192728, -0.16530868583896396, -0.16120644164363915, -0.14870184430404815, -0.14686349386472433, -0.2284034685729465, 0.30212097806557664, -0.18994373775669451, -0.16173385285446656, -0.1469697389351002, -0.14916668019208532, 0.30605340110534224, 0.5830954030620851, 2.112310776722446, -0.16146927432750838, 0.3157376280817767, -0.193205451992637, -0.15170075975030173, -0.22929179230369554, -0.16533328084285856, -0.13202280280090392, -0.1527762314370818, -0.08976494590614653, -0.11024437146258254, -0.2292631279141295, -0.19263258058292537, -0.04436725792033541, -0.14856383105462365, -0.1504489479271821, 0.3819561774021445, -0.13365739857050665, -0.1340499033809274, -0.1735449802035466, -0.16422457490574727, -0.14776970679421841, -0.14954423554515747, -0.19017162114925631, -0.1497244930105662, -0.11700012222867931, -0.1485913956729371, 0.5313151925567696, -0.10365543603466641, -0.08446328579872873, -0.14887353539903214, -0.15023887231604865, 0.5509543854175122, -0.2059380173718132, -0.16541021741175296, -0.1633640879044732, -0.12971929206577176, -0.14091797744257925, -0.1527391478491889, 0.3237136623061325, -0.14983264801005391], \"y\": [-1.298870718387665, -2.037273522594527, -1.1413624834812635, -2.2200065724724327, -2.0373792142828964, -2.044227748975911, -1.816502876149675, -1.1413505139809144, -0.9168857002009775, -1.141370281789079, -1.810209747047915, -1.2988929453997802, -1.1414242153373553, -1.1413904679778593, -0.4459978962402531, -1.1858881624415587, -1.141354617125272, -1.1413499983521116, -1.141346860726609, -0.9168868598865901, -1.8126163721058899, -1.302968554026804, -1.1438119623355758, -1.1413451354417252, -1.1414178098509726, -1.1413512794175735, -1.1413471490106286, -1.6282836730974013, -1.1417563697000876, -1.1413543675541193, -1.1413640492223387, -1.1556300871691516, -1.29886959517493, -1.1414241301253503, -1.141345185246012, -1.1413420922769246, -1.1413497819703369, -2.1787245291235644, -1.141344859402491, -1.148194761453539, -1.2988718517595457, -1.1413957476263974, -1.1413521707004868, -1.1414614142130515, -1.141358961319335, -1.299121666171622, -1.2988749631490275, -1.298879710217486, -1.2989065376798359, -1.298866372264097, -0.9168789739068592, -1.1413453654278514, -1.2118983430223957, -1.1414354400309719, -1.2988754731801688, -2.3099560944736526, -1.1413714845687157, -1.1420560325762985, -1.1413782837924191, -1.1413430754026557, -1.1413697681454589, -1.141573174265105, -2.2633023171312954, -1.8097605040961828, -1.5401020154767238, -1.1413399195024467, -1.1448331216753564, -2.1252613942528473, -1.1413418898227339, -1.2988726594123323, -1.1885279624874316, -0.9168848830417539, -2.1826813106790057, -1.2988886503143038, -0.9168845386321987, -1.1414380555831012, -1.1414431570366055, -2.037316715550815, -2.2217559138462186, -0.9168819727945218, -1.2988696278081597, -1.1413749072047834, -2.189283890558733, -1.1413600692194368, -1.3022361971227572, -0.9169064624916168, -2.1547683177295536, -1.1414279123504443, -1.9567817024016638, -1.1413497160380859, -0.9168873751171199, -1.1413418893449307, -0.9168917356442069, -1.4546870456537002, -2.307282748436031, -1.2988690911074112, -1.810043902016085, -1.1414028670960166, -1.2988685369896236, -1.1413532293718276, -2.212659177123999, -2.037315904693202, -2.044228377509303, -1.1464010015338226, -0.9168431624730583, -0.9169745455168008, -2.307290821373949, -1.141342866715944, -2.3072898967247886, -2.1826569118572414, -0.967978014922723, -2.2201036713302074, -1.1413424089108597, -0.9173815032174533, -2.0442258612932838, -1.1413576168385557, -2.182656632595421, -2.195788835056704, -1.1433705990325207, -0.6221511615629084, -1.141352808193818, -1.2996804816813474, -1.1413738636376713, -2.22004201440267, -2.1610781440152955, -2.2336397164792867, -2.2101276250853643, -2.3076634574351176, -0.9169182106376135, -1.141345238122349, -1.1413784235413804, -0.916900926038374, -0.916888164777532, -2.3073030639884653, -2.2115266703671974, -1.191911675961822, -0.9174000819158483, -1.2988706940865946, -1.1467270015013862, -1.0905454374382038, -1.1413486031047992, -1.1413786755716133, -1.1413814852795063, -1.1413811052854603, -2.307322810707565, -2.0531392063520877, -0.9168425494188318, -1.6281978290685417, -2.0442242611323547, -2.1548230527472176, -1.1413575647682634, -0.9169966783248521, -1.6282062764051943, -2.037450851403873, -1.6281996990691132, -1.8099510302281678, -2.344027390300472, -2.3072852108068367, -2.0422556851216602, -0.9171329656364459, -2.2203685766616634, -1.1424981646463175, -1.2193040868932594, -0.9168880558712682, -1.6281934440466814, -1.6283354184140466, -1.141358461618766, -0.9168881878515255, -1.2988694953978088, -1.2588824265601695, -2.178692873016748, -2.307405157091417, -1.1429187001382057, -2.1547681234332505, -1.2122089418158697, -1.141357886988334, -1.1456353649919042, -0.9170607960039673, -2.040557627437502, -2.307764857896736, -1.14135111714985, -2.1633606262604217, -2.0442301575808957, -2.2127950461061405, -0.9169193961315195, -2.307284146057319, -0.6221332960886755, -2.182664117463023, -2.15467223909282, -2.2126537932707797, -2.3075881044702946, -2.168756986534695, -2.3869848765611295, -2.1842632658250625, -2.3075943475063077, -1.2747304391592376, -2.1591202686355038, -0.9168883999720875, -1.1413526265798446, -2.2209047118550473, -2.2191046151273666, -0.8143581193796035, -1.2991974660854382, -0.9168904434294518, -1.2747698277955142, -2.0466132682420133, -2.212689129395306, -1.2988706951788427, -2.3107613945771677, -2.2394270914928125, -2.2393810476268237, -2.1550379533532382, -1.1413908061296578, -2.044341712801537, -2.0442265082949698, -1.540150974517164, -1.2988805656771367, -0.31872815945506355, -1.2989224267112833, -1.1916369072850268, -1.6288784962640925, -2.2429556948186216, -1.1415775526889027, -1.2988796919127952, -1.156478154186693, -1.1858904972763695, -1.1413425619227489, -1.1414103866466574, -1.8097838847553582, -2.1927229988814836, -2.037315633844238, -2.307650385411841, -2.044227779707604], \"z\": [0.17971643468355333, 0.398158028837409, 0.016770467581638707, 0.4439533273699792, 0.3981359073333354, 0.4488893725952699, 0.3244548031102407, 0.016799281599512265, 0.04805921483471099, 0.016792646535801013, 0.33012981959440113, 0.1796415908723553, 0.01672846989284275, 0.01679117744265784, 0.09995160626593767, 0.15267583697400472, 0.016785667843858595, 0.016798702240479788, 0.01680044961517067, 0.04806185953391706, 0.3230698217710849, 0.17024720064588195, 0.010522706808806473, 0.01679323828843117, 0.016687869939201294, 0.016792762403002252, 0.016802050934882535, 0.23072214835903668, 0.01631638593514295, 0.01677074030800466, 0.016780112097250863, -0.02792023877664649, 0.17971517264496528, 0.0167180292609141, 0.016793965088286806, 0.01680300100134339, 0.016784371476593334, 0.3345285205590599, 0.016800307370473177, 0.014440947370780268, 0.17971770813691323, 0.016638120583619687, 0.016801143084832756, 0.01677026644201031, 0.01678851363948197, 0.17941678069257502, 0.179703754219064, 0.1797124502395814, 0.17971710158241144, 0.1797254713196469, 0.04806507398813739, 0.01679215502037231, 0.22771863394394082, 0.01673073703816718, 0.17970567699699658, 0.42475556728388536, 0.016766413038736695, 0.01647907685511648, 0.016732952949368333, 0.01680324830517638, 0.016727668776684704, 0.01639270978653137, 0.5739580788379464, 0.33096673131767174, 0.20476912870648611, 0.016799203684706714, 0.014018018148581661, 0.3444418494787808, 0.01680326358770748, 0.17971861561324928, 0.008104542939600425, 0.04804957575823908, 0.39312516903270756, 0.17971460622926208, 0.04805723885948762, 0.016770693347461785, 0.016749752731348905, 0.3981952188324797, 0.3886861940933096, 0.04805771009120487, 0.17971520931156792, 0.016699901013761002, 0.36639415839757955, 0.016767754924033908, 0.16900419293211547, 0.048039609530683154, 0.3791013447628977, 0.016787397051998165, 0.2670987000882652, 0.016799055873160357, 0.04805774256613321, 0.016803265083494168, 0.04806264204175917, 0.6612929694560876, 0.4284534940312733, 0.17972216261681911, 0.3304801485181163, 0.01673802506572524, 0.17972093471417241, 0.01679629504576836, 0.41910638501512326, 0.39818806951969865, 0.4488900788135707, 0.015779683423847463, 0.0476894164134723, 0.048019506474964446, 0.42845518552204664, 0.016802955941298884, 0.4284514632293141, 0.39313518014219534, 0.03839581847484496, 0.443938321983858, 0.01680200838211288, 0.047958874566000155, 0.4488899349601375, 0.016754265997529, 0.3931274871248244, 0.44618913945272093, 0.016399771350540014, -0.04472149367915244, 0.01679211850677774, 0.17896327026075554, 0.01679130437130285, 0.44392271163055713, 0.43658693026950224, 0.40181052537856676, 0.2791586648116662, 0.42754628615600604, 0.04804207627511592, 0.01679450965140263, 0.016794415346218082, 0.04804948894548619, 0.048062721949693854, 0.42844680357153697, 0.4936880068787284, 0.15590841314323164, 0.047912665547554356, 0.17971640737893332, 0.015810556093535974, -0.04027106785717057, 0.016797805384536842, 0.016788660967536964, 0.01678108450876285, 0.01678065754855156, 0.428445586069797, 0.44482871002219715, 0.046816635714396836, 0.2308329837862805, 0.44888545366433596, 0.3790781132742299, 0.01675420749149969, 0.04796253236599896, 0.23083040007107375, 0.3981694398021474, 0.23083186488198312, 0.3307380515930574, 0.41272498407385955, 0.42845458364423195, 0.39704757322240003, 0.04798149641473473, 0.4436895821475777, 0.0147486666952188, 0.07820329731799691, 0.04806199582701869, 0.23083208182781234, 0.23067027150319902, 0.01677936542661678, 0.048059997431966255, 0.17971562001615823, 0.08828678628020002, 0.35734886515497455, 0.4283723382343231, 0.011866979645210326, 0.37905416765896605, 0.2273860485093176, 0.016794819931183258, 0.009279678883936777, 0.04793394881948881, 0.39748758017700747, 0.4283310593238689, 0.01679995931838341, 0.3737289160709193, 0.4488592077416479, 0.4190721510137694, 0.048043408292640435, 0.42844942933932895, -0.04472328554531973, 0.3931323550657344, 0.5021459327324763, 0.4191076478881512, 0.4284007952984874, 0.3351649599053669, 0.39457874108226443, 0.4028536118737756, 0.42813947434223537, 0.22243538240413874, 0.39660480942396487, 0.04806157744982092, 0.01680091385503708, 0.4437885043540116, 0.4351279216395585, 0.17260568863163772, 0.17868889129484686, 0.04806119011299723, 0.22242736463215554, 0.44648543952437264, 0.41909804472266327, 0.1797164086061803, 0.4269484127641824, 0.40136867031842727, 0.4013705297695187, 0.33885604980720835, 0.016778140590993057, 0.44885521293180225, 0.4488813466464752, 0.20475705495251464, 0.17969865295371862, -0.12880165210527475, 0.17967592054079043, 0.007505620919669868, 0.2289325325467408, 0.40070803818665335, 0.016397629370849303, 0.1797124296724838, 0.00026874690938928603, 0.15266437274969563, 0.01680108012838971, 0.016758549129325503, 0.33099112340698567, 0.3888473526313931, 0.39818891742584805, 0.4279339530742209, 0.4488894071253112]}, {\"customdata\": [[\"VeChainThor Authority\"], [\"Proof-of-BibleHash\"], [\"SHA-256 + Hive\"], [\"Proof-of-Authority\"], [\"SHA3-256\"]], \"hoverlabel\": {\"namelength\": 0}, \"hovertemplate\": \"<b>%{hovertext}</b><br><br>Class=%{marker.color}<br>PC 1=%{x}<br>PC 2=%{y}<br>PC 3=%{z}<br>Algorithm=%{customdata[0]}\", \"hovertext\": [\"Vechain\", \"BiblePay\", \"LitecoinCash\", \"Poa Network\", null], \"legendgroup\": \"3\", \"marker\": {\"color\": [3, 3, 3, 3, 3], \"coloraxis\": \"coloraxis\", \"symbol\": \"x\"}, \"mode\": \"markers\", \"name\": \"3\", \"scene\": \"scene\", \"showlegend\": true, \"type\": \"scatter3d\", \"x\": [4.408244150946476, -0.22283797791249146, -0.3926142291252955, -0.3580567791627177, null], \"y\": [2.365238231399724, 3.160869405294473, 3.4702725687138476, 3.2302141506532345, null], \"z\": [8.316711565675462, 12.647740025918411, 12.283890613113376, 13.268523523012222, null]}, {\"customdata\": [[\"TRC10\"]], \"hoverlabel\": {\"namelength\": 0}, \"hovertemplate\": \"<b>%{hovertext}</b><br><br>Class=%{marker.color}<br>PC 1=%{x}<br>PC 2=%{y}<br>PC 3=%{z}<br>Algorithm=%{customdata[0]}\", \"hovertext\": [\"BitTorrent\"], \"legendgroup\": \"2\", \"marker\": {\"color\": [2], \"coloraxis\": \"coloraxis\", \"symbol\": \"cross\"}, \"mode\": \"markers\", \"name\": \"2\", \"scene\": \"scene\", \"showlegend\": true, \"type\": \"scatter3d\", \"x\": [34.07311313731502], \"y\": [1.6554399623248919], \"z\": [-1.1901903120476476]}],\n",
       "                        {\"coloraxis\": {\"colorbar\": {\"title\": {\"text\": \"Class\"}}, \"colorscale\": [[0.0, \"#0d0887\"], [0.1111111111111111, \"#46039f\"], [0.2222222222222222, \"#7201a8\"], [0.3333333333333333, \"#9c179e\"], [0.4444444444444444, \"#bd3786\"], [0.5555555555555556, \"#d8576b\"], [0.6666666666666666, \"#ed7953\"], [0.7777777777777778, \"#fb9f3a\"], [0.8888888888888888, \"#fdca26\"], [1.0, \"#f0f921\"]]}, \"legend\": {\"title\": {\"text\": \"Class\"}, \"tracegroupgap\": 0}, \"margin\": {\"t\": 60}, \"scene\": {\"domain\": {\"x\": [0.0, 1.0], \"y\": [0.0, 1.0]}, \"xaxis\": {\"title\": {\"text\": \"PC 1\"}}, \"yaxis\": {\"title\": {\"text\": \"PC 2\"}}, \"zaxis\": {\"title\": {\"text\": \"PC 3\"}}}, \"template\": {\"data\": {\"bar\": [{\"error_x\": {\"color\": \"#2a3f5f\"}, \"error_y\": {\"color\": \"#2a3f5f\"}, \"marker\": {\"line\": {\"color\": \"#E5ECF6\", \"width\": 0.5}}, \"type\": \"bar\"}], \"barpolar\": [{\"marker\": {\"line\": {\"color\": \"#E5ECF6\", \"width\": 0.5}}, \"type\": \"barpolar\"}], \"carpet\": [{\"aaxis\": {\"endlinecolor\": \"#2a3f5f\", \"gridcolor\": \"white\", \"linecolor\": \"white\", \"minorgridcolor\": \"white\", \"startlinecolor\": \"#2a3f5f\"}, \"baxis\": {\"endlinecolor\": \"#2a3f5f\", \"gridcolor\": \"white\", \"linecolor\": \"white\", \"minorgridcolor\": \"white\", \"startlinecolor\": \"#2a3f5f\"}, \"type\": \"carpet\"}], \"choropleth\": [{\"colorbar\": {\"outlinewidth\": 0, \"ticks\": \"\"}, \"type\": \"choropleth\"}], \"contour\": [{\"colorbar\": {\"outlinewidth\": 0, \"ticks\": \"\"}, \"colorscale\": [[0.0, \"#0d0887\"], [0.1111111111111111, \"#46039f\"], [0.2222222222222222, \"#7201a8\"], [0.3333333333333333, \"#9c179e\"], [0.4444444444444444, \"#bd3786\"], [0.5555555555555556, \"#d8576b\"], [0.6666666666666666, \"#ed7953\"], [0.7777777777777778, \"#fb9f3a\"], [0.8888888888888888, \"#fdca26\"], [1.0, \"#f0f921\"]], \"type\": \"contour\"}], \"contourcarpet\": [{\"colorbar\": {\"outlinewidth\": 0, \"ticks\": \"\"}, \"type\": \"contourcarpet\"}], \"heatmap\": [{\"colorbar\": {\"outlinewidth\": 0, \"ticks\": \"\"}, \"colorscale\": [[0.0, \"#0d0887\"], [0.1111111111111111, \"#46039f\"], [0.2222222222222222, \"#7201a8\"], [0.3333333333333333, \"#9c179e\"], [0.4444444444444444, \"#bd3786\"], [0.5555555555555556, \"#d8576b\"], [0.6666666666666666, \"#ed7953\"], [0.7777777777777778, \"#fb9f3a\"], [0.8888888888888888, \"#fdca26\"], [1.0, \"#f0f921\"]], \"type\": \"heatmap\"}], \"heatmapgl\": [{\"colorbar\": {\"outlinewidth\": 0, \"ticks\": \"\"}, \"colorscale\": [[0.0, \"#0d0887\"], [0.1111111111111111, \"#46039f\"], [0.2222222222222222, \"#7201a8\"], [0.3333333333333333, \"#9c179e\"], [0.4444444444444444, \"#bd3786\"], [0.5555555555555556, \"#d8576b\"], [0.6666666666666666, \"#ed7953\"], [0.7777777777777778, \"#fb9f3a\"], [0.8888888888888888, \"#fdca26\"], [1.0, \"#f0f921\"]], \"type\": \"heatmapgl\"}], \"histogram\": [{\"marker\": {\"colorbar\": {\"outlinewidth\": 0, \"ticks\": \"\"}}, \"type\": \"histogram\"}], \"histogram2d\": [{\"colorbar\": {\"outlinewidth\": 0, \"ticks\": \"\"}, \"colorscale\": [[0.0, \"#0d0887\"], [0.1111111111111111, \"#46039f\"], [0.2222222222222222, \"#7201a8\"], [0.3333333333333333, \"#9c179e\"], [0.4444444444444444, \"#bd3786\"], [0.5555555555555556, \"#d8576b\"], [0.6666666666666666, \"#ed7953\"], [0.7777777777777778, \"#fb9f3a\"], [0.8888888888888888, \"#fdca26\"], [1.0, \"#f0f921\"]], \"type\": \"histogram2d\"}], \"histogram2dcontour\": [{\"colorbar\": {\"outlinewidth\": 0, \"ticks\": \"\"}, \"colorscale\": [[0.0, \"#0d0887\"], [0.1111111111111111, \"#46039f\"], [0.2222222222222222, \"#7201a8\"], [0.3333333333333333, \"#9c179e\"], [0.4444444444444444, \"#bd3786\"], [0.5555555555555556, \"#d8576b\"], [0.6666666666666666, \"#ed7953\"], [0.7777777777777778, \"#fb9f3a\"], [0.8888888888888888, \"#fdca26\"], [1.0, \"#f0f921\"]], \"type\": \"histogram2dcontour\"}], \"mesh3d\": [{\"colorbar\": {\"outlinewidth\": 0, \"ticks\": \"\"}, \"type\": \"mesh3d\"}], \"parcoords\": [{\"line\": {\"colorbar\": {\"outlinewidth\": 0, \"ticks\": \"\"}}, \"type\": \"parcoords\"}], \"pie\": [{\"automargin\": true, \"type\": \"pie\"}], \"scatter\": [{\"marker\": {\"colorbar\": {\"outlinewidth\": 0, \"ticks\": \"\"}}, \"type\": \"scatter\"}], \"scatter3d\": [{\"line\": {\"colorbar\": {\"outlinewidth\": 0, \"ticks\": \"\"}}, \"marker\": {\"colorbar\": {\"outlinewidth\": 0, \"ticks\": \"\"}}, \"type\": \"scatter3d\"}], \"scattercarpet\": [{\"marker\": {\"colorbar\": {\"outlinewidth\": 0, \"ticks\": \"\"}}, \"type\": \"scattercarpet\"}], \"scattergeo\": [{\"marker\": {\"colorbar\": {\"outlinewidth\": 0, \"ticks\": \"\"}}, \"type\": \"scattergeo\"}], \"scattergl\": [{\"marker\": {\"colorbar\": {\"outlinewidth\": 0, \"ticks\": \"\"}}, \"type\": \"scattergl\"}], \"scattermapbox\": [{\"marker\": {\"colorbar\": {\"outlinewidth\": 0, \"ticks\": \"\"}}, \"type\": \"scattermapbox\"}], \"scatterpolar\": [{\"marker\": {\"colorbar\": {\"outlinewidth\": 0, \"ticks\": \"\"}}, \"type\": \"scatterpolar\"}], \"scatterpolargl\": [{\"marker\": {\"colorbar\": {\"outlinewidth\": 0, \"ticks\": \"\"}}, \"type\": \"scatterpolargl\"}], \"scatterternary\": [{\"marker\": {\"colorbar\": {\"outlinewidth\": 0, \"ticks\": \"\"}}, \"type\": \"scatterternary\"}], \"surface\": [{\"colorbar\": {\"outlinewidth\": 0, \"ticks\": \"\"}, \"colorscale\": [[0.0, \"#0d0887\"], [0.1111111111111111, \"#46039f\"], [0.2222222222222222, \"#7201a8\"], [0.3333333333333333, \"#9c179e\"], [0.4444444444444444, \"#bd3786\"], [0.5555555555555556, \"#d8576b\"], [0.6666666666666666, \"#ed7953\"], [0.7777777777777778, \"#fb9f3a\"], [0.8888888888888888, \"#fdca26\"], [1.0, \"#f0f921\"]], \"type\": \"surface\"}], \"table\": [{\"cells\": {\"fill\": {\"color\": \"#EBF0F8\"}, \"line\": {\"color\": \"white\"}}, \"header\": {\"fill\": {\"color\": \"#C8D4E3\"}, \"line\": {\"color\": \"white\"}}, \"type\": \"table\"}]}, \"layout\": {\"annotationdefaults\": {\"arrowcolor\": \"#2a3f5f\", \"arrowhead\": 0, \"arrowwidth\": 1}, \"coloraxis\": {\"colorbar\": {\"outlinewidth\": 0, \"ticks\": \"\"}}, \"colorscale\": {\"diverging\": [[0, \"#8e0152\"], [0.1, \"#c51b7d\"], [0.2, \"#de77ae\"], [0.3, \"#f1b6da\"], [0.4, \"#fde0ef\"], [0.5, \"#f7f7f7\"], [0.6, \"#e6f5d0\"], [0.7, \"#b8e186\"], [0.8, \"#7fbc41\"], [0.9, \"#4d9221\"], [1, \"#276419\"]], \"sequential\": [[0.0, \"#0d0887\"], [0.1111111111111111, \"#46039f\"], [0.2222222222222222, \"#7201a8\"], [0.3333333333333333, \"#9c179e\"], [0.4444444444444444, \"#bd3786\"], [0.5555555555555556, \"#d8576b\"], [0.6666666666666666, \"#ed7953\"], [0.7777777777777778, \"#fb9f3a\"], [0.8888888888888888, \"#fdca26\"], [1.0, \"#f0f921\"]], \"sequentialminus\": [[0.0, \"#0d0887\"], [0.1111111111111111, \"#46039f\"], [0.2222222222222222, \"#7201a8\"], [0.3333333333333333, \"#9c179e\"], [0.4444444444444444, \"#bd3786\"], [0.5555555555555556, \"#d8576b\"], [0.6666666666666666, \"#ed7953\"], [0.7777777777777778, \"#fb9f3a\"], [0.8888888888888888, \"#fdca26\"], [1.0, \"#f0f921\"]]}, \"colorway\": [\"#636efa\", \"#EF553B\", \"#00cc96\", \"#ab63fa\", \"#FFA15A\", \"#19d3f3\", \"#FF6692\", \"#B6E880\", \"#FF97FF\", \"#FECB52\"], \"font\": {\"color\": \"#2a3f5f\"}, \"geo\": {\"bgcolor\": \"white\", \"lakecolor\": \"white\", \"landcolor\": \"#E5ECF6\", \"showlakes\": true, \"showland\": true, \"subunitcolor\": \"white\"}, \"hoverlabel\": {\"align\": \"left\"}, \"hovermode\": \"closest\", \"mapbox\": {\"style\": \"light\"}, \"paper_bgcolor\": \"white\", \"plot_bgcolor\": \"#E5ECF6\", \"polar\": {\"angularaxis\": {\"gridcolor\": \"white\", \"linecolor\": \"white\", \"ticks\": \"\"}, \"bgcolor\": \"#E5ECF6\", \"radialaxis\": {\"gridcolor\": \"white\", \"linecolor\": \"white\", \"ticks\": \"\"}}, \"scene\": {\"xaxis\": {\"backgroundcolor\": \"#E5ECF6\", \"gridcolor\": \"white\", \"gridwidth\": 2, \"linecolor\": \"white\", \"showbackground\": true, \"ticks\": \"\", \"zerolinecolor\": \"white\"}, \"yaxis\": {\"backgroundcolor\": \"#E5ECF6\", \"gridcolor\": \"white\", \"gridwidth\": 2, \"linecolor\": \"white\", \"showbackground\": true, \"ticks\": \"\", \"zerolinecolor\": \"white\"}, \"zaxis\": {\"backgroundcolor\": \"#E5ECF6\", \"gridcolor\": \"white\", \"gridwidth\": 2, \"linecolor\": \"white\", \"showbackground\": true, \"ticks\": \"\", \"zerolinecolor\": \"white\"}}, \"shapedefaults\": {\"line\": {\"color\": \"#2a3f5f\"}}, \"ternary\": {\"aaxis\": {\"gridcolor\": \"white\", \"linecolor\": \"white\", \"ticks\": \"\"}, \"baxis\": {\"gridcolor\": \"white\", \"linecolor\": \"white\", \"ticks\": \"\"}, \"bgcolor\": \"#E5ECF6\", \"caxis\": {\"gridcolor\": \"white\", \"linecolor\": \"white\", \"ticks\": \"\"}}, \"title\": {\"x\": 0.05}, \"xaxis\": {\"automargin\": true, \"gridcolor\": \"white\", \"linecolor\": \"white\", \"ticks\": \"\", \"title\": {\"standoff\": 15}, \"zerolinecolor\": \"white\", \"zerolinewidth\": 2}, \"yaxis\": {\"automargin\": true, \"gridcolor\": \"white\", \"linecolor\": \"white\", \"ticks\": \"\", \"title\": {\"standoff\": 15}, \"zerolinecolor\": \"white\", \"zerolinewidth\": 2}}}},\n",
       "                        {\"responsive\": true}\n",
       "                    ).then(function(){\n",
       "                            \n",
       "var gd = document.getElementById('f88409aa-7005-411c-9ee9-6590c01e4391');\n",
       "var x = new MutationObserver(function (mutations, observer) {{\n",
       "        var display = window.getComputedStyle(gd).display;\n",
       "        if (!display || display === 'none') {{\n",
       "            console.log([gd, 'removed!']);\n",
       "            Plotly.purge(gd);\n",
       "            observer.disconnect();\n",
       "        }}\n",
       "}});\n",
       "\n",
       "// Listen for the removal of the full notebook cells\n",
       "var notebookContainer = gd.closest('#notebook-container');\n",
       "if (notebookContainer) {{\n",
       "    x.observe(notebookContainer, {childList: true});\n",
       "}}\n",
       "\n",
       "// Listen for the clearing of the current output cell\n",
       "var outputEl = gd.closest('.output');\n",
       "if (outputEl) {{\n",
       "    x.observe(outputEl, {childList: true});\n",
       "}}\n",
       "\n",
       "                        })\n",
       "                };\n",
       "                });\n",
       "            </script>\n",
       "        </div>"
      ]
     },
     "metadata": {},
     "output_type": "display_data"
    }
   ],
   "source": [
    "#plotting a 3d plot\n",
    "fig = px.scatter_3d(\n",
    "    clustered_df,\n",
    "    x=\"PC 1\",\n",
    "    y=\"PC 2\",\n",
    "    z=\"PC 3\",\n",
    "    hover_name=\"CoinName\",\n",
    "    hover_data=[\"Algorithm\"],\n",
    "    color=\"Class\",\n",
    "    symbol=\"Class\"\n",
    "    )\n",
    "fig.show()"
   ]
  },
  {
   "cell_type": "code",
   "execution_count": 281,
   "metadata": {},
   "outputs": [
    {
     "data": {
      "application/vnd.holoviews_exec.v0+json": "",
      "text/html": [
       "<div id='2946' style='display: table; margin: 0 auto;'>\n",
       "\n",
       "\n",
       "\n",
       "\n",
       "\n",
       "  <div class=\"bk-root\" id=\"f3480d7e-2a7e-4079-95d0-2392e9fc62b5\" data-root-id=\"2946\"></div>\n",
       "</div>\n",
       "<script type=\"application/javascript\">(function(root) {\n",
       "  function embed_document(root) {\n",
       "    \n",
       "  var docs_json = {\"ae7b0b19-c5d5-43eb-98ba-520b4af379fb\":{\"roots\":{\"references\":[{\"attributes\":{\"columns\":[{\"id\":\"2918\",\"type\":\"TableColumn\"},{\"id\":\"2923\",\"type\":\"TableColumn\"},{\"id\":\"2928\",\"type\":\"TableColumn\"},{\"id\":\"2933\",\"type\":\"TableColumn\"},{\"id\":\"2938\",\"type\":\"TableColumn\"},{\"id\":\"2943\",\"type\":\"TableColumn\"}],\"height\":300,\"reorderable\":false,\"source\":{\"id\":\"2914\",\"type\":\"ColumnDataSource\"},\"view\":{\"id\":\"2947\",\"type\":\"CDSView\"},\"width\":800},\"id\":\"2946\",\"type\":\"DataTable\"},{\"attributes\":{},\"id\":\"2932\",\"type\":\"NumberEditor\"},{\"attributes\":{},\"id\":\"2942\",\"type\":\"IntEditor\"},{\"attributes\":{\"editor\":{\"id\":\"2922\",\"type\":\"StringEditor\"},\"field\":\"Algorithm\",\"formatter\":{\"id\":\"2921\",\"type\":\"StringFormatter\"},\"title\":\"Algorithm\"},\"id\":\"2923\",\"type\":\"TableColumn\"},{\"attributes\":{},\"id\":\"2941\",\"type\":\"NumberFormatter\"},{\"attributes\":{},\"id\":\"2922\",\"type\":\"StringEditor\"},{\"attributes\":{},\"id\":\"2926\",\"type\":\"StringFormatter\"},{\"attributes\":{\"editor\":{\"id\":\"2937\",\"type\":\"StringEditor\"},\"field\":\"TotalCoinSupply\",\"formatter\":{\"id\":\"2936\",\"type\":\"StringFormatter\"},\"title\":\"TotalCoinSupply\"},\"id\":\"2938\",\"type\":\"TableColumn\"},{\"attributes\":{\"editor\":{\"id\":\"2932\",\"type\":\"NumberEditor\"},\"field\":\"TotalCoinsMined\",\"formatter\":{\"id\":\"2931\",\"type\":\"NumberFormatter\"},\"title\":\"TotalCoinsMined\"},\"id\":\"2933\",\"type\":\"TableColumn\"},{\"attributes\":{\"source\":{\"id\":\"2914\",\"type\":\"ColumnDataSource\"}},\"id\":\"2947\",\"type\":\"CDSView\"},{\"attributes\":{},\"id\":\"2936\",\"type\":\"StringFormatter\"},{\"attributes\":{\"format\":\"0,0.0[00000]\"},\"id\":\"2931\",\"type\":\"NumberFormatter\"},{\"attributes\":{\"editor\":{\"id\":\"2917\",\"type\":\"StringEditor\"},\"field\":\"CoinName\",\"formatter\":{\"id\":\"2916\",\"type\":\"StringFormatter\"},\"title\":\"CoinName\"},\"id\":\"2918\",\"type\":\"TableColumn\"},{\"attributes\":{\"editor\":{\"id\":\"2927\",\"type\":\"StringEditor\"},\"field\":\"ProofType\",\"formatter\":{\"id\":\"2926\",\"type\":\"StringFormatter\"},\"title\":\"ProofType\"},\"id\":\"2928\",\"type\":\"TableColumn\"},{\"attributes\":{},\"id\":\"2917\",\"type\":\"StringEditor\"},{\"attributes\":{},\"id\":\"2927\",\"type\":\"StringEditor\"},{\"attributes\":{},\"id\":\"2937\",\"type\":\"StringEditor\"},{\"attributes\":{\"callback\":null,\"data\":{\"Algorithm\":[\"Scrypt\",\"Scrypt\",\"X13\",\"SHA-256\",\"Ethash\",\"Scrypt\",\"X11\",\"CryptoNight-V7\",\"Ethash\",\"Equihash\",\"SHA-512\",\"Multiple\",\"SHA-256\",\"SHA-256\",\"Scrypt\",\"X15\",\"X11\",\"Scrypt\",\"Scrypt\",\"Scrypt\",\"Multiple\",\"Scrypt\",\"SHA-256\",\"Scrypt\",\"Scrypt\",\"Scrypt\",\"Quark\",\"Groestl\",\"Scrypt\",\"Scrypt\",\"Scrypt\",\"Scrypt\",\"Scrypt\",\"X11\",\"Scrypt\",\"Groestl\",\"Multiple\",\"SHA-256\",\"Scrypt\",\"Scrypt\",\"Scrypt\",\"Scrypt\",\"PoS\",\"Scrypt\",\"Scrypt\",\"NeoScrypt\",\"Scrypt\",\"Scrypt\",\"Scrypt\",\"Scrypt\",\"X11\",\"Scrypt\",\"X11\",\"SHA-256\",\"Scrypt\",\"Scrypt\",\"Scrypt\",\"SHA3\",\"Scrypt\",\"HybridScryptHash256\",\"Scrypt\",\"Scrypt\",\"SHA-256\",\"Scrypt\",\"X13\",\"Scrypt\",\"SHA-256\",\"Scrypt\",\"X13\",\"NeoScrypt\",\"Scrypt\",\"Scrypt\",\"Scrypt\",\"Scrypt\",\"Scrypt\",\"Scrypt\",\"X11\",\"X11\",\"SHA-256\",\"Multiple\",\"SHA-256\",\"PHI1612\",\"X11\",\"SHA-256\",\"SHA-256\",\"SHA-256\",\"X11\",\"Scrypt\",\"Scrypt\",\"Scrypt\",\"Scrypt\",\"Lyra2REv2\",\"Scrypt\",\"X11\",\"Multiple\",\"SHA-256\",\"X13\",\"Scrypt\",\"CryptoNight\",\"CryptoNight\",\"Shabal256\",\"Counterparty\",\"Scrypt\",\"SHA-256\",\"Groestl\",\"Scrypt\",\"Scrypt\",\"Scrypt\",\"X13\",\"Scrypt\",\"Scrypt\",\"Scrypt\",\"Scrypt\",\"X13\",\"Scrypt\",\"Stanford Folding\",\"X11\",\"Multiple\",\"QuBit\",\"Scrypt\",\"Scrypt\",\"Scrypt\",\"M7 POW\",\"Scrypt\",\"SHA-256\",\"Scrypt\",\"X11\",\"SHA3\",\"X11\",\"Lyra2RE\",\"SHA-256\",\"QUAIT\",\"X11\",\"X11\",\"Scrypt\",\"Scrypt\",\"Scrypt\",\"Ethash\",\"X13\",\"Blake2b\",\"SHA-256\",\"X15\",\"X11\",\"SHA-256\",\"BLAKE256\",\"Scrypt\",\"1GB AES Pattern Search\",\"SHA-256\",\"X11\",\"Scrypt\",\"SHA-256\",\"SHA-256\",\"NIST5\",\"Scrypt\",\"Scrypt\",\"X11\",\"Dagger\",\"Scrypt\",\"X11GOST\",\"X11\",\"Scrypt\",\"SHA-256\",\"Scrypt\",\"PoS\",\"Scrypt\",\"X11\",\"X11\",\"SHA-256\",\"SHA-256\",\"NIST5\",\"X11\",\"Scrypt\",\"POS 3.0\",\"Scrypt\",\"Scrypt\",\"Scrypt\",\"X13\",\"X11\",\"X11\",\"Equihash\",\"X11\",\"Scrypt\",\"CryptoNight\",\"SHA-256\",\"SHA-256\",\"X11\",\"Scrypt\",\"Multiple\",\"Scrypt\",\"Scrypt\",\"Scrypt\",\"SHA-256\",\"Scrypt\",\"Scrypt\",\"SHA-256D\",\"PoS\",\"Scrypt\",\"X11\",\"Lyra2Z\",\"PoS\",\"X13\",\"X14\",\"PoS\",\"SHA-256D\",\"Ethash\",\"Equihash\",\"DPoS\",\"X11\",\"Scrypt\",\"X11\",\"X13\",\"X11\",\"PoS\",\"Scrypt\",\"Scrypt\",\"X11\",\"PoS\",\"X11\",\"SHA-256\",\"Scrypt\",\"X11\",\"Scrypt\",\"Scrypt\",\"X11\",\"CryptoNight\",\"Scrypt\",\"Scrypt\",\"Scrypt\",\"Scrypt\",\"Quark\",\"QuBit\",\"Scrypt\",\"CryptoNight\",\"Lyra2RE\",\"Scrypt\",\"SHA-256\",\"X11\",\"Scrypt\",\"X11\",\"Scrypt\",\"CryptoNight-V7\",\"Scrypt\",\"Scrypt\",\"Scrypt\",\"X13\",\"X11\",\"Equihash\",\"Scrypt\",\"Scrypt\",\"Lyra2RE\",\"Scrypt\",\"Dagger-Hashimoto\",\"X11\",\"Blake2S\",\"X11\",\"Scrypt\",\"PoS\",\"X11\",\"NIST5\",\"PoS\",\"X11\",\"Scrypt\",\"Scrypt\",\"Scrypt\",\"SHA-256\",\"X11\",\"Scrypt\",\"Scrypt\",\"SHA-256\",\"PoS\",\"Scrypt\",\"X15\",\"SHA-256\",\"Scrypt\",\"POS 3.0\",\"CryptoNight-V7\",\"536\",\"Argon2d\",\"Blake2b\",\"Cloverhash\",\"CryptoNight\",\"NIST5\",\"X11\",\"NIST5\",\"Skein\",\"Scrypt\",\"X13\",\"Scrypt\",\"X11\",\"X11\",\"Scrypt\",\"CryptoNight\",\"X13\",\"Time Travel\",\"Scrypt\",\"Keccak\",\"SkunkHash v2 Raptor\",\"X11\",\"Skein\",\"SHA-256\",\"X11\",\"Scrypt\",\"VeChainThor Authority\",\"Scrypt\",\"PoS\",\"Scrypt\",\"Scrypt\",\"Scrypt\",\"Scrypt\",\"Scrypt\",\"Scrypt\",\"Scrypt\",\"CryptoNight\",\"SHA-512\",\"Ouroboros\",\"X11\",\"Equihash\",\"NeoScrypt\",\"X11\",\"Scrypt\",\"NeoScrypt\",\"Lyra2REv2\",\"Equihash\",\"Scrypt\",\"SHA-256\",\"NIST5\",\"PHI1612\",\"Dagger\",\"Scrypt\",\"Quark\",\"Scrypt\",\"POS 2.0\",\"Scrypt\",\"SHA-256\",\"X11\",\"NeoScrypt\",\"Ethash\",\"NeoScrypt\",\"X11\",\"DPoS\",\"NIST5\",\"X13\",\"Multiple\",\"Scrypt\",\"CryptoNight\",\"CryptoNight\",\"Ethash\",\"NIST5\",\"Quark\",\"X11\",\"CryptoNight-V7\",\"Scrypt\",\"Scrypt\",\"Scrypt\",\"X11\",\"BLAKE256\",\"X11\",\"NeoScrypt\",\"Quark\",\"NeoScrypt\",\"Scrypt\",\"Scrypt\",\"Scrypt\",\"X11\",\"X11\",\"SHA-256\",\"C11\",\"POS 3.0\",\"Ethash\",\"Scrypt\",\"CryptoNight\",\"SkunkHash\",\"Scrypt\",\"CryptoNight\",\"Scrypt\",\"Dagger\",\"Lyra2REv2\",\"X13\",\"Proof-of-BibleHash\",\"SHA-256 + Hive\",\"Scrypt\",\"Scrypt\",\"X11\",\"C11\",\"Proof-of-Authority\",\"X11\",\"XEVAN\",\"Scrypt\",\"VBFT\",\"Ethash\",\"CryptoNight\",\"Scrypt\",\"IMesh\",\"NIST5\",\"Scrypt\",\"Scrypt\",\"Equihash\",\"Scrypt\",\"Lyra2Z\",\"Green Protocol\",\"PoS\",\"Scrypt\",\"Semux BFT consensus\",\"X11\",\"Quark\",\"PoS\",\"CryptoNight\",\"X16R\",\"Scrypt\",\"NIST5\",\"Lyra2RE\",\"XEVAN\",\"Tribus\",\"Scrypt\",\"Lyra2Z\",\"CryptoNight\",\"CryptoNight Heavy\",\"CryptoNight\",\"Scrypt\",\"Scrypt\",\"Jump Consistent Hash\",\"SHA-256D\",\"CryptoNight\",\"Scrypt\",\"X15\",\"Scrypt\",\"Quark\",\"SHA-256\",\"DPoS\",\"X16R\",\"HMQ1725\",\"X11\",\"X16R\",\"Quark\",\"Quark\",\"Scrypt\",\"Lyra2REv2\",\"Quark\",\"Scrypt\",\"Scrypt\",\"CryptoNight-V7\",\"Cryptonight-GPU\",\"XEVAN\",\"CryptoNight Heavy\",\"X11\",\"X11\",\"Scrypt\",\"PoS\",\"SHA-256\",\"Keccak\",\"X11\",\"X11\",\"Scrypt\",\"SHA-512\",\"X16R\",\"ECC 256K1\",\"Equihash\",\"XEVAN\",\"Lyra2Z\",\"SHA-256\",\"XEVAN\",\"X11\",\"CryptoNight\",\"Quark\",\"Blake\",\"Blake\",\"Equihash\",\"Exosis\",\"Scrypt\",\"Scrypt\",\"Equihash\",\"Quark\",\"Equihash\",\"Quark\",\"Scrypt\",\"QuBit\",\"X11\",\"Scrypt\",\"XEVAN\",\"SHA-256D\",\"X11\",\"SHA-256\",\"X13\",\"SHA-256\",\"X11\",\"DPoS\",\"Scrypt\",\"Scrypt\",\"X11\",\"NeoScrypt\",\"Scrypt\",\"Blake\",\"Scrypt\",\"SHA-256\",\"Scrypt\",\"X11\",\"Scrypt\",\"Scrypt\",\"SHA-256\",\"X11\",\"SHA-256\",\"Scrypt\",\"Scrypt\",\"Scrypt\",\"Groestl\",\"X11\",\"Scrypt\",\"PoS\",\"Scrypt\",\"Scrypt\",\"X11\",\"SHA-256\",\"DPoS\",\"Scrypt\",\"Scrypt\",\"NeoScrypt\",\"SHA3-256\",\"Multiple\",\"X13\",\"Equihash+Scrypt\",\"DPoS\",\"Ethash\",\"DPoS\",\"SHA-256\",\"Leased POS\",\"PoS\",\"TRC10\",\"PoS\",\"SHA-256\",\"Scrypt\",\"CryptoNight\",\"Equihash\",\"Scrypt\"],\"Class\":{\"__ndarray__\":\"AAAAAAAAAAAEAAAAAQAAAAEAAAABAAAAAAAAAAEAAAABAAAAAQAAAAAAAAABAAAAAAAAAAAAAAABAAAAAAAAAAEAAAABAAAAAAAAAAAAAAABAAAABAAAAAEAAAABAAAAAQAAAAAAAAABAAAAAQAAAAEAAAAAAAAAAQAAAAAAAAABAAAAAQAAAAAAAAAAAAAAAQAAAAEAAAABAAAAAQAAAAEAAAABAAAAAAAAAAAAAAABAAAAAQAAAAEAAAABAAAAAQAAAAAAAAAAAAAAAQAAAAAAAAABAAAAAQAAAAEAAAABAAAAAAAAAAEAAAABAAAAAAAAAAEAAAAAAAAAAAAAAAAAAAABAAAAAQAAAAEAAAAAAAAAAAAAAAAAAAAAAAAAAAAAAAEAAAABAAAAAQAAAAAAAAAAAAAAAQAAAAAAAAABAAAAAAAAAAAAAAABAAAAAQAAAAEAAAABAAAAAAAAAAAAAAABAAAAAAAAAAEAAAABAAAAAAAAAAAAAAABAAAAAAAAAAAAAAAEAAAAAQAAAAAAAAAAAAAAAQAAAAAAAAAAAAAAAQAAAAAAAAABAAAAAAAAAAEAAAAAAAAAAQAAAAAAAAAAAAAAAQAAAAEAAAAAAAAAAQAAAAEAAAABAAAAAAAAAAEAAAABAAAAAQAAAAEAAAABAAAAAAAAAAAAAAABAAAAAQAAAAEAAAAAAAAAAQAAAAAAAAABAAAAAQAAAAAAAAABAAAAAAAAAAEAAAAAAAAAAAAAAAEAAAABAAAAAAAAAAEAAAABAAAAAAAAAAAAAAABAAAAAAAAAAEAAAAAAAAAAAAAAAAAAAABAAAAAQAAAAEAAAABAAAAAAAAAAAAAAAAAAAAAAAAAAAAAAABAAAAAQAAAAAAAAAAAAAAAAAAAAAAAAAAAAAAAQAAAAAAAAAAAAAAAAAAAAAAAAAAAAAAAQAAAAAAAAABAAAAAAAAAAAAAAABAAAAAAAAAAEAAAAAAAAAAAAAAAEAAAAAAAAAAQAAAAAAAAABAAAAAAAAAAEAAAAAAAAAAAAAAAAAAAAAAAAAAQAAAAAAAAAAAAAAAAAAAAAAAAAAAAAAAQAAAAEAAAAEAAAAAAAAAAEAAAABAAAAAAAAAAAAAAAAAAAAAAAAAAAAAAABAAAAAAAAAAAAAAAAAAAAAAAAAAAAAAAAAAAAAAAAAAAAAAABAAAAAAAAAAAAAAAAAAAAAAAAAAAAAAAAAAAAAQAAAAEAAAABAAAAAAAAAAAAAAAAAAAAAAAAAAEAAAAAAAAAAQAAAAAAAAAAAAAAAQAAAAAAAAABAAAAAQAAAAAAAAABAAAAAQAAAAAAAAABAAAAAAAAAAAAAAAAAAAAAQAAAAAAAAAAAAAAAQAAAAAAAAAAAAAAAAAAAAAAAAAAAAAAAAAAAAAAAAABAAAAAAAAAAEAAAAAAAAAAAAAAAAAAAAAAAAAAQAAAAAAAAABAAAAAAAAAAEAAAABAAAAAQAAAAEAAAAAAAAAAQAAAAAAAAAAAAAAAQAAAAAAAAABAAAAAQAAAAEAAAAAAAAAAQAAAAAAAAABAAAABAAAAAEAAAAAAAAAAQAAAAAAAAABAAAAAAAAAAAAAAADAAAAAQAAAAAAAAABAAAAAQAAAAEAAAABAAAAAQAAAAAAAAAAAAAAAQAAAAAAAAAAAAAAAAAAAAEAAAAAAAAAAQAAAAAAAAABAAAAAAAAAAEAAAAAAAAAAAAAAAAAAAAAAAAAAQAAAAAAAAAAAAAAAQAAAAAAAAAAAAAAAAAAAAEAAAABAAAAAQAAAAEAAAAAAAAABAAAAAAAAAAAAAAAAQAAAAAAAAABAAAAAQAAAAEAAAAAAAAAAAAAAAEAAAABAAAAAAAAAAAAAAABAAAAAAAAAAEAAAABAAAAAQAAAAAAAAABAAAAAQAAAAAAAAAAAAAAAAAAAAEAAAABAAAAAQAAAAAAAAAAAAAAAAAAAAQAAAABAAAAAAAAAAEAAAABAAAAAQAAAAEAAAAAAAAAAwAAAAMAAAABAAAAAQAAAAEAAAAAAAAAAwAAAAAAAAAAAAAAAAAAAAAAAAABAAAAAQAAAAEAAAABAAAAAAAAAAAAAAAAAAAAAQAAAAAAAAABAAAAAAAAAAAAAAAAAAAABAAAAAEAAAAAAAAAAAAAAAEAAAAAAAAAAAAAAAEAAAABAAAAAAAAAAEAAAAAAAAAAQAAAAEAAAABAAAAAQAAAAAAAAAAAAAAAQAAAAAAAAABAAAAAAAAAAAAAAAEAAAAAAAAAAAAAAAAAAAAAQAAAAEAAAABAAAAAAAAAAAAAAAAAAAAAAAAAAAAAAAAAAAAAQAAAAAAAAABAAAAAQAAAAEAAAAEAAAAAAAAAAAAAAAAAAAAAAAAAAEAAAAAAAAAAAAAAAEAAAAAAAAAAAAAAAEAAAAAAAAAAQAAAAAAAAABAAAAAQAAAAAAAAAAAAAAAQAAAAAAAAABAAAAAQAAAAAAAAABAAAAAQAAAAAAAAABAAAAAAAAAAEAAAAAAAAAAAAAAAEAAAAAAAAAAAAAAAAAAAAAAAAAAAAAAAEAAAABAAAAAQAAAAAAAAAEAAAAAAAAAAEAAAAAAAAAAQAAAAAAAAABAAAAAAAAAAAAAAAAAAAAAAAAAAEAAAAAAAAAAAAAAAAAAAABAAAAAAAAAAEAAAAAAAAAAQAAAAAAAAAAAAAAAAAAAAEAAAABAAAAAAAAAAAAAAAEAAAAAAAAAAAAAAAAAAAAAwAAAAEAAAAAAAAAAQAAAAQAAAABAAAABAAAAAAAAAAAAAAAAAAAAAIAAAAAAAAABAAAAAAAAAABAAAAAQAAAAAAAAA=\",\"dtype\":\"int32\",\"shape\":[533]},\"CoinName\":[\"42 Coin\",\"404Coin\",\"EliteCoin\",\"Bitcoin\",\"Ethereum\",\"Litecoin\",\"Dash\",\"Monero\",\"Ethereum Classic\",\"ZCash\",\"Bitshares\",\"DigiByte\",\"BitcoinDark\",\"PayCoin\",\"ProsperCoin\",\"KoboCoin\",\"Spreadcoin\",\"Argentum\",\"Aurora Coin\",\"BlueCoin\",\"MyriadCoin\",\"MoonCoin\",\"ZetaCoin\",\"SexCoin\",\"Quatloo\",\"EnergyCoin\",\"QuarkCoin\",\"Riecoin\",\"Digitalcoin \",\"BitBar\",\"Catcoin\",\"CryptoBullion\",\"CannaCoin\",\"CryptCoin\",\"CasinoCoin\",\"Diamond\",\"Verge\",\"DevCoin\",\"EarthCoin\",\"E-Gulden\",\"Einsteinium\",\"Emerald\",\"Exclusive Coin\",\"FlutterCoin\",\"Franko\",\"FeatherCoin\",\"GrandCoin\",\"GlobalCoin\",\"GoldCoin\",\"HoboNickels\",\"HyperStake\",\"Infinite Coin\",\"IOCoin\",\"IXcoin\",\"KrugerCoin\",\"LuckyCoin\",\"Litebar \",\"MaxCoin\",\"MegaCoin\",\"MediterraneanCoin\",\"MintCoin\",\"MinCoin\",\"MazaCoin\",\"Nautilus Coin\",\"NavCoin\",\"NobleCoin\",\"Namecoin\",\"NyanCoin\",\"OpalCoin\",\"Orbitcoin\",\"PotCoin\",\"PhoenixCoin\",\"Reddcoin\",\"RonPaulCoin\",\"StableCoin\",\"SmartCoin\",\"SuperCoin\",\"SyncCoin\",\"SysCoin\",\"TeslaCoin\",\"TigerCoin\",\"TittieCoin\",\"TorCoin\",\"TerraCoin\",\"UnbreakableCoin\",\"Unobtanium\",\"UroCoin\",\"UnitaryStatus Dollar\",\"UltraCoin\",\"ViaCoin\",\"VeriCoin\",\"Vertcoin\",\"WorldCoin\",\"X11 Coin\",\"Crypti\",\"JouleCoin\",\"StealthCoin\",\"ZCC Coin\",\"ByteCoin\",\"DigitalNote \",\"BurstCoin\",\"StorjCoin\",\"MonaCoin\",\"Neutron\",\"FairCoin\",\"Gulden\",\"RubyCoin\",\"PesetaCoin\",\"Kore\",\"Wild Beast Coin\",\"Dnotes\",\"Flo\",\"8BIT Coin\",\"Sativa Coin\",\"ArtByte\",\"Folding Coin\",\"Ucoin\",\"Unitus\",\"CypherPunkCoin\",\"OmniCron\",\"Vtorrent\",\"GreenCoin\",\"Cryptonite\",\"MasterCoin\",\"SoonCoin\",\"1Credit\",\"IslaCoin\",\"Nexus\",\"MarsCoin \",\"Crypto\",\"Anarchists Prime\",\"Droidz\",\"BowsCoin\",\"Squall Coin\",\"Song Coin\",\"BitZeny\",\"Diggits\",\"Expanse\",\"Paycon\",\"Siacoin\",\"Emercoin\",\"EverGreenCoin\",\"MindCoin\",\"I0coin\",\"Decred\",\"Revolution VR\",\"HOdlcoin\",\"EDRCoin\",\"Hitcoin\",\"Gamecredits\",\"DubaiCoin\",\"CarpeDiemCoin\",\"PWR Coin\",\"BillaryCoin\",\"GPU Coin\",\"Adzcoin\",\"SoilCoin\",\"YoCoin\",\"SibCoin\",\"EuropeCoin\",\"ZeitCoin\",\"SwingCoin\",\"SafeExchangeCoin\",\"Nebuchadnezzar\",\"Francs\",\"BolivarCoin\",\"Ratecoin\",\"Revenu\",\"Clockcoin\",\"VIP Tokens\",\"BitSend\",\"Omni\",\"Let it Ride\",\"PutinCoin\",\"iBankCoin\",\"Frankywillcoin\",\"MudraCoin\",\"PizzaCoin\",\"Lutetium Coin\",\"Komodo\",\"GoldBlocks\",\"CarterCoin\",\"Karbo\",\"BitTokens\",\"ZayedCoin\",\"MustangCoin\",\"ZoneCoin\",\"Circuits of Value\",\"RootCoin\",\"DopeCoin\",\"BitCurrency\",\"DollarCoin\",\"Swiscoin\",\"Shilling\",\"BuzzCoin\",\"Opair\",\"PesoBit\",\"Halloween Coin\",\"ZCoin\",\"CoffeeCoin\",\"RoyalCoin\",\"GanjaCoin V2\",\"TeamUP\",\"LanaCoin\",\"Elementrem\",\"ZClassic\",\"ARK\",\"InsaneCoin\",\"KiloCoin\",\"ArtexCoin\",\"EmberCoin\",\"XenixCoin\",\"FreeCoin\",\"PLNCoin\",\"AquariusCoin\",\"Kurrent\",\"Creatio\",\"Eternity\",\"Eurocoin\",\"BitcoinFast\",\"Stakenet\",\"BitConnect Coin\",\"MoneyCoin\",\"Enigma\",\"Cannabis Industry Coin\",\"Russiacoin\",\"PandaCoin\",\"GameUnits\",\"GAKHcoin\",\"Allsafe\",\"LiteCreed\",\"OsmiumCoin\",\"Bikercoins\",\"HexxCoin\",\"Klingon Empire Darsek\",\"Internet of People\",\"KushCoin\",\"Printerium\",\"PacCoin\",\"Impeach\",\"Citadel\",\"Zilbercoin\",\"FirstCoin\",\"BeaverCoin\",\"FindCoin\",\"VaultCoin\",\"Zero\",\"OpenChat\",\"Canada eCoin\",\"Zoin\",\"RenosCoin\",\"DubaiCoin\",\"VirtacoinPlus\",\"TajCoin\",\"Impact\",\"EB3coin\",\"Atmos\",\"HappyCoin\",\"Coinonat\",\"MacronCoin\",\"Condensate\",\"Independent Money System\",\"ArgusCoin\",\"LomoCoin\",\"ProCurrency\",\"GoldReserve\",\"BenjiRolls\",\"GrowthCoin\",\"ILCoin\",\"Phreak\",\"Degas Coin\",\"HTML5 Coin\",\"Ultimate Secure Cash\",\"EquiTrader\",\"QTUM\",\"Quantum Resistant Ledger\",\"Espers\",\"Dynamic\",\"Nano\",\"ChanCoin\",\"Dinastycoin\",\"Denarius\",\"DigitalPrice\",\"Virta Unique Coin\",\"Bitcoin Planet\",\"Unify\",\"BritCoin\",\"SocialCoin\",\"ArcticCoin\",\"DAS\",\"Linda\",\"LeviarCoin\",\"DeepOnion\",\"Bitcore\",\"gCn Coin\",\"SmartCash\",\"Signatum\",\"Onix\",\"Cream\",\"Bitcoin Cash\",\"Monoeci\",\"Draftcoin\",\"Vechain\",\"Sojourn Coin\",\"Stakecoin\",\"NewYorkCoin\",\"FrazCoin\",\"Kronecoin\",\"AdCoin\",\"Linx\",\"CoinonatX\",\"Ethereum Dark\",\"Sumokoin\",\"Obsidian\",\"Cardano\",\"Regalcoin\",\"BitcoinZ\",\"TrezarCoin\",\"Elements\",\"TerraNovaCoin\",\"VIVO Coin\",\"Rupee\",\"Bitcoin Gold\",\"WomenCoin\",\"Theresa May Coin\",\"NamoCoin\",\"LUXCoin\",\"Pirl\",\"Xios\",\"Bitcloud 2.0\",\"eBoost\",\"KekCoin\",\"BlackholeCoin\",\"Infinity Economics\",\"Pura\",\"Innova\",\"Ellaism\",\"GoByte\",\"Magnet\",\"Lamden Tau\",\"Electra\",\"Bitcoin Diamond\",\"SHIELD\",\"Cash & Back Coin\",\"UltraNote\",\"BitCoal\",\"DaxxCoin\",\"Bulwark\",\"Kalkulus\",\"AC3\",\"Lethean\",\"GermanCoin\",\"LiteCoin Ultra\",\"PopularCoin\",\"PhantomX\",\"Photon\",\"Sucre\",\"SparksPay\",\"Digiwage\",\"GunCoin\",\"IrishCoin\",\"Trollcoin\",\"Litecoin Plus\",\"Monkey Project\",\"Pioneer Coin\",\"UnitedBitcoin\",\"Interzone\",\"TokenPay\",\"1717 Masonic Commemorative Token\",\"My Big Coin\",\"TurtleCoin\",\"MUNcoin\",\"Unified Society USDEX\",\"Niobio Cash\",\"ShareChain\",\"Travelflex\",\"KREDS\",\"Tokyo Coin\",\"BiblePay\",\"LitecoinCash\",\"BitFlip\",\"LottoCoin\",\"Crypto Improvement Fund\",\"Stipend\",\"Poa Network\",\"Pushi\",\"Ellerium\",\"Velox\",\"Ontology\",\"Callisto Network\",\"BitTube\",\"Poseidon\",\"Aidos Kuneen\",\"Bitspace\",\"Briacoin\",\"Ignition\",\"Bitrolium\",\"MedicCoin\",\"Alpenschillling\",\"Bitcoin Green\",\"Deviant Coin\",\"Abjcoin\",\"Semux\",\"FuturoCoin\",\"Carebit\",\"Zealium\",\"Monero Classic\",\"Proton\",\"iDealCash\",\"Jumpcoin\",\"Infinex\",\"Bitcoin Incognito\",\"KEYCO\",\"HollyWoodCoin\",\"GINcoin\",\"PlatinCoin\",\"Loki\",\"Newton Coin\",\"Swisscoin\",\"Xt3ch\",\"MassGrid\",\"TheVig\",\"PluraCoin\",\"EmaratCoin\",\"Dekado\",\"Lynx\",\"Poseidon Quark\",\"BitcoinWSpectrum\",\"Muse\",\"Motion\",\"PlusOneCoin\",\"Axe\",\"Trivechain\",\"Dystem\",\"Giant\",\"Peony Coin\",\"Absolute Coin\",\"Vitae\",\"HexCoin\",\"TPCash\",\"Webchain\",\"Ryo\",\"Urals Coin\",\"Qwertycoin\",\"ARENON\",\"EUNO\",\"MMOCoin\",\"Ketan\",\"Project Pai\",\"XDNA\",\"PAXEX\",\"Azart\",\"ThunderStake\",\"Kcash\",\"Xchange\",\"Acute Angle Cloud\",\"CrypticCoin\",\"Bettex coin\",\"Actinium\",\"Bitcoin SV\",\"BitMoney\",\"Junson Ming Chan Coin\",\"FREDEnergy\",\"HerbCoin\",\"Universal Molecule\",\"Lithium\",\"PirateCash\",\"Exosis\",\"Block-Logic\",\"Oduwa\",\"Beam\",\"Galilel\",\"Bithereum\",\"Crypto Sports\",\"Credit\",\"SLICE\",\"Dash Platinum\",\"Nasdacoin\",\"Beetle Coin\",\"Titan Coin\",\"Award\",\"BLAST\",\"Bitcoin Rhodium\",\"GlobalToken\",\"Insane Coin\",\"ALAX\",\"LiteDoge\",\"SolarCoin\",\"TruckCoin\",\"UFO Coin\",\"OrangeCoin\",\"BlakeCoin\",\"BitstarCoin\",\"NeosCoin\",\"HyperCoin\",\"PinkCoin\",\"Crypto Escudo\",\"AudioCoin\",\"IncaKoin\",\"Piggy Coin\",\"Crown Coin\",\"Genstake\",\"SmileyCoin\",\"XiaoMiCoin\",\"Groestlcoin\",\"CapriCoin\",\" ClubCoin\",\"Radium\",\"Bata\",\"Pakcoin\",\"Creditbit \",\"OKCash\",\"Lisk\",\"HiCoin\",\"WhiteCoin\",\"FriendshipCoin\",\"nan\",\"JoinCoin\",\"Triangles Coin\",\"Vollar\",\"EOS\",\"Reality Clash\",\"Oxycoin\",\"TigerCash\",\"Waves\",\"Particl\",\"BitTorrent\",\"Nxt\",\"ZEPHYR\",\"Gapcoin\",\"Beldex\",\"Horizen\",\"BitcoinPlus\"],\"ProofType\":[\"PoW/PoS\",\"PoW/PoS\",\"PoW/PoS\",\"PoW\",\"PoW\",\"PoW\",\"PoW/PoS\",\"PoW\",\"PoW\",\"PoW\",\"PoS\",\"PoW\",\"PoW/PoS\",\"PoS\",\"PoW\",\"PoW/PoS\",\"PoW\",\"PoW\",\"PoW/PoS\",\"PoW/PoS\",\"PoW\",\"PoW\",\"PoW\",\"PoW\",\"PoW\",\"PoW/PoS\",\"PoW\",\"PoW\",\"PoW\",\"PoW/PoS\",\"PoW\",\"PoW/PoS\",\"PoW\",\"PoW\",\"PoC\",\"PoW/PoS\",\"PoW\",\"PoW\",\"PoW\",\"PoW\",\"PoW\",\"PoW\",\"PoS\",\"PoS/PoW/PoT\",\"PoW\",\"PoW\",\"PoW\",\"PoW\",\"PoW\",\"PoW/PoS\",\"PoS\",\"PoW\",\"PoW/PoS\",\"PoW\",\"PoW\",\"PoW\",\"PoW\",\"PoW/PoS\",\"PoW\",\"PoW\",\"PoS\",\"PoW\",\"PoW/PoS\",\"PoS\",\"PoW/PoS\",\"PoW\",\"PoW\",\"PoW\",\"PoW/PoS\",\"PoW/PoS\",\"PoW/PoS\",\"PoW/PoS\",\"PoW/PoS\",\"PoW\",\"PoW\",\"PoW\",\"PoS\",\"PoW/PoS\",\"PoW\",\"PoS\",\"PoW\",\"PoS\",\"PoW/PoS\",\"PoW\",\"PoW\",\"PoW\",\"PoW\",\"PoW/PoS\",\"PoW/PoS\",\"PoW\",\"PoST\",\"PoW\",\"PoW\",\"PoW/PoS\",\"PoS\",\"PoW\",\"PoW/PoS\",\"PoW/PoS\",\"PoW\",\"PoW\",\"PoC\",\"PoS\",\"PoW\",\"PoW/PoS\",\"PoW/PoS\",\"PoW\",\"PoS\",\"PoW\",\"PoW/PoS\",\"PoW\",\"PoS\",\"PoW\",\"PoW/PoS\",\"PoW/PoS\",\"PoW\",\"PoW\",\"PoS\",\"PoW\",\"PoW\",\"PoW\",\"PoW/PoS\",\"PoW\",\"PoW\",\"PoW\",\"PoW\",\"PoW\",\"PoW/PoS\",\"PoW/nPoS\",\"PoW\",\"PoW\",\"PoW\",\"PoW/PoS\",\"PoW\",\"PoS/PoW\",\"PoW\",\"PoW\",\"PoS\",\"PoW\",\"PoW/PoS\",\"PoW\",\"PoW/PoS\",\"PoW/PoS\",\"PoW\",\"PoW\",\"PoW/PoS\",\"PoW\",\"PoW\",\"PoW/PoS\",\"PoW/PoS\",\"PoW\",\"PoW/PoS\",\"PoW\",\"PoW/PoS\",\"PoW/PoS\",\"PoS\",\"PoW\",\"PoW\",\"PoW\",\"PoW\",\"PoW/PoS\",\"PoS\",\"PoW/PoS\",\"PoC\",\"PoS\",\"PoW\",\"PoW\",\"PoW/PoS\",\"PoW/PoS\",\"PoW/PoS\",\"PoW/PoS\",\"PoW/PoS\",\"PoW\",\"PoS\",\"PoW/PoS\",\"PoW/PoS\",\"PoW/PoS\",\"PoS\",\"PoW\",\"PoS\",\"dPoW/PoW\",\"PoW/PoS\",\"PoW/PoS\",\"PoW\",\"PoW/PoS\",\"PoW\",\"PoW/PoS\",\"PoW/PoS\",\"PoW\",\"PoW/PoS\",\"PoW\",\"PoS\",\"PoW\",\"PoW/PoW\",\"PoW\",\"PoW/PoS\",\"PoS\",\"PoW/PoS\",\"PoW/PoS\",\"PoW\",\"PoS\",\"PoS\",\"PoW/PoS\",\"PoS\",\"PoW/PoS\",\"PoW\",\"PoW\",\"DPoS\",\"PoW/PoS\",\"PoW\",\"PoW\",\"PoW/PoS\",\"PoW/PoS\",\"PoS\",\"PoW/PoS\",\"PoW/PoS\",\"PoW\",\"PoS\",\"PoW/PoS\",\"PoW/PoS\",\"PoW/PoS\",\"TPoS\",\"PoW/PoS\",\"PoW/PoS\",\"PoW/PoS\",\"PoW\",\"PoW/PoS\",\"PoS\",\"PoW/PoS\",\"PoW/PoS\",\"PoS\",\"PoW/PoS\",\"PoW\",\"PoW\",\"PoW\",\"PoW/PoS\",\"PoW/PoS\",\"PoW/PoS\",\"PoW/PoS\",\"PoW\",\"PoW/PoS\",\"PoW\",\"PoS\",\"PoW/PoS \",\"PoW\",\"PoS\",\"PoW\",\"PoW\",\"PoW/PoS\",\"PoW\",\"PoW\",\"PoS\",\"PoW\",\"PoW/PoS\",\"PoW/PoS\",\"PoW/PoS\",\"PoW\",\"PoS\",\"PoW/PoS\",\"PoW\",\"PoS\",\"PoW/PoS\",\"PoW/PoS\",\"PoW/PoS\",\"PoW/PoS\",\"PoS\",\"PoW/PoS\",\"PoW\",\"PoS\",\"PoW\",\"PoS\",\"PoW/PoS\",\"PoW/PoS\",\"PoS\",\"PoW\",\"PoS\",\"PoW\",\"PoW/PoS\",\"PoW\",\"PoW\",\"PoW\",\"PoW\",\"PoW/PoS\",\"PoW\",\"PoW/PoS\",\"PoW/PoS\",\"PoW\",\"PoW/PoS\",\"PoW\",\"PoW\",\"PoW\",\"PoW/PoS\",\"PoW\",\"PoW/PoS\",\"PoW\",\"PoW\",\"PoW\",\"PoS\",\"PoW\",\"PoW/PoS\",\"PoW\",\"PoW/PoS\",\"PoS\",\"Proof of Authority\",\"PoW\",\"PoS\",\"PoW\",\"PoW\",\"PoW\",\"PoW\",\"PoW\",\"PoW/PoS\",\"PoW/PoS\",\"PoW\",\"PoS\",\"PoS\",\"PoW/PoS\",\"PoW\",\"PoW/PoS\",\"PoW\",\"PoW/PoS\",\"PoW\",\"PoS\",\"PoW\",\"PoW/PoS\",\"PoW/PoS\",\"PoW/PoS\",\"PoW/PoS\",\"PoW\",\"PoW/PoS\",\"PoW/PoS\",\"PoW\",\"PoS\",\"PoW/PoS\",\"PoS\",\"PoW\",\"PoW\",\"PoW\",\"PoW\",\"PoW/PoS\",\"DPoS\",\"PoW/PoS\",\"PoW/PoS\",\"PoW\",\"PoW/PoS\",\"PoW\",\"PoW\",\"PoW\",\"PoS\",\"PoS\",\"PoW\",\"PoW\",\"PoW/PoS\",\"PoW/PoS\",\"PoW\",\"PoW/PoS\",\"PoW\",\"PoW\",\"PoW\",\"PoS\",\"PoW\",\"PoW\",\"PoW/PoS\",\"PoW/PoS\",\"PoS\",\"PoW\",\"PoW\",\"PoW\",\"PoS\",\"PoS\",\"PoW and PoS\",\"PoW\",\"PoW\",\"PoW/PoS\",\"PoW\",\"PoW\",\"PoW\",\"PoW\",\"PoS\",\"POBh\",\"PoW + Hive\",\"PoW\",\"PoW\",\"PoW\",\"PoW/PoS\",\"PoA\",\"PoW/PoS\",\"PoW/PoS\",\"PoS\",\"PoS\",\"PoW\",\"PoW\",\"PoW\",\"PoW\",\"PoW/PoS\",\"PoW/PoS\",\"PoW/PoS\",\"PoW\",\"PoS\",\"PoW\",\"PoS\",\"PoS\",\"PoW/PoS\",\"DPoS\",\"PoW\",\"PoW/PoS\",\"PoS\",\"PoW\",\"PoS\",\"PoW/PoS\",\"PoW\",\"PoW\",\"PoS/PoW\",\"PoW\",\"PoS\",\"PoW\",\"PoW\",\"PoW\",\"PoW\",\"PoW/PoS\",\"PoS\",\"PoW\",\"PoW/PoS\",\"PoW\",\"PoW/PoS\",\"PoS\",\"HPoW\",\"PoS\",\"PoS\",\"PoS\",\"PoW\",\"PoW\",\"PoW\",\"PoW/PoS\",\"PoS\",\"PoW/PoS\",\"PoS\",\"PoW/PoS\",\"PoS\",\"PoW\",\"PoW/PoS\",\"PoW\",\"PoW\",\"PoW\",\"PoW\",\"PoS\",\"PoW/PoS\",\"PoS\",\"PoS\",\"PoW\",\"PoW/PoS\",\"PoS\",\"PoW\",\"PoW/PoS\",\"Zero-Knowledge Proof\",\"PoW\",\"DPOS\",\"PoW\",\"PoS\",\"PoW\",\"PoW\",\"Pos\",\"PoS\",\"PoW\",\"PoW/PoS\",\"PoW\",\"PoW\",\"PoS\",\"PoW\",\"PoW\",\"PoW/PoS\",\"PoW\",\"PoW/PoS\",\"PoW\",\"PoS\",\"PoW/PoS\",\"PoW\",\"PoS\",\"PoW/PoS\",\"PoW/PoS\",\"PoW/PoS\",\"PoW/PoS\",\"PoW\",\"PoW\",\"PoW\",\"PoW/PoS\",\"DPoS\",\"PoW/PoS\",\"PoW\",\"PoW/PoS\",\"PoW\",\"PoW/PoS\",\"PoW\",\"PoW/PoS\",\"PoS\",\"PoW/PoS\",\"PoW/PoS\",\"PoW\",\"PoW/PoS\",\"PoW/PoS\",\"PoW/PoS\",\"PoW\",\"PoW/PoS\",\"PoW\",\"PoW/PoS\",\"PoW\",\"PoW/PoS\",\"PoW/PoS\",\"PoS\",\"PoW\",\"PoW\",\"Proof of Trust\",\"PoW/PoS\",\"DPoS\",\"PoS\",\"PoW/PoS\",\"PoW/PoS\",\"DPoC\",\"PoW\",\"PoW/PoS\",\"PoW\",\"DPoS\",\"PoW\",\"DPoS\",\"PoS\",\"LPoS\",\"PoS\",\"DPoS\",\"PoS/LPoS\",\"DPoS\",\"PoW/PoS\",\"PoW\",\"PoW\",\"PoS\"],\"TotalCoinSupply\":[\"42\",\"532000000\",\"314159265359\",\"21000000\",\"0\",\"84000000\",\"22000000\",\"0\",\"210000000\",\"21000000\",\"3600570502\",\"21000000000\",\"22000000\",\"12500000\",\"21000000\",\"350000000\",\"20000000\",\"64000000\",\"16768584\",\"0\",\"2000000000\",\"384000000000\",\"169795588\",\"250000000\",\"100000000\",\"0\",\"247000000\",\"84000000\",\"48166000\",\"500000\",\"21000000 \",\"1000000\",\"13140000\",\"18000000\",\"40000000000\",\"4380000\",\"16555000000\",\"21000000000\",\"13500000000\",\"21000000 \",\"299792458\",\"32000000\",\"0\",\"0\",\"11235813\",\"336000000\",\"1420609614\",\"70000000\",\"72245700\",\"120000000\",\"0\",\"90600000000\",\"22000000\",\"21000000\",\"265420800\",\"20000000\",\"1350000\",\"100000000\",\"42000000\",\"200000000\",\"0\",\"10000000\",\"2419200000\",\"16180000\",\"0\",\"15000000000\",\"21000000\",\"337000000\",\"0\",\"3770000\",\"420000000\",\"98000000\",\"0\",\"21000000\",\"250000000\",\"51200000\",\"0\",\"1000\",\"888000000\",\"100000000\",\"47011968\",\"2300000000\",\"10000000\",\"42000000\",\"80000000\",\"250000\",\"0\",\"1600000000\",\"100000000\",\"23000000\",\"0\",\"84000000\",\"265420800\",\"5500000\",\"0\",\"45000000\",\"0\",\"1000000000\",\"184467440735\",\"10000000000\",\"2158812800\",\"500000000\",\"105120000\",\"68000000\",\"0\",\"1680000000\",\"0\",\"166386000\",\"12000000\",\"2628000\",\"500000000\",\"160000000\",\"0\",\"10000000\",\"1000000000\",\"1000000000\",\"20000000\",\"0\",\"0\",\"3371337\",\"20000000\",\"10000000000\",\"1840000000\",\"619478\",\"21000000\",\"92000000000\",\"0\",\"78000000\",\"33000000\",\"65789100\",\"53760000\",\"5060000\",\"21000000\",\"0\",\"210240000\",\"250000000\",\"100000000\",\"16906397\",\"50000000\",\"0\",\"1000000000\",\"26298000\",\"16000000\",\"21000000\",\"21000000\",\"210000000\",\"81962100\",\"22000000\",\"26550000000\",\"84000000\",\"10500000\",\"21626280000 \",\"0\",\"42000000\",\"221052632\",\"84000000\",\"30000000\",\"168351300\",\"24000000\",\"384000000\",\" 99000000000\",\"40000000\",\"2147483647\",\"20000000\",\"20000000\",\"25000000\",\"75000000\",\"222725000\",\"525000000\",\"90000000\",\"139000000\",\"616448\",\"33500000\",\"2000000000\",\"44333333\",\"100000000\",\"200000000\",\"25000000\",\"657000000\",\"200000000\",\"50000000\",\"90000000\",\"10000000\",\"21000000\",\"9736000\",\"3000000\",\"21000000\",\"1200000000\",\"0\",\"200000000\",\"0\",\"10638298\",\"3100000000\",\"30000000\",\"20000000000\",\"74000000\",\"0\",\"1500000000\",\"21400000\",\"39999898\",\"2500124\",\"100000000\",\"301000000\",\"7506000000\",\"26205539\",\"21000000\",\"125000000\",\"30000000\",\"10000000000\",\"500000000\",\"850000000\",\"3853326.77707314\",\"50000000\",\"38540000 \",\"42000000\",\"228000000\",\"20000000\",\"60000000\",\"20000000\",\"33000000\",\"76500000\",\"28000000\",\"650659833\",\"5000000\",\"21000000\",\"144000000\",\"32514916898\",\"13000000\",\"3315789\",\"15000000\",\"78835200\",\"2714286\",\"25000000\",\"9999999\",\"500000000\",\"21000000\",\"9354000\",\"20000000\",\"100000000000\",\"21933333\",\"185000000\",\"55000000\",\"110000000\",\"3360000\",\"14524851.4827\",\"1000000000\",\"17000000\",\"1000000000\",\"100000000 \",\"21000000\",\"34426423\",\"2232901\",\"100000000\",\"36900000\",\"110000000\",\"4000000000\",\"110290030\",\"100000000\",\"48252000\",\"400000000\",\"500000000\",\"21212121\",\"28600000\",\"1000000000\",\"75000000000\",\"40000000\",\"35520400\",\"2000000000\",\"2500000000\",\"30000000\",\"105000000\",\"90000000000\",\"200084200\",\"72000000\",\"100000000\",\"105000000\",\"50000000000\",\"0\",\"340282367\",\"30000000\",\"2000000000\",\"10000000\",\"100000000\",\"120000000\",\"100000000\",\"19276800\",\"30000000\",\" 75000000\",\"60000000\",\"18900000\",\"50000000000\",\"54000000\",\"18898187.6216583\",\"21000000\",\"200000000000\",\"5000000000\",\"137500000\",\"1100000000\",\"100000000\",\"21000000\",\"9507271\",\"17405891.19707116\",\"86712634466\",\"10500000000\",\"61599965\",\"0\",\"20000000\",\"84000000\",\"100000000\",\"100000000\",\"48252000\",\"4200000\",\"88888888\",\"91388946\",\"45000000000\",\"27000000\",\"21000000000\",\"400000000\",\"1800000000\",\"15733333\",\"27000000\",\"24000000\",\"21000000\",\"25000000000\",\"100000000\",\"1200000000\",\"60000000\",\"156306732.71\",\"21000000\",\"200000000\",\"100000000\",\"21000000\",\"14788275.991\",\"9000000000\",\"350000000\",\"45000000\",\"280000000\",\"31800000\",\"144000000\",\"500000000\",\"30000000000\",\"210000000\",\"660000000\",\"210000000\",\"85000000000\",\"12500000\",\"10000000000\",\"27716121\",\"20000000\",\"550000000\",\"999481516\",\"50000000000\",\"150000000\",\"4999999999\",\"50000000\",\" 90000000000\",\"19800000\",\"21000000\",\"120000000\",\"500000000\",\"64000000\",\"900000000\",\"4000000\",\"21000000\",\"23000000\",\"20166000\",\"23000000\",\"25000000\",\"1618033\",\"30000000\",\"1000000000000\",\"16600000\",\"232000000\",\"336000000\",\"10000000000\",\"100000000\",\"1100000000\",\"800000000\",\"5200000000\",\"840000000\",\"40000000\",\"18406979840\",\"500000000\",\"19340594\",\"252460800\",\"25000000\",\"60000000\",\"124000000\",\"1000000000\",\"6500000000\",\"1000000000\",\"21000000\",\"25000000\",\"50000000\",\"3000000\",\"5000000\",\"70000000\",\"500000000\",\"300000000\",\"21000000\",\"88000000\",\"30000000\",\"100000000\",\"100000000\",\"200000000\",\"80000000\",\"18400000\",\"45000000\",\"5121951220\",\"21000000\",\"26280000\",\"21000000\",\"18000000\",\"26000000\",\"10500000\",\"600000518\",\"150000000\",\"184000000000\",\"10200000000\",\"44000000\",\"168000000\",\"100000000\",\"1000000000\",\"84000000\",\"90000000\",\"92000000000\",\"650000000 \",\"100262205\",\"18081806 \",\"22075700\",\"21000000\",\"21000000\",\"82546564\",\"21000000\",\"5151000\",\"16880000000\",\"52500000\",\"100000000\",\"22105263\",\"1000000000\",\"1750000000\",\"88188888\",\"210000000\",\"184470000000\",\"55000000\",\"50000000\",\"260000000\",\"210000000\",\"2100000000\",\"366000000\",\"100000000\",\"25000000\",\"18000000000\",\"1000000000\",\"100000000\",\"1000000000\",\"7600000000\",\"50000000\",\"84000000\",\"21000000\",\"70000000000\",\"0\",\"8080000000\",\"54000000\",\"105120001.44\",\"25228800\",\"105000000\",\"21000000\",\"120000000\",\"21000000\",\"262800000\",\"19035999\",\"30886000\",\"13370000\",\"74800000000\",\"100000000\",\"19700000\",\"84000000\",\"500000000\",\"5000000000\",\"420000000\",\"64000000\",\"2100000\",\"168000000\",\"30000000\",\"1000000000\",\"35000000000\",\"98100000000\",\"0\",\"4000000000\",\"200000000\",\"7000000000\",\"54256119\",\"21000000\",\"0\",\"500000000\",\"1000000000\",\"10500000000\",\"190000000\",\"1000000000\",\"42000000\",\"15000000\",\"50000000000\",\"400000000\",\"105000000\",\"208000000\",\"160000000\",\"9000000\",\"5000000\",\"182000000\",\"16504333\",\"105000000\",\"159918400\",\"10008835635\",\"300000000\",\"60168145\",\"5000000000\",\"2800000\",\"120000\",\"2100000000\",\"0\",\"24487944\",\"0\",\"1000000000\",\"100000000\",\"8634140\",\"990000000000\",\"1000000000\",\"2000000000\",\"250000000\",\"1400222610\",\"21000000\",\"1000000\"],\"TotalCoinsMined\":{\"__ndarray__\":\"E66yfP7/REC4HgUDbHLPQcQCukHCRBtCAAAAcMAYcUHb+b76hayZQfdoZlo4D45BczEFzM85YUFmkFFyf2dwQQAAAFztBptBAAAAEAQqXEEAAAA6IW3kQQAAKLzoPgVCAAAAAJ6qM0Epu0/cGOFmQQAAAIAdAVZBuzNpefhbeEFogey/NERlQRASPW7cR2dB+ijjv4NLcUEAAABO5u/CQQAAgMotKNlBAAAAAAAAVkCRe4LLOUqkQWlwu1zuvZ5B7FG4slgRXEES3YNEKFedQbxc1FkO8a5BjF0hSWmgh0FQLIHFyuR/Qc7ixUJvyuRAZlhcKb2KW0HCR4pNGbYvQdDqKuGh8VFBQQ4rjd4PU0GutucKX6AiQqBfqd8TNklB/fZoycqrDUIAAHBTCXwRQnSTloARWwdCS2bm7Bjxc0He//+wcBeqQbTI9iT1l3JBAAAAQJaqVUHBNFQR94a7QaQ8LSbMbzFBMPUDShPgqEEAAAA1WFnKQQFaxIOwUI9BD/H/v0jdg0EMI73Wa0iVQftcscYLA9lBo6E6fO0XNUJq65YfTtVwQW3n+0/EHHRBmpmZw9ANokHNzEzyVm5yQeu2uDrY2TBBAAAAaLVMjUFC3vH/OTGCQTMzM4eHR4NB0/wVEd7UE0K3KNQ4KyRWQdb//9BLDNhBAAAAAGTcbkFGZKnBRYOPQWh5ONDpoOFBAAAAAIIbbEHurnvnQfOzQWC5lIqR6GxBEqW9I0SSSEECRgfUkYuqQQAAgKodopFB7loEOWBNG0KzdfRrHdkwQZqZmdvoF3dBqQYrknhoeEEnrP5t5i2IQQAAAAAAZJJASWWmrurJwEEmvO6+tSKTQQAAAACNwoRBsaedNq8s2EHonwEAK9k1QQAAAEB233VBAAAAAINhQUF75AdVfoYIQQAAAAAObDJBZmYm5Ctg0EHqsCJZOvSHQfL/r8ISFHZBBWSeRqeJfkHHd4jeymaIQQAAAHQ6hJxBqj02xuuDWkEAAAAAhNeXQWWO5dqisIJBhvyY1oWPf0HN5/S7TaShQQAAB3WebUVCcSCmnaK6+UEAAADwLATbQQAAAMC4ZohBcBN8y0VCkEEAAADwmKeCQQAAADhjXYlBAAAAZOS8uEGF80Sm1ux5QeDz06y0ZKBBm6kQ40DcPkGTMePy+TQGQRqL3sPG0aRB26a4ke4mokEAAAAAwWU2QQAAAICAEltBAAAAUZSex0EAAABPt3DFQQAAAACKhURBAAAAsGYMj0EAAABAGUhYQclLLY4xV2NBAAAAQF4iZkFxPQ5ywyzxQQAAAMx5HcVBAAAAAKznIkEAAACAQ8VnQQAAAABQifVAAAAAAOgYN0EAAAAgqFqOQbTMIm2Yun5BAAAAQFI2akFuowEAyCBsQb/Mf8ucV2BBAAAAsANCbkFIisgQwBcUQQAAAECDDn9BAAAAkCQHkkEAAAAAhNeXQQAAAMClBGRBAAAAwKL5dUEAAEizP9MeQnMvcJZSiIRBdN9gjbfOaUEAAADg5UNuQXci101WBnRBZImz3Q7FY0EAAAAAsQipQQAAAKBO1mVB0TYn7F3/S0EAAJj8c3sEQgAAABB1ppBBAAAAgM2QU0EAAGSVNj8UQs9mP8p8wQJCZta35+opYUEAAACQC02DQQAAAKChgoVBAAAAAGjAVUEVe6IeXWwjQQAAALCvdnBBh9M4uazZY0FWnZ2VUDchQsSzAmd+slBBAADA////30EAAAAA0BJzQfWeCOrNEFlBACv2TwgLakHGaE16SgqgQQAAAAAFPjJBAAAAgCTIb0EAAACMaOWTQWZvBMgIQndBAAAAAADQIkH8k1OFq2aCQZ+vSflmO8hBAAAAAD1EUUEAAAAAhNeXQQAAAADQElNBAAAAAH0GNUEAAAAgg5TDQQAAAEzcoZtBAAAAIIyvbUEAAADgOZWEQSqHXC4Y111BAAAAAMorIkEAAAAAgNFXQXUZ5bDIESRBAAAAAOmyQ0EAAAAAZc3NQQAAAACxmT1BAAAAsKrbm0EAAAAwvTekQQAAAECjXmFBAACA3BLTw0EAAAAATDVlQQAA7E21OxJCKwwuO6qmkUEAAADQUPh/Qd7Fk3RYja9BUc34T+beXEEAAAAgerqhQQAAAAAOE0NBAAAAAITXl0F4eqWiQ/5wQW1b4nIfINBBAAAAMNb9eEEAAACA+2lVQQAAAJAhzJlBAAAA0Dl+cUEAAADmiWanQQAAAACfjshBAADD1R53NUL1IXdjB2ZNQQAAAACE14dBAAAAAERMcEGnlim1VLBCQQAAAGjSQo1BAAAAANASc0H6EPGEOidXQQAAAEDFrmdBAWxAemNOc0EAAACEqwWSQW8KEEyCImVBAAAAQE7RZEEAAAAAntwoQQAAAADC2S1BAAAAQIT1X0G1VTeErn0fQgAAAIArf0pBAAAAgCZMSUG3QKeXoQ9kQQAAAGDS03xBAAAAAJRIK0EAAAAA5NhhQeiBj3GyoDxBAAAAwOvadkGII9U8v0VDQawzRD12llVBAAAAAFSMZkEAAAAd2QDAQQAAAABMzxJBBwq80BzsZEGMg2z7OkxGQQAAAADeOZpBAAAAAH3ER0FFR3JvNrRrQQAAAEBY+nxBHHiWeW1nWkEAAAAAZc3NQaJtQ0H1zZdBAAAA2MWvcUEAAADorTCBQQAAAIAiCUFBTeW+oh8baUEhj6B9UD1nQd7hZs9XYJpBAAAAoDmQjkEEVo5zMX+aQcubKKA6hnRBAAAAAPhOY0EAAABZNO23QTtUk67eAZ1BAAAAgBl7VEEAAAAApIUxQQAAAACAhB5BAAAARNP4l0EAAABgO2BwQYwpWDI4VnNBCaRc6miXsUEAAADLzqLTQWBHLT+iuWVBAAAAwIpedEEAAMDR7u4iQgAAACBZumNBckLXzXcUakEAAAAAhNeXQWUIVsOfdZBBAADce2Q8FUKonWsKIt5yQQAAAKTUxJ9BkdtqsfWNcUEAAMDBkfbaQQAAAAA7009BAAAA+GzBgEEAAADYWwOOQQAAAIDi9FlBAAAAsAxLcUEAAADAZ0h0QQAAAMCntlNBIBX6xf/VeEEAAAAA0wJEQX/w+Yv12ABCAAAAYPECa0Ga3cmg1eZ0QZKakZIo+nBBAABOq2v7QkJLH6e/YrLgQQAAAHgivplByhiP2VEznUGRw9HTzpGGQWq8WVp0KXFBI1gm0VX5Z0Hya5UVeMxxQQAAoDO40ilCAAAAAHidHUEAAAAAgIROQe/X1k3upUBCAAAAQE2CYkFw2XdWK6VwQQkyArFkIn9BAAAAcMkTgEEAAABAaKJyQQAAAACQBVBBAAAAoHsQYUEAAAAAhNd3QQAAKM1+JRhCzr66gjC0W0EDPqDeH2rzQQAAAICuxaVBy0qbvkkj5EGLprPq/mcxQVF7mcmnyE9BAAAAAGDjdkH5hGyRy2dwQQAAjLzRkCZCAAAAwFXylUEAAAAKwrTAQdlvVtQbr19BAAAAIM00gEEAAAAAnGZAQYpweOjvSX1BJ0/5xefWl0Hg88PJ5oRnQcl2vh+GNW9BAACwz4jDAEIAAADmKeOkQSlcj8LWUVhBAAAA4LFUaEEAAAC4nD9WQY52rBbqNoJBYW9+x+krsUEAAACS4nIaQsmUx5ED4aVB6fCQBqC2vEHPayxFf3WaQTj4lfsk9RFCAAAAAIgqUUEAAACELQy/Qb7tLlxZRGlBqtpuTpcrcEEAAAC8HCaTQRKDYLnxTLpBXI/WvvhL8kHLoUVKCQ9gQUjhGyQdie1BBOfcMG6KhUFZF6rN7wUcQv52QCDsIVBBqQRZVX7vXUEAAAAA9gh6QQAAAMGN3rFBm/K3SiGwhUEAAABOJZ3BQQndJR2TG0NBAAAAAPXPUEFs0d4KsytgQQAAAABXO3NBRN0Hg6W6ZkFWAY1Yqn9zQQAAAABxsDhB6KPo0IXtYUE9ipsSw74oQiP3U79oYVJB4XaQc/D+q0HFrxjPlu6fQQAAACBfoAJCJXMcSJ2WmUHVIcXjxS/DQQAAAFoqdKtB8dd4J/5n2kGWsBp+eAbDQRXGFoAyvWdBAACoqNr9CkJPPwDNSjCpQURLA8bRdWVBAAAAfjRgqEHNzMyMCYpAQVK4HoUtlxlBWiYo0q1ieEEAAIC4lGXDQQAAAEqIhK1BdXWf684Vk0GYUBwTog1PQQAAAACE13dBGcIW1FlMakEZtn+gi84pQQAAAIDJCTJBAAAAVDEDkUEAAKAYR92vQYN0bFrtEnpBfQaUa/WyYkFNBaat9tx0Qeux5ct22GJBAAAAACvJMkGJEf1SB1R+QXJuA5mDqKBBTNr5wtYfZUEAAAAAvIxuQQAAAACWzFBB5nRdlm/s1EGTQQkk4hd0QURRfW02clNBjX70YrDMZEEAAAAAbkYoQbN2u8vzdIJBBFMT7aemWkEAAAAAwJT0QAAAAAAuRHJBAACivbA6I0IAAAAwvf8CQkhQ/AAsG11Bg20UIDEyoEGcs497yrJ/QSXLM+AdscBB78nDukaZdEHP8+dFmuF8QVnmi1WJITJC6NT8eTS5REEY0gHIAZGLQQAAAIAfWnFBpq1XQWr/XkE4UF7FY31gQaKloawBDFNBrPn2hDebgUFNI9YPZgRbQasgKXHAlFZBluWQ57jML0GotR8+EW5pQSFAAa03f49BSGTlENedNUEZ8ryfJp1UQddG4emEt21BAAAAQESoUkFpyxQjRSBsQV3NAOrTLTdCcT0KX3hgckEXDZ5fe1h9Qf+yq29isZlBB1Ybc0PKYUEAAABA3UrfQXtmCXYA01FBAAAAwA8vUUHawOFXUiJTQRiaN9DOls9BAAAAAGXNzUFRV68zk5piQQAAAABlzc1BAAAAitWN70FyYIdLU+RZQQAAAECkAWpBP8xZKrQocUFhFLwwZtuoQXBOQWIqBxBCkCxSxj/S20GEJfPNkdaAQZO4O1ApFThBx93xJ6g5bkEAAAAACrRpQTMzM7MvyRhBzT1kaTfTgEEdRpysmS9sQQAAAABjBIFBoET6MztrcUEAAAA4VPx3QfT+3KxthT1BTx7ABmy1HEKNuYbNa6doQdWNf+IW1yVBJsJLAz6Yc0FvD7pAHLenQQAAAGixtspBrfE+UWlpbUHNuQVlhu+IQQAAAIB02zFB0v7/r18slEE4zCGFrax2QQAAAABlzc1B5x1IVZ2IDEL7Pxej2H6KQSibcjLG6qxBAACA+gF/7EEAAAAAf/xKQUgFZGJXRnZBAAAAQJGfc0FeS8aPUMFQQW94x/+7XmJBF4V9WDoCukEAAAAGiUDHQR9ofThlOs1BBFbV6ym1EEJuUAeag3W9QUrmXREL7HVBAAAAADicjEFprytpX40bQpijizthGbhBuqmMb8R5kUGs4drOJgGoQa4Pq9CTtJhBBonp3l4nTUGfQd76IkZTQZk6wZ0znZBBDFuTijkecEEqosuD3c2RQQAAALD1nJxBApot/nygAkKKmGJ4mQquQaD9SAGBGDFB0nu/vNIL9sEAAABAnW1JQag65AZOLwFBAAAAAITXl0HZPYkFI2rOQfh6iIGAWndBFK7Xcoy50EEAAAAAZc3NQQAAAACE15dB2arJMci0YUHF9Hue/c9sQgAAAABlzc1B847T/mTN3UGU+vLEjHpsQQAAgEGBNs1BAAAAYIbVW0FH2AHxb1T/QA==\",\"dtype\":\"float64\",\"shape\":[533]}},\"selected\":{\"id\":\"2915\",\"type\":\"Selection\"},\"selection_policy\":{\"id\":\"2948\",\"type\":\"UnionRenderers\"}},\"id\":\"2914\",\"type\":\"ColumnDataSource\"},{\"attributes\":{},\"id\":\"2916\",\"type\":\"StringFormatter\"},{\"attributes\":{\"editor\":{\"id\":\"2942\",\"type\":\"IntEditor\"},\"field\":\"Class\",\"formatter\":{\"id\":\"2941\",\"type\":\"NumberFormatter\"},\"title\":\"Class\"},\"id\":\"2943\",\"type\":\"TableColumn\"},{\"attributes\":{},\"id\":\"2948\",\"type\":\"UnionRenderers\"},{\"attributes\":{},\"id\":\"2921\",\"type\":\"StringFormatter\"},{\"attributes\":{},\"id\":\"2915\",\"type\":\"Selection\"}],\"root_ids\":[\"2946\"]},\"title\":\"Bokeh Application\",\"version\":\"1.3.4\"}};\n",
       "  var render_items = [{\"docid\":\"ae7b0b19-c5d5-43eb-98ba-520b4af379fb\",\"roots\":{\"2946\":\"f3480d7e-2a7e-4079-95d0-2392e9fc62b5\"}}];\n",
       "  root.Bokeh.embed.embed_items_notebook(docs_json, render_items);\n",
       "\n",
       "  }\n",
       "  if (root.Bokeh !== undefined) {\n",
       "    embed_document(root);\n",
       "  } else {\n",
       "    var attempts = 0;\n",
       "    var timer = setInterval(function(root) {\n",
       "      if (root.Bokeh !== undefined) {\n",
       "        embed_document(root);\n",
       "        clearInterval(timer);\n",
       "      }\n",
       "      attempts++;\n",
       "      if (attempts > 100) {\n",
       "        console.log(\"Bokeh: ERROR: Unable to run BokehJS code because BokehJS library is missing\");\n",
       "        clearInterval(timer);\n",
       "      }\n",
       "    }, 10, root)\n",
       "  }\n",
       "})(window);</script>"
      ],
      "text/plain": [
       ":Table   [CoinName,Algorithm,ProofType,TotalCoinsMined,TotalCoinSupply,Class]"
      ]
     },
     "execution_count": 281,
     "metadata": {
      "application/vnd.holoviews_exec.v0+json": {
       "id": "2946"
      }
     },
     "output_type": "execute_result"
    }
   ],
   "source": [
    "clustered_df.hvplot.table(columns=['CoinName', 'Algorithm', 'ProofType', 'TotalCoinsMined', 'TotalCoinSupply','Class'], width=800)"
   ]
  },
  {
   "cell_type": "code",
   "execution_count": 282,
   "metadata": {
    "scrolled": true
   },
   "outputs": [
    {
     "data": {
      "application/vnd.holoviews_exec.v0+json": "",
      "text/html": [
       "<div id='2969' style='display: table; margin: 0 auto;'>\n",
       "\n",
       "\n",
       "\n",
       "\n",
       "\n",
       "  <div class=\"bk-root\" id=\"aafbd4f2-89da-401a-807f-fe5baaf0b334\" data-root-id=\"2969\"></div>\n",
       "</div>\n",
       "<script type=\"application/javascript\">(function(root) {\n",
       "  function embed_document(root) {\n",
       "    \n",
       "  var docs_json = {\"7317856d-6ffa-48e6-a6d6-091a1272fdc7\":{\"roots\":{\"references\":[{\"attributes\":{\"align\":null,\"below\":[{\"id\":\"2978\",\"type\":\"LinearAxis\"}],\"center\":[{\"id\":\"2982\",\"type\":\"Grid\"},{\"id\":\"2986\",\"type\":\"Grid\"},{\"id\":\"3017\",\"type\":\"Legend\"}],\"left\":[{\"id\":\"2983\",\"type\":\"CategoricalAxis\"}],\"margin\":null,\"min_border_bottom\":10,\"min_border_left\":10,\"min_border_right\":10,\"min_border_top\":10,\"plot_height\":300,\"plot_width\":700,\"renderers\":[{\"id\":\"3009\",\"type\":\"GlyphRenderer\"},{\"id\":\"3025\",\"type\":\"GlyphRenderer\"},{\"id\":\"3042\",\"type\":\"GlyphRenderer\"},{\"id\":\"3061\",\"type\":\"GlyphRenderer\"},{\"id\":\"3082\",\"type\":\"GlyphRenderer\"}],\"right\":[{\"id\":\"3017\",\"type\":\"Legend\"}],\"sizing_mode\":\"fixed\",\"title\":{\"id\":\"2970\",\"type\":\"Title\"},\"toolbar\":{\"id\":\"2992\",\"type\":\"Toolbar\"},\"x_range\":{\"id\":\"2962\",\"type\":\"Range1d\"},\"x_scale\":{\"id\":\"2974\",\"type\":\"LinearScale\"},\"y_range\":{\"id\":\"2963\",\"type\":\"FactorRange\"},\"y_scale\":{\"id\":\"2976\",\"type\":\"CategoricalScale\"}},\"id\":\"2969\",\"subtype\":\"Figure\",\"type\":\"Plot\"},{\"attributes\":{},\"id\":\"3113\",\"type\":\"UnionRenderers\"},{\"attributes\":{},\"id\":\"2984\",\"type\":\"CategoricalTicker\"},{\"attributes\":{\"label\":{\"value\":\"1\"},\"renderers\":[{\"id\":\"3025\",\"type\":\"GlyphRenderer\"}]},\"id\":\"3035\",\"type\":\"LegendItem\"},{\"attributes\":{\"label\":{\"value\":\"3\"},\"renderers\":[{\"id\":\"3061\",\"type\":\"GlyphRenderer\"}]},\"id\":\"3075\",\"type\":\"LegendItem\"},{\"attributes\":{\"text\":\"\",\"text_color\":{\"value\":\"black\"},\"text_font_size\":{\"value\":\"12pt\"}},\"id\":\"2970\",\"type\":\"Title\"},{\"attributes\":{},\"id\":\"2979\",\"type\":\"BasicTicker\"},{\"attributes\":{\"callback\":null,\"renderers\":[{\"id\":\"3009\",\"type\":\"GlyphRenderer\"},{\"id\":\"3025\",\"type\":\"GlyphRenderer\"},{\"id\":\"3042\",\"type\":\"GlyphRenderer\"},{\"id\":\"3061\",\"type\":\"GlyphRenderer\"},{\"id\":\"3082\",\"type\":\"GlyphRenderer\"}],\"tags\":[\"hv_created\"],\"tooltips\":[[\"Class\",\"@{Class}\"],[\"TotalCoinsMined\",\"@{TotalCoinsMined}\"],[\"TotalCoinSupply\",\"@{TotalCoinSupply}\"],[\"CoinName\",\"@{CoinName}\"]]},\"id\":\"2964\",\"type\":\"HoverTool\"},{\"attributes\":{},\"id\":\"2989\",\"type\":\"WheelZoomTool\"},{\"attributes\":{\"callback\":null,\"data\":{\"Class\":[0,0,0,0,0,0,0,0,0,0,0,0,0,0,0,0,0,0,0,0,0,0,0,0,0,0,0,0,0,0,0,0,0,0,0,0,0,0,0,0,0,0,0,0,0,0,0,0,0,0,0,0,0,0,0,0,0,0,0,0,0,0,0,0,0,0,0,0,0,0,0,0,0,0,0,0,0,0,0,0,0,0,0,0,0,0,0,0,0,0,0,0,0,0,0,0,0,0,0,0,0,0,0,0,0,0,0,0,0,0,0,0,0,0,0,0,0,0,0,0,0,0,0,0,0,0,0,0,0,0,0,0,0,0,0,0,0,0,0,0,0,0,0,0,0,0,0,0,0,0,0,0,0,0,0,0,0,0,0,0,0,0,0,0,0,0,0,0,0,0,0,0,0,0,0,0,0,0,0,0,0,0,0,0,0,0,0,0,0,0,0,0,0,0,0,0,0,0,0,0,0,0,0,0,0,0,0,0,0,0,0,0,0,0,0,0,0,0,0,0,0,0,0,0,0,0,0,0,0,0,0,0,0,0,0,0,0,0,0,0,0,0,0,0,0,0,0,0,0,0,0,0,0,0,0,0,0,0,0,0,0,0,0,0,0,0,0,0,0,0,0,0,0,0,0,0,0,0,0],\"CoinName\":[\"42 Coin\",\"404Coin\",\"Dash\",\"Bitshares\",\"BitcoinDark\",\"PayCoin\",\"KoboCoin\",\"Aurora Coin\",\"BlueCoin\",\"EnergyCoin\",\"BitBar\",\"CryptoBullion\",\"CasinoCoin\",\"Diamond\",\"Exclusive Coin\",\"FlutterCoin\",\"HoboNickels\",\"HyperStake\",\"IOCoin\",\"MaxCoin\",\"MintCoin\",\"MazaCoin\",\"Nautilus Coin\",\"NavCoin\",\"OpalCoin\",\"Orbitcoin\",\"PotCoin\",\"PhoenixCoin\",\"Reddcoin\",\"SuperCoin\",\"SyncCoin\",\"TeslaCoin\",\"TittieCoin\",\"TorCoin\",\"UnitaryStatus Dollar\",\"UltraCoin\",\"VeriCoin\",\"X11 Coin\",\"Crypti\",\"StealthCoin\",\"ZCC Coin\",\"BurstCoin\",\"StorjCoin\",\"Neutron\",\"FairCoin\",\"RubyCoin\",\"Kore\",\"Dnotes\",\"8BIT Coin\",\"Sativa Coin\",\"Ucoin\",\"Vtorrent\",\"IslaCoin\",\"Nexus\",\"Droidz\",\"Squall Coin\",\"Diggits\",\"Paycon\",\"Emercoin\",\"EverGreenCoin\",\"Decred\",\"EDRCoin\",\"Hitcoin\",\"DubaiCoin\",\"PWR Coin\",\"BillaryCoin\",\"GPU Coin\",\"EuropeCoin\",\"ZeitCoin\",\"SwingCoin\",\"SafeExchangeCoin\",\"Nebuchadnezzar\",\"Ratecoin\",\"Revenu\",\"Clockcoin\",\"VIP Tokens\",\"BitSend\",\"Let it Ride\",\"PutinCoin\",\"iBankCoin\",\"Frankywillcoin\",\"MudraCoin\",\"Lutetium Coin\",\"GoldBlocks\",\"CarterCoin\",\"BitTokens\",\"MustangCoin\",\"ZoneCoin\",\"RootCoin\",\"BitCurrency\",\"Swiscoin\",\"BuzzCoin\",\"Opair\",\"PesoBit\",\"Halloween Coin\",\"CoffeeCoin\",\"RoyalCoin\",\"GanjaCoin V2\",\"TeamUP\",\"LanaCoin\",\"InsaneCoin\",\"EmberCoin\",\"XenixCoin\",\"FreeCoin\",\"PLNCoin\",\"AquariusCoin\",\"Creatio\",\"Eternity\",\"Eurocoin\",\"BitcoinFast\",\"Stakenet\",\"BitConnect Coin\",\"MoneyCoin\",\"Enigma\",\"Russiacoin\",\"PandaCoin\",\"GameUnits\",\"GAKHcoin\",\"Allsafe\",\"LiteCreed\",\"Klingon Empire Darsek\",\"Internet of People\",\"KushCoin\",\"Printerium\",\"Impeach\",\"Zilbercoin\",\"FirstCoin\",\"FindCoin\",\"OpenChat\",\"RenosCoin\",\"VirtacoinPlus\",\"TajCoin\",\"Impact\",\"Atmos\",\"HappyCoin\",\"MacronCoin\",\"Condensate\",\"Independent Money System\",\"ArgusCoin\",\"LomoCoin\",\"ProCurrency\",\"GoldReserve\",\"GrowthCoin\",\"Phreak\",\"Degas Coin\",\"HTML5 Coin\",\"Ultimate Secure Cash\",\"QTUM\",\"Espers\",\"Denarius\",\"Virta Unique Coin\",\"Bitcoin Planet\",\"BritCoin\",\"Linda\",\"DeepOnion\",\"Signatum\",\"Cream\",\"Monoeci\",\"Draftcoin\",\"Stakecoin\",\"CoinonatX\",\"Ethereum Dark\",\"Obsidian\",\"Cardano\",\"Regalcoin\",\"TrezarCoin\",\"TerraNovaCoin\",\"Rupee\",\"WomenCoin\",\"Theresa May Coin\",\"NamoCoin\",\"LUXCoin\",\"Xios\",\"Bitcloud 2.0\",\"KekCoin\",\"BlackholeCoin\",\"Infinity Economics\",\"Magnet\",\"Electra\",\"Bitcoin Diamond\",\"Cash & Back Coin\",\"Bulwark\",\"Kalkulus\",\"GermanCoin\",\"LiteCoin Ultra\",\"PhantomX\",\"Digiwage\",\"Trollcoin\",\"Litecoin Plus\",\"Monkey Project\",\"TokenPay\",\"1717 Masonic Commemorative Token\",\"My Big Coin\",\"Unified Society USDEX\",\"Tokyo Coin\",\"Stipend\",\"Pushi\",\"Ellerium\",\"Velox\",\"Ontology\",\"Bitspace\",\"Briacoin\",\"Ignition\",\"MedicCoin\",\"Bitcoin Green\",\"Deviant Coin\",\"Abjcoin\",\"Carebit\",\"Zealium\",\"Proton\",\"iDealCash\",\"Bitcoin Incognito\",\"HollyWoodCoin\",\"Swisscoin\",\"Xt3ch\",\"TheVig\",\"EmaratCoin\",\"Dekado\",\"Poseidon Quark\",\"BitcoinWSpectrum\",\"Muse\",\"Trivechain\",\"Dystem\",\"Giant\",\"Peony Coin\",\"Absolute Coin\",\"Vitae\",\"TPCash\",\"ARENON\",\"EUNO\",\"MMOCoin\",\"Ketan\",\"XDNA\",\"PAXEX\",\"ThunderStake\",\"Kcash\",\"Acute Angle Cloud\",\"Bettex coin\",\"BitMoney\",\"Junson Ming Chan Coin\",\"HerbCoin\",\"PirateCash\",\"Oduwa\",\"Galilel\",\"Crypto Sports\",\"Credit\",\"Dash Platinum\",\"Nasdacoin\",\"Beetle Coin\",\"Titan Coin\",\"Award\",\"Insane Coin\",\"LiteDoge\",\"TruckCoin\",\"OrangeCoin\",\"BitstarCoin\",\"NeosCoin\",\"HyperCoin\",\"PinkCoin\",\"AudioCoin\",\"IncaKoin\",\"Piggy Coin\",\"Genstake\",\"XiaoMiCoin\",\"CapriCoin\",\" ClubCoin\",\"Radium\",\"Creditbit \",\"OKCash\",\"HiCoin\",\"WhiteCoin\",\"FriendshipCoin\",\"Triangles Coin\",\"TigerCash\",\"Waves\",\"Particl\",\"Nxt\",\"Gapcoin\",\"BitcoinPlus\"],\"TotalCoinSupply\":[\"42\",\"532000000\",\"22000000\",\"3600570502\",\"22000000\",\"12500000\",\"350000000\",\"16768584\",\"0\",\"0\",\"500000\",\"1000000\",\"40000000000\",\"4380000\",\"0\",\"0\",\"120000000\",\"0\",\"22000000\",\"100000000\",\"0\",\"2419200000\",\"16180000\",\"0\",\"0\",\"3770000\",\"420000000\",\"98000000\",\"0\",\"0\",\"1000\",\"100000000\",\"2300000000\",\"10000000\",\"1600000000\",\"100000000\",\"0\",\"5500000\",\"0\",\"0\",\"1000000000\",\"2158812800\",\"500000000\",\"68000000\",\"0\",\"0\",\"12000000\",\"500000000\",\"0\",\"10000000\",\"20000000\",\"20000000\",\"0\",\"78000000\",\"5060000\",\"0\",\"100000000\",\"50000000\",\"1000000000\",\"26298000\",\"21000000\",\"22000000\",\"26550000000\",\"10500000\",\"0\",\"42000000\",\"221052632\",\"384000000\",\" 99000000000\",\"40000000\",\"2147483647\",\"20000000\",\"75000000\",\"222725000\",\"525000000\",\"90000000\",\"139000000\",\"33500000\",\"2000000000\",\"44333333\",\"100000000\",\"200000000\",\"657000000\",\"50000000\",\"90000000\",\"21000000\",\"3000000\",\"21000000\",\"0\",\"0\",\"3100000000\",\"20000000000\",\"74000000\",\"0\",\"1500000000\",\"39999898\",\"2500124\",\"100000000\",\"301000000\",\"7506000000\",\"30000000\",\"850000000\",\"3853326.77707314\",\"50000000\",\"38540000 \",\"42000000\",\"20000000\",\"60000000\",\"20000000\",\"33000000\",\"76500000\",\"28000000\",\"650659833\",\"5000000\",\"144000000\",\"32514916898\",\"13000000\",\"3315789\",\"15000000\",\"78835200\",\"500000000\",\"21000000\",\"9354000\",\"20000000\",\"21933333\",\"55000000\",\"110000000\",\"14524851.4827\",\"1000000000\",\"34426423\",\"100000000\",\"36900000\",\"110000000\",\"110290030\",\"100000000\",\"400000000\",\"500000000\",\"21212121\",\"28600000\",\"1000000000\",\"75000000000\",\"40000000\",\"2000000000\",\"30000000\",\"105000000\",\"90000000000\",\"200084200\",\"100000000\",\"50000000000\",\"10000000\",\"120000000\",\"100000000\",\"30000000\",\"50000000000\",\"18898187.6216583\",\"137500000\",\"100000000\",\"9507271\",\"17405891.19707116\",\"61599965\",\"48252000\",\"4200000\",\"91388946\",\"45000000000\",\"27000000\",\"400000000\",\"15733333\",\"24000000\",\"25000000000\",\"100000000\",\"1200000000\",\"60000000\",\"21000000\",\"200000000\",\"21000000\",\"14788275.991\",\"9000000000\",\"144000000\",\"30000000000\",\"210000000\",\"210000000\",\"27716121\",\"20000000\",\"50000000000\",\"150000000\",\"50000000\",\"120000000\",\"900000000\",\"4000000\",\"21000000\",\"25000000\",\"1618033\",\"30000000\",\"232000000\",\"800000000\",\"19340594\",\"25000000\",\"60000000\",\"124000000\",\"1000000000\",\"50000000\",\"3000000\",\"5000000\",\"500000000\",\"21000000\",\"88000000\",\"30000000\",\"200000000\",\"80000000\",\"45000000\",\"5121951220\",\"21000000\",\"26000000\",\"10200000000\",\"44000000\",\"100000000\",\"84000000\",\"90000000\",\"650000000 \",\"100262205\",\"18081806 \",\"82546564\",\"21000000\",\"5151000\",\"16880000000\",\"52500000\",\"100000000\",\"1000000000\",\"55000000\",\"50000000\",\"260000000\",\"210000000\",\"366000000\",\"100000000\",\"18000000000\",\"1000000000\",\"1000000000\",\"50000000\",\"70000000000\",\"0\",\"54000000\",\"105000000\",\"21000000\",\"19035999\",\"13370000\",\"74800000000\",\"19700000\",\"84000000\",\"500000000\",\"5000000000\",\"420000000\",\"30000000\",\"35000000000\",\"0\",\"200000000\",\"54256119\",\"21000000\",\"0\",\"500000000\",\"10500000000\",\"190000000\",\"1000000000\",\"15000000\",\"400000000\",\"208000000\",\"160000000\",\"9000000\",\"16504333\",\"105000000\",\"10008835635\",\"300000000\",\"60168145\",\"120000\",\"1000000000\",\"100000000\",\"8634140\",\"1000000000\",\"250000000\",\"1000000\"],\"TotalCoinsMined\":{\"__ndarray__\":\"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\",\"dtype\":\"float64\",\"shape\":[279]}},\"selected\":{\"id\":\"3004\",\"type\":\"Selection\"},\"selection_policy\":{\"id\":\"3033\",\"type\":\"UnionRenderers\"}},\"id\":\"3003\",\"type\":\"ColumnDataSource\"},{\"attributes\":{\"fill_color\":{\"value\":\"#2ba02b\"},\"line_color\":{\"value\":\"#2ba02b\"},\"size\":{\"units\":\"screen\",\"value\":5.477225575051661},\"x\":{\"field\":\"TotalCoinsMined\"},\"y\":{\"field\":\"TotalCoinSupply\"}},\"id\":\"3039\",\"type\":\"Scatter\"},{\"attributes\":{\"label\":{\"value\":\"2\"},\"renderers\":[{\"id\":\"3042\",\"type\":\"GlyphRenderer\"}]},\"id\":\"3054\",\"type\":\"LegendItem\"},{\"attributes\":{\"bottom_units\":\"screen\",\"fill_alpha\":{\"value\":0.5},\"fill_color\":{\"value\":\"lightgrey\"},\"left_units\":\"screen\",\"level\":\"overlay\",\"line_alpha\":{\"value\":1.0},\"line_color\":{\"value\":\"black\"},\"line_dash\":[4,4],\"line_width\":{\"value\":2},\"render_mode\":\"css\",\"right_units\":\"screen\",\"top_units\":\"screen\"},\"id\":\"3016\",\"type\":\"BoxAnnotation\"},{\"attributes\":{},\"id\":\"3004\",\"type\":\"Selection\"},{\"attributes\":{\"grid_line_color\":null,\"ticker\":{\"id\":\"2979\",\"type\":\"BasicTicker\"}},\"id\":\"2982\",\"type\":\"Grid\"},{\"attributes\":{\"source\":{\"id\":\"3003\",\"type\":\"ColumnDataSource\"}},\"id\":\"3010\",\"type\":\"CDSView\"},{\"attributes\":{\"data_source\":{\"id\":\"3055\",\"type\":\"ColumnDataSource\"},\"glyph\":{\"id\":\"3058\",\"type\":\"Scatter\"},\"hover_glyph\":null,\"muted_glyph\":{\"id\":\"3060\",\"type\":\"Scatter\"},\"nonselection_glyph\":{\"id\":\"3059\",\"type\":\"Scatter\"},\"selection_glyph\":null,\"view\":{\"id\":\"3062\",\"type\":\"CDSView\"}},\"id\":\"3061\",\"type\":\"GlyphRenderer\"},{\"attributes\":{\"fill_alpha\":{\"value\":0.1},\"fill_color\":{\"value\":\"#9367bc\"},\"line_alpha\":{\"value\":0.1},\"line_color\":{\"value\":\"#9367bc\"},\"size\":{\"units\":\"screen\",\"value\":5.477225575051661},\"x\":{\"field\":\"TotalCoinsMined\"},\"y\":{\"field\":\"TotalCoinSupply\"}},\"id\":\"3080\",\"type\":\"Scatter\"},{\"attributes\":{},\"id\":\"2976\",\"type\":\"CategoricalScale\"},{\"attributes\":{},\"id\":\"2987\",\"type\":\"SaveTool\"},{\"attributes\":{\"fill_alpha\":{\"value\":0.2},\"fill_color\":{\"value\":\"#ff7e0e\"},\"line_alpha\":{\"value\":0.2},\"line_color\":{\"value\":\"#ff7e0e\"},\"size\":{\"units\":\"screen\",\"value\":5.477225575051661},\"x\":{\"field\":\"TotalCoinsMined\"},\"y\":{\"field\":\"TotalCoinSupply\"}},\"id\":\"3024\",\"type\":\"Scatter\"},{\"attributes\":{\"callback\":null,\"end\":989988713439.649,\"reset_end\":989988713439.649,\"reset_start\":-5917977547.96773,\"start\":-5917977547.96773,\"tags\":[[[\"TotalCoinsMined\",\"TotalCoinsMined\",null]]]},\"id\":\"2962\",\"type\":\"Range1d\"},{\"attributes\":{\"click_policy\":\"mute\",\"items\":[{\"id\":\"3018\",\"type\":\"LegendItem\"},{\"id\":\"3035\",\"type\":\"LegendItem\"},{\"id\":\"3054\",\"type\":\"LegendItem\"},{\"id\":\"3075\",\"type\":\"LegendItem\"},{\"id\":\"3098\",\"type\":\"LegendItem\"}],\"location\":[0,0]},\"id\":\"3017\",\"type\":\"Legend\"},{\"attributes\":{\"axis_label\":\"TotalCoinsMined\",\"bounds\":\"auto\",\"formatter\":{\"id\":\"3000\",\"type\":\"BasicTickFormatter\"},\"major_label_orientation\":\"horizontal\",\"ticker\":{\"id\":\"2979\",\"type\":\"BasicTicker\"}},\"id\":\"2978\",\"type\":\"LinearAxis\"},{\"attributes\":{\"source\":{\"id\":\"3036\",\"type\":\"ColumnDataSource\"}},\"id\":\"3043\",\"type\":\"CDSView\"},{\"attributes\":{\"callback\":null,\"data\":{\"Class\":[4,4,4,4,4,4,4,4,4,4,4,4,4,4,4],\"CoinName\":[\"EliteCoin\",\"MoonCoin\",\"ByteCoin\",\"ARK\",\"gCn Coin\",\"Lamden Tau\",\"TurtleCoin\",\"Semux\",\"Lynx\",\"Qwertycoin\",\"ALAX\",\"Lisk\",\"EOS\",\"Oxycoin\",\"ZEPHYR\"],\"TotalCoinSupply\":[\"314159265359\",\"384000000000\",\"184467440735\",\"125000000\",\"200000000000\",\"500000000\",\"1000000000000\",\"100000000\",\"92000000000\",\"184470000000\",\"1000000000\",\"159918400\",\"0\",\"0\",\"2000000000\"],\"TotalCoinsMined\":{\"__ndarray__\":\"xAK6QcJEG0IAAAAAAABWQAAAB3WebUVCAAAAkCHMmUEAAE6ra/tCQmFvfsfpK7FBPYqbEsO+KEIAAAAAK8kyQVnmi1WJITJCXc0A6tMtN0IAAAAAZc3NQQAAALD1nJxB2T2JBSNqzkEUrtdyjLnQQfOO0/5kzd1B\",\"dtype\":\"float64\",\"shape\":[15]}},\"selected\":{\"id\":\"3077\",\"type\":\"Selection\"},\"selection_policy\":{\"id\":\"3113\",\"type\":\"UnionRenderers\"}},\"id\":\"3076\",\"type\":\"ColumnDataSource\"},{\"attributes\":{\"data_source\":{\"id\":\"3003\",\"type\":\"ColumnDataSource\"},\"glyph\":{\"id\":\"3006\",\"type\":\"Scatter\"},\"hover_glyph\":null,\"muted_glyph\":{\"id\":\"3008\",\"type\":\"Scatter\"},\"nonselection_glyph\":{\"id\":\"3007\",\"type\":\"Scatter\"},\"selection_glyph\":null,\"view\":{\"id\":\"3010\",\"type\":\"CDSView\"}},\"id\":\"3009\",\"type\":\"GlyphRenderer\"},{\"attributes\":{\"source\":{\"id\":\"3019\",\"type\":\"ColumnDataSource\"}},\"id\":\"3026\",\"type\":\"CDSView\"},{\"attributes\":{\"fill_alpha\":{\"value\":0.2},\"fill_color\":{\"value\":\"#2ba02b\"},\"line_alpha\":{\"value\":0.2},\"line_color\":{\"value\":\"#2ba02b\"},\"size\":{\"units\":\"screen\",\"value\":5.477225575051661},\"x\":{\"field\":\"TotalCoinsMined\"},\"y\":{\"field\":\"TotalCoinSupply\"}},\"id\":\"3041\",\"type\":\"Scatter\"},{\"attributes\":{\"label\":{\"value\":\"4\"},\"renderers\":[{\"id\":\"3082\",\"type\":\"GlyphRenderer\"}]},\"id\":\"3098\",\"type\":\"LegendItem\"},{\"attributes\":{\"data_source\":{\"id\":\"3036\",\"type\":\"ColumnDataSource\"},\"glyph\":{\"id\":\"3039\",\"type\":\"Scatter\"},\"hover_glyph\":null,\"muted_glyph\":{\"id\":\"3041\",\"type\":\"Scatter\"},\"nonselection_glyph\":{\"id\":\"3040\",\"type\":\"Scatter\"},\"selection_glyph\":null,\"view\":{\"id\":\"3043\",\"type\":\"CDSView\"}},\"id\":\"3042\",\"type\":\"GlyphRenderer\"},{\"attributes\":{\"label\":{\"value\":\"0\"},\"renderers\":[{\"id\":\"3009\",\"type\":\"GlyphRenderer\"}]},\"id\":\"3018\",\"type\":\"LegendItem\"},{\"attributes\":{},\"id\":\"3056\",\"type\":\"Selection\"},{\"attributes\":{},\"id\":\"3077\",\"type\":\"Selection\"},{\"attributes\":{\"fill_alpha\":{\"value\":0.2},\"fill_color\":{\"value\":\"#1f77b3\"},\"line_alpha\":{\"value\":0.2},\"line_color\":{\"value\":\"#1f77b3\"},\"size\":{\"units\":\"screen\",\"value\":5.477225575051661},\"x\":{\"field\":\"TotalCoinsMined\"},\"y\":{\"field\":\"TotalCoinSupply\"}},\"id\":\"3008\",\"type\":\"Scatter\"},{\"attributes\":{\"fill_color\":{\"value\":\"#ff7e0e\"},\"line_color\":{\"value\":\"#ff7e0e\"},\"size\":{\"units\":\"screen\",\"value\":5.477225575051661},\"x\":{\"field\":\"TotalCoinsMined\"},\"y\":{\"field\":\"TotalCoinSupply\"}},\"id\":\"3022\",\"type\":\"Scatter\"},{\"attributes\":{\"fill_alpha\":{\"value\":0.2},\"fill_color\":{\"value\":\"#d62628\"},\"line_alpha\":{\"value\":0.2},\"line_color\":{\"value\":\"#d62628\"},\"size\":{\"units\":\"screen\",\"value\":5.477225575051661},\"x\":{\"field\":\"TotalCoinsMined\"},\"y\":{\"field\":\"TotalCoinSupply\"}},\"id\":\"3060\",\"type\":\"Scatter\"},{\"attributes\":{\"fill_alpha\":{\"value\":0.1},\"fill_color\":{\"value\":\"#1f77b3\"},\"line_alpha\":{\"value\":0.1},\"line_color\":{\"value\":\"#1f77b3\"},\"size\":{\"units\":\"screen\",\"value\":5.477225575051661},\"x\":{\"field\":\"TotalCoinsMined\"},\"y\":{\"field\":\"TotalCoinSupply\"}},\"id\":\"3007\",\"type\":\"Scatter\"},{\"attributes\":{\"fill_alpha\":{\"value\":0.1},\"fill_color\":{\"value\":\"#ff7e0e\"},\"line_alpha\":{\"value\":0.1},\"line_color\":{\"value\":\"#ff7e0e\"},\"size\":{\"units\":\"screen\",\"value\":5.477225575051661},\"x\":{\"field\":\"TotalCoinsMined\"},\"y\":{\"field\":\"TotalCoinSupply\"}},\"id\":\"3023\",\"type\":\"Scatter\"},{\"attributes\":{},\"id\":\"3001\",\"type\":\"CategoricalTickFormatter\"},{\"attributes\":{},\"id\":\"3052\",\"type\":\"UnionRenderers\"},{\"attributes\":{\"callback\":null,\"factors\":[\"42\",\"532000000\",\"22000000\",\"3600570502\",\"12500000\",\"350000000\",\"16768584\",\"0\",\"500000\",\"1000000\",\"40000000000\",\"4380000\",\"120000000\",\"100000000\",\"2419200000\",\"16180000\",\"3770000\",\"420000000\",\"98000000\",\"1000\",\"2300000000\",\"10000000\",\"1600000000\",\"5500000\",\"1000000000\",\"2158812800\",\"500000000\",\"68000000\",\"12000000\",\"20000000\",\"78000000\",\"5060000\",\"50000000\",\"26298000\",\"21000000\",\"26550000000\",\"10500000\",\"42000000\",\"221052632\",\"384000000\",\" 99000000000\",\"40000000\",\"2147483647\",\"75000000\",\"222725000\",\"525000000\",\"90000000\",\"139000000\",\"33500000\",\"2000000000\",\"44333333\",\"200000000\",\"657000000\",\"3000000\",\"3100000000\",\"20000000000\",\"74000000\",\"1500000000\",\"39999898\",\"2500124\",\"301000000\",\"7506000000\",\"30000000\",\"850000000\",\"3853326.77707314\",\"38540000 \",\"60000000\",\"33000000\",\"76500000\",\"28000000\",\"650659833\",\"5000000\",\"144000000\",\"32514916898\",\"13000000\",\"3315789\",\"15000000\",\"78835200\",\"9354000\",\"21933333\",\"55000000\",\"110000000\",\"14524851.4827\",\"34426423\",\"36900000\",\"110290030\",\"400000000\",\"21212121\",\"28600000\",\"75000000000\",\"105000000\",\"90000000000\",\"200084200\",\"50000000000\",\"18898187.6216583\",\"137500000\",\"9507271\",\"17405891.19707116\",\"61599965\",\"48252000\",\"4200000\",\"91388946\",\"45000000000\",\"27000000\",\"15733333\",\"24000000\",\"25000000000\",\"1200000000\",\"14788275.991\",\"9000000000\",\"30000000000\",\"210000000\",\"27716121\",\"150000000\",\"900000000\",\"4000000\",\"25000000\",\"1618033\",\"232000000\",\"800000000\",\"19340594\",\"124000000\",\"88000000\",\"80000000\",\"45000000\",\"5121951220\",\"26000000\",\"10200000000\",\"44000000\",\"84000000\",\"650000000 \",\"100262205\",\"18081806 \",\"82546564\",\"5151000\",\"16880000000\",\"52500000\",\"260000000\",\"366000000\",\"18000000000\",\"70000000000\",\"54000000\",\"19035999\",\"13370000\",\"74800000000\",\"19700000\",\"5000000000\",\"35000000000\",\"54256119\",\"10500000000\",\"190000000\",\"208000000\",\"160000000\",\"9000000\",\"16504333\",\"10008835635\",\"300000000\",\"60168145\",\"120000\",\"8634140\",\"250000000\",\"21000000000\",\"64000000\",\"169795588\",\"247000000\",\"48166000\",\"21000000 \",\"13140000\",\"18000000\",\"16555000000\",\"13500000000\",\"299792458\",\"32000000\",\"11235813\",\"336000000\",\"1420609614\",\"70000000\",\"72245700\",\"90600000000\",\"265420800\",\"1350000\",\"15000000000\",\"337000000\",\"51200000\",\"888000000\",\"47011968\",\"250000\",\"23000000\",\"10000000000\",\"105120000\",\"1680000000\",\"166386000\",\"2628000\",\"3371337\",\"1840000000\",\"619478\",\"92000000000\",\"65789100\",\"53760000\",\"210240000\",\"16906397\",\"16000000\",\"81962100\",\"21626280000 \",\"168351300\",\"616448\",\"9736000\",\"10638298\",\"21400000\",\"26205539\",\"228000000\",\"2714286\",\"9999999\",\"100000000000\",\"185000000\",\"3360000\",\"17000000\",\"100000000 \",\"2232901\",\"4000000000\",\"35520400\",\"2500000000\",\"72000000\",\"340282367\",\"19276800\",\" 75000000\",\"18900000\",\"1100000000\",\"88888888\",\"1800000000\",\"156306732.71\",\"280000000\",\"31800000\",\"660000000\",\"85000000000\",\"550000000\",\"999481516\",\"4999999999\",\" 90000000000\",\"19800000\",\"20166000\",\"16600000\",\"18406979840\",\"6500000000\",\"18400000\",\"26280000\",\"600000518\",\"184000000000\",\"168000000\",\"22075700\",\"22105263\",\"1750000000\",\"88188888\",\"2100000000\",\"7600000000\",\"8080000000\",\"105120001.44\",\"25228800\",\"262800000\",\"30886000\",\"2100000\",\"98100000000\",\"7000000000\",\"182000000\",\"2800000\",\"24487944\",\"1400222610\",\"990000000000\",\"86712634466\",\"5200000000\",\"840000000\",\"252460800\",\"314159265359\",\"384000000000\",\"184467440735\",\"125000000\",\"200000000000\",\"1000000000000\",\"184470000000\",\"159918400\"],\"tags\":[[[\"TotalCoinSupply\",\"TotalCoinSupply\",null]]]},\"id\":\"2963\",\"type\":\"FactorRange\"},{\"attributes\":{\"overlay\":{\"id\":\"3016\",\"type\":\"BoxAnnotation\"}},\"id\":\"2990\",\"type\":\"BoxZoomTool\"},{\"attributes\":{\"fill_color\":{\"value\":\"#d62628\"},\"line_color\":{\"value\":\"#d62628\"},\"size\":{\"units\":\"screen\",\"value\":5.477225575051661},\"x\":{\"field\":\"TotalCoinsMined\"},\"y\":{\"field\":\"TotalCoinSupply\"}},\"id\":\"3058\",\"type\":\"Scatter\"},{\"attributes\":{},\"id\":\"2974\",\"type\":\"LinearScale\"},{\"attributes\":{},\"id\":\"2988\",\"type\":\"PanTool\"},{\"attributes\":{\"fill_color\":{\"value\":\"#1f77b3\"},\"line_color\":{\"value\":\"#1f77b3\"},\"size\":{\"units\":\"screen\",\"value\":5.477225575051661},\"x\":{\"field\":\"TotalCoinsMined\"},\"y\":{\"field\":\"TotalCoinSupply\"}},\"id\":\"3006\",\"type\":\"Scatter\"},{\"attributes\":{\"callback\":null,\"data\":{\"Class\":[3,3,3,3,3],\"CoinName\":[\"Vechain\",\"BiblePay\",\"LitecoinCash\",\"Poa Network\",\"nan\"],\"TotalCoinSupply\":[\"86712634466\",\"5200000000\",\"840000000\",\"252460800\",\"5000000000\"],\"TotalCoinsMined\":{\"__ndarray__\":\"AACgM7jSKULx13gn/mfaQZawGn54BsNBAAAAfjRgqEHSe7+80gv2wQ==\",\"dtype\":\"float64\",\"shape\":[5]}},\"selected\":{\"id\":\"3056\",\"type\":\"Selection\"},\"selection_policy\":{\"id\":\"3096\",\"type\":\"UnionRenderers\"}},\"id\":\"3055\",\"type\":\"ColumnDataSource\"},{\"attributes\":{},\"id\":\"3000\",\"type\":\"BasicTickFormatter\"},{\"attributes\":{\"active_drag\":\"auto\",\"active_inspect\":\"auto\",\"active_multi\":null,\"active_scroll\":\"auto\",\"active_tap\":\"auto\",\"tools\":[{\"id\":\"2964\",\"type\":\"HoverTool\"},{\"id\":\"2987\",\"type\":\"SaveTool\"},{\"id\":\"2988\",\"type\":\"PanTool\"},{\"id\":\"2989\",\"type\":\"WheelZoomTool\"},{\"id\":\"2990\",\"type\":\"BoxZoomTool\"},{\"id\":\"2991\",\"type\":\"ResetTool\"}]},\"id\":\"2992\",\"type\":\"Toolbar\"},{\"attributes\":{\"data_source\":{\"id\":\"3019\",\"type\":\"ColumnDataSource\"},\"glyph\":{\"id\":\"3022\",\"type\":\"Scatter\"},\"hover_glyph\":null,\"muted_glyph\":{\"id\":\"3024\",\"type\":\"Scatter\"},\"nonselection_glyph\":{\"id\":\"3023\",\"type\":\"Scatter\"},\"selection_glyph\":null,\"view\":{\"id\":\"3026\",\"type\":\"CDSView\"}},\"id\":\"3025\",\"type\":\"GlyphRenderer\"},{\"attributes\":{\"dimension\":1,\"grid_line_color\":null,\"ticker\":{\"id\":\"2984\",\"type\":\"CategoricalTicker\"}},\"id\":\"2986\",\"type\":\"Grid\"},{\"attributes\":{\"callback\":null,\"data\":{\"Class\":[2],\"CoinName\":[\"BitTorrent\"],\"TotalCoinSupply\":[\"990000000000\"],\"TotalCoinsMined\":{\"__ndarray__\":\"xfR7nv3PbEI=\",\"dtype\":\"float64\",\"shape\":[1]}},\"selected\":{\"id\":\"3037\",\"type\":\"Selection\"},\"selection_policy\":{\"id\":\"3073\",\"type\":\"UnionRenderers\"}},\"id\":\"3036\",\"type\":\"ColumnDataSource\"},{\"attributes\":{\"fill_alpha\":{\"value\":0.1},\"fill_color\":{\"value\":\"#d62628\"},\"line_alpha\":{\"value\":0.1},\"line_color\":{\"value\":\"#d62628\"},\"size\":{\"units\":\"screen\",\"value\":5.477225575051661},\"x\":{\"field\":\"TotalCoinsMined\"},\"y\":{\"field\":\"TotalCoinSupply\"}},\"id\":\"3059\",\"type\":\"Scatter\"},{\"attributes\":{\"fill_alpha\":{\"value\":0.2},\"fill_color\":{\"value\":\"#9367bc\"},\"line_alpha\":{\"value\":0.2},\"line_color\":{\"value\":\"#9367bc\"},\"size\":{\"units\":\"screen\",\"value\":5.477225575051661},\"x\":{\"field\":\"TotalCoinsMined\"},\"y\":{\"field\":\"TotalCoinSupply\"}},\"id\":\"3081\",\"type\":\"Scatter\"},{\"attributes\":{\"source\":{\"id\":\"3076\",\"type\":\"ColumnDataSource\"}},\"id\":\"3083\",\"type\":\"CDSView\"},{\"attributes\":{},\"id\":\"3073\",\"type\":\"UnionRenderers\"},{\"attributes\":{},\"id\":\"3096\",\"type\":\"UnionRenderers\"},{\"attributes\":{\"source\":{\"id\":\"3055\",\"type\":\"ColumnDataSource\"}},\"id\":\"3062\",\"type\":\"CDSView\"},{\"attributes\":{},\"id\":\"3033\",\"type\":\"UnionRenderers\"},{\"attributes\":{},\"id\":\"3020\",\"type\":\"Selection\"},{\"attributes\":{\"fill_color\":{\"value\":\"#9367bc\"},\"line_color\":{\"value\":\"#9367bc\"},\"size\":{\"units\":\"screen\",\"value\":5.477225575051661},\"x\":{\"field\":\"TotalCoinsMined\"},\"y\":{\"field\":\"TotalCoinSupply\"}},\"id\":\"3079\",\"type\":\"Scatter\"},{\"attributes\":{},\"id\":\"3037\",\"type\":\"Selection\"},{\"attributes\":{\"axis_label\":\"TotalCoinSupply\",\"bounds\":\"auto\",\"formatter\":{\"id\":\"3001\",\"type\":\"CategoricalTickFormatter\"},\"major_label_orientation\":\"horizontal\",\"ticker\":{\"id\":\"2984\",\"type\":\"CategoricalTicker\"}},\"id\":\"2983\",\"type\":\"CategoricalAxis\"},{\"attributes\":{\"callback\":null,\"data\":{\"Class\":[1,1,1,1,1,1,1,1,1,1,1,1,1,1,1,1,1,1,1,1,1,1,1,1,1,1,1,1,1,1,1,1,1,1,1,1,1,1,1,1,1,1,1,1,1,1,1,1,1,1,1,1,1,1,1,1,1,1,1,1,1,1,1,1,1,1,1,1,1,1,1,1,1,1,1,1,1,1,1,1,1,1,1,1,1,1,1,1,1,1,1,1,1,1,1,1,1,1,1,1,1,1,1,1,1,1,1,1,1,1,1,1,1,1,1,1,1,1,1,1,1,1,1,1,1,1,1,1,1,1,1,1,1,1,1,1,1,1,1,1,1,1,1,1,1,1,1,1,1,1,1,1,1,1,1,1,1,1,1,1,1,1,1,1,1,1,1,1,1,1,1,1,1,1,1,1,1,1,1,1,1,1,1,1,1,1,1,1,1,1,1,1,1,1,1,1,1,1,1,1,1,1,1,1,1,1,1,1,1,1,1,1,1,1,1,1,1,1,1,1,1,1,1,1,1,1,1,1,1,1,1,1,1],\"CoinName\":[\"Bitcoin\",\"Ethereum\",\"Litecoin\",\"Monero\",\"Ethereum Classic\",\"ZCash\",\"DigiByte\",\"ProsperCoin\",\"Spreadcoin\",\"Argentum\",\"MyriadCoin\",\"ZetaCoin\",\"SexCoin\",\"Quatloo\",\"QuarkCoin\",\"Riecoin\",\"Digitalcoin \",\"Catcoin\",\"CannaCoin\",\"CryptCoin\",\"Verge\",\"DevCoin\",\"EarthCoin\",\"E-Gulden\",\"Einsteinium\",\"Emerald\",\"Franko\",\"FeatherCoin\",\"GrandCoin\",\"GlobalCoin\",\"GoldCoin\",\"Infinite Coin\",\"IXcoin\",\"KrugerCoin\",\"LuckyCoin\",\"Litebar \",\"MegaCoin\",\"MediterraneanCoin\",\"MinCoin\",\"NobleCoin\",\"Namecoin\",\"NyanCoin\",\"RonPaulCoin\",\"StableCoin\",\"SmartCoin\",\"SysCoin\",\"TigerCoin\",\"TerraCoin\",\"UnbreakableCoin\",\"Unobtanium\",\"UroCoin\",\"ViaCoin\",\"Vertcoin\",\"WorldCoin\",\"JouleCoin\",\"DigitalNote \",\"MonaCoin\",\"Gulden\",\"PesetaCoin\",\"Wild Beast Coin\",\"Flo\",\"ArtByte\",\"Folding Coin\",\"Unitus\",\"CypherPunkCoin\",\"OmniCron\",\"GreenCoin\",\"Cryptonite\",\"MasterCoin\",\"SoonCoin\",\"1Credit\",\"MarsCoin \",\"Crypto\",\"Anarchists Prime\",\"BowsCoin\",\"Song Coin\",\"BitZeny\",\"Expanse\",\"Siacoin\",\"MindCoin\",\"I0coin\",\"Revolution VR\",\"HOdlcoin\",\"Gamecredits\",\"CarpeDiemCoin\",\"Adzcoin\",\"SoilCoin\",\"YoCoin\",\"SibCoin\",\"Francs\",\"BolivarCoin\",\"Omni\",\"PizzaCoin\",\"Komodo\",\"Karbo\",\"ZayedCoin\",\"Circuits of Value\",\"DopeCoin\",\"DollarCoin\",\"Shilling\",\"ZCoin\",\"Elementrem\",\"ZClassic\",\"KiloCoin\",\"ArtexCoin\",\"Kurrent\",\"Cannabis Industry Coin\",\"OsmiumCoin\",\"Bikercoins\",\"HexxCoin\",\"PacCoin\",\"Citadel\",\"BeaverCoin\",\"VaultCoin\",\"Zero\",\"Canada eCoin\",\"Zoin\",\"DubaiCoin\",\"EB3coin\",\"Coinonat\",\"BenjiRolls\",\"ILCoin\",\"EquiTrader\",\"Quantum Resistant Ledger\",\"Dynamic\",\"Nano\",\"ChanCoin\",\"Dinastycoin\",\"DigitalPrice\",\"Unify\",\"SocialCoin\",\"ArcticCoin\",\"DAS\",\"LeviarCoin\",\"Bitcore\",\"SmartCash\",\"Onix\",\"Bitcoin Cash\",\"Sojourn Coin\",\"NewYorkCoin\",\"FrazCoin\",\"Kronecoin\",\"AdCoin\",\"Linx\",\"Sumokoin\",\"BitcoinZ\",\"Elements\",\"VIVO Coin\",\"Bitcoin Gold\",\"Pirl\",\"eBoost\",\"Pura\",\"Innova\",\"Ellaism\",\"GoByte\",\"SHIELD\",\"UltraNote\",\"BitCoal\",\"DaxxCoin\",\"AC3\",\"Lethean\",\"PopularCoin\",\"Photon\",\"Sucre\",\"SparksPay\",\"GunCoin\",\"IrishCoin\",\"Pioneer Coin\",\"UnitedBitcoin\",\"Interzone\",\"MUNcoin\",\"Niobio Cash\",\"ShareChain\",\"Travelflex\",\"KREDS\",\"BitFlip\",\"LottoCoin\",\"Crypto Improvement Fund\",\"Callisto Network\",\"BitTube\",\"Poseidon\",\"Aidos Kuneen\",\"Bitrolium\",\"Alpenschillling\",\"FuturoCoin\",\"Monero Classic\",\"Jumpcoin\",\"Infinex\",\"KEYCO\",\"GINcoin\",\"PlatinCoin\",\"Loki\",\"Newton Coin\",\"MassGrid\",\"PluraCoin\",\"Motion\",\"PlusOneCoin\",\"Axe\",\"HexCoin\",\"Webchain\",\"Ryo\",\"Urals Coin\",\"Project Pai\",\"Azart\",\"Xchange\",\"CrypticCoin\",\"Actinium\",\"Bitcoin SV\",\"FREDEnergy\",\"Universal Molecule\",\"Lithium\",\"Exosis\",\"Block-Logic\",\"Beam\",\"Bithereum\",\"SLICE\",\"BLAST\",\"Bitcoin Rhodium\",\"GlobalToken\",\"SolarCoin\",\"UFO Coin\",\"BlakeCoin\",\"Crypto Escudo\",\"Crown Coin\",\"SmileyCoin\",\"Groestlcoin\",\"Bata\",\"Pakcoin\",\"JoinCoin\",\"Vollar\",\"Reality Clash\",\"Beldex\",\"Horizen\"],\"TotalCoinSupply\":[\"21000000\",\"0\",\"84000000\",\"0\",\"210000000\",\"21000000\",\"21000000000\",\"21000000\",\"20000000\",\"64000000\",\"2000000000\",\"169795588\",\"250000000\",\"100000000\",\"247000000\",\"84000000\",\"48166000\",\"21000000 \",\"13140000\",\"18000000\",\"16555000000\",\"21000000000\",\"13500000000\",\"21000000 \",\"299792458\",\"32000000\",\"11235813\",\"336000000\",\"1420609614\",\"70000000\",\"72245700\",\"90600000000\",\"21000000\",\"265420800\",\"20000000\",\"1350000\",\"42000000\",\"200000000\",\"10000000\",\"15000000000\",\"21000000\",\"337000000\",\"21000000\",\"250000000\",\"51200000\",\"888000000\",\"47011968\",\"42000000\",\"80000000\",\"250000\",\"0\",\"23000000\",\"84000000\",\"265420800\",\"45000000\",\"10000000000\",\"105120000\",\"1680000000\",\"166386000\",\"2628000\",\"160000000\",\"1000000000\",\"1000000000\",\"0\",\"0\",\"3371337\",\"10000000000\",\"1840000000\",\"619478\",\"21000000\",\"92000000000\",\"33000000\",\"65789100\",\"53760000\",\"21000000\",\"210240000\",\"250000000\",\"16906397\",\"0\",\"16000000\",\"21000000\",\"210000000\",\"81962100\",\"84000000\",\"21626280000 \",\"84000000\",\"30000000\",\"168351300\",\"24000000\",\"20000000\",\"25000000\",\"616448\",\"25000000\",\"200000000\",\"10000000\",\"9736000\",\"1200000000\",\"200000000\",\"10638298\",\"30000000\",\"21400000\",\"26205539\",\"21000000\",\"10000000000\",\"500000000\",\"228000000\",\"21000000\",\"2714286\",\"25000000\",\"9999999\",\"100000000000\",\"185000000\",\"3360000\",\"1000000000\",\"17000000\",\"100000000 \",\"21000000\",\"2232901\",\"4000000000\",\"48252000\",\"35520400\",\"2500000000\",\"72000000\",\"105000000\",\"0\",\"340282367\",\"30000000\",\"2000000000\",\"100000000\",\"19276800\",\" 75000000\",\"60000000\",\"18900000\",\"54000000\",\"21000000\",\"5000000000\",\"1100000000\",\"21000000\",\"10500000000\",\"0\",\"20000000\",\"84000000\",\"100000000\",\"100000000\",\"88888888\",\"21000000000\",\"1800000000\",\"27000000\",\"21000000\",\"156306732.71\",\"100000000\",\"350000000\",\"45000000\",\"280000000\",\"31800000\",\"660000000\",\"85000000000\",\"12500000\",\"10000000000\",\"550000000\",\"999481516\",\"4999999999\",\" 90000000000\",\"19800000\",\"21000000\",\"500000000\",\"64000000\",\"23000000\",\"20166000\",\"23000000\",\"16600000\",\"336000000\",\"10000000000\",\"100000000\",\"1100000000\",\"40000000\",\"18406979840\",\"500000000\",\"6500000000\",\"1000000000\",\"21000000\",\"25000000\",\"70000000\",\"300000000\",\"100000000\",\"18400000\",\"21000000\",\"26280000\",\"18000000\",\"10500000\",\"600000518\",\"150000000\",\"184000000000\",\"168000000\",\"1000000000\",\"22075700\",\"21000000\",\"21000000\",\"22105263\",\"1750000000\",\"88188888\",\"210000000\",\"2100000000\",\"25000000\",\"100000000\",\"7600000000\",\"84000000\",\"21000000\",\"8080000000\",\"105120001.44\",\"25228800\",\"21000000\",\"120000000\",\"262800000\",\"30886000\",\"100000000\",\"64000000\",\"2100000\",\"168000000\",\"98100000000\",\"4000000000\",\"7000000000\",\"1000000000\",\"42000000\",\"50000000000\",\"105000000\",\"5000000\",\"182000000\",\"2800000\",\"2100000000\",\"24487944\",\"1400222610\",\"21000000\"],\"TotalCoinsMined\":{\"__ndarray__\":\"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\",\"dtype\":\"float64\",\"shape\":[233]}},\"selected\":{\"id\":\"3020\",\"type\":\"Selection\"},\"selection_policy\":{\"id\":\"3052\",\"type\":\"UnionRenderers\"}},\"id\":\"3019\",\"type\":\"ColumnDataSource\"},{\"attributes\":{\"data_source\":{\"id\":\"3076\",\"type\":\"ColumnDataSource\"},\"glyph\":{\"id\":\"3079\",\"type\":\"Scatter\"},\"hover_glyph\":null,\"muted_glyph\":{\"id\":\"3081\",\"type\":\"Scatter\"},\"nonselection_glyph\":{\"id\":\"3080\",\"type\":\"Scatter\"},\"selection_glyph\":null,\"view\":{\"id\":\"3083\",\"type\":\"CDSView\"}},\"id\":\"3082\",\"type\":\"GlyphRenderer\"},{\"attributes\":{\"fill_alpha\":{\"value\":0.1},\"fill_color\":{\"value\":\"#2ba02b\"},\"line_alpha\":{\"value\":0.1},\"line_color\":{\"value\":\"#2ba02b\"},\"size\":{\"units\":\"screen\",\"value\":5.477225575051661},\"x\":{\"field\":\"TotalCoinsMined\"},\"y\":{\"field\":\"TotalCoinSupply\"}},\"id\":\"3040\",\"type\":\"Scatter\"},{\"attributes\":{},\"id\":\"2991\",\"type\":\"ResetTool\"}],\"root_ids\":[\"2969\"]},\"title\":\"Bokeh Application\",\"version\":\"1.3.4\"}};\n",
       "  var render_items = [{\"docid\":\"7317856d-6ffa-48e6-a6d6-091a1272fdc7\",\"roots\":{\"2969\":\"aafbd4f2-89da-401a-807f-fe5baaf0b334\"}}];\n",
       "  root.Bokeh.embed.embed_items_notebook(docs_json, render_items);\n",
       "\n",
       "  }\n",
       "  if (root.Bokeh !== undefined) {\n",
       "    embed_document(root);\n",
       "  } else {\n",
       "    var attempts = 0;\n",
       "    var timer = setInterval(function(root) {\n",
       "      if (root.Bokeh !== undefined) {\n",
       "        embed_document(root);\n",
       "        clearInterval(timer);\n",
       "      }\n",
       "      attempts++;\n",
       "      if (attempts > 100) {\n",
       "        console.log(\"Bokeh: ERROR: Unable to run BokehJS code because BokehJS library is missing\");\n",
       "        clearInterval(timer);\n",
       "      }\n",
       "    }, 10, root)\n",
       "  }\n",
       "})(window);</script>"
      ],
      "text/plain": [
       ":NdOverlay   [Class]\n",
       "   :Scatter   [TotalCoinsMined]   (TotalCoinSupply,CoinName)"
      ]
     },
     "execution_count": 282,
     "metadata": {
      "application/vnd.holoviews_exec.v0+json": {
       "id": "2969"
      }
     },
     "output_type": "execute_result"
    }
   ],
   "source": [
    "#plotting a scatter plot to present the clustered data about cryptocurrencies\n",
    "fig = clustered_df.hvplot.scatter(\n",
    "    x=\"TotalCoinsMined\",\n",
    "    y = \"TotalCoinSupply\",\n",
    "    hover_cols=[\"CoinName\"],\n",
    "    by=\"Class\"\n",
    "    )\n",
    "\n",
    "fig"
   ]
  }
 ],
 "metadata": {
  "kernelspec": {
   "display_name": "PythonData",
   "language": "python",
   "name": "pythondata"
  },
  "language_info": {
   "codemirror_mode": {
    "name": "ipython",
    "version": 3
   },
   "file_extension": ".py",
   "mimetype": "text/x-python",
   "name": "python",
   "nbconvert_exporter": "python",
   "pygments_lexer": "ipython3",
   "version": "3.7.4"
  }
 },
 "nbformat": 4,
 "nbformat_minor": 2
}
